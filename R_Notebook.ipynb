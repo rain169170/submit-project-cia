{
  "nbformat": 4,
  "nbformat_minor": 0,
  "metadata": {
    "colab": {
      "name": "R Notebook.ipynb",
      "provenance": [],
      "collapsed_sections": []
    },
    "kernelspec": {
      "name": "ir",
      "display_name": "R"
    }
  },
  "cells": [
    {
      "cell_type": "code",
      "metadata": {
        "id": "5RvSglzfqg_t",
        "colab_type": "code",
        "outputId": "606957c4-a4b2-4577-85c8-a0b4d54116e7",
        "colab": {
          "base_uri": "https://localhost:8080/",
          "height": 323
        }
      },
      "source": [
        "library(tidyverse)\n",
        "if (!require(devtools)) {\n",
        "    install.packages('devtools')\n",
        "}\n",
        "devtools::install_github('erocoar/gghalves')\n",
        "library(gghalves)"
      ],
      "execution_count": 0,
      "outputs": [
        {
          "output_type": "stream",
          "text": [
            "── \u001b[1mAttaching packages\u001b[22m ─────────────────────────────────────── tidyverse 1.3.0 ──\n",
            "\n",
            "\u001b[32m✔\u001b[39m \u001b[34mggplot2\u001b[39m 3.3.1     \u001b[32m✔\u001b[39m \u001b[34mpurrr  \u001b[39m 0.3.4\n",
            "\u001b[32m✔\u001b[39m \u001b[34mtibble \u001b[39m 3.0.1     \u001b[32m✔\u001b[39m \u001b[34mdplyr  \u001b[39m 1.0.0\n",
            "\u001b[32m✔\u001b[39m \u001b[34mtidyr  \u001b[39m 1.1.0     \u001b[32m✔\u001b[39m \u001b[34mstringr\u001b[39m 1.4.0\n",
            "\u001b[32m✔\u001b[39m \u001b[34mreadr  \u001b[39m 1.3.1     \u001b[32m✔\u001b[39m \u001b[34mforcats\u001b[39m 0.5.0\n",
            "\n",
            "── \u001b[1mConflicts\u001b[22m ────────────────────────────────────────── tidyverse_conflicts() ──\n",
            "\u001b[31m✖\u001b[39m \u001b[34mdplyr\u001b[39m::\u001b[32mfilter()\u001b[39m masks \u001b[34mstats\u001b[39m::filter()\n",
            "\u001b[31m✖\u001b[39m \u001b[34mdplyr\u001b[39m::\u001b[32mlag()\u001b[39m    masks \u001b[34mstats\u001b[39m::lag()\n",
            "\n",
            "Loading required package: devtools\n",
            "\n",
            "Loading required package: usethis\n",
            "\n",
            "Skipping install of 'gghalves' from a github remote, the SHA1 (ab17fa44) has not changed since last install.\n",
            "  Use `force = TRUE` to force installation\n",
            "\n"
          ],
          "name": "stderr"
        }
      ]
    },
    {
      "cell_type": "code",
      "metadata": {
        "id": "j4ewUmeieE5V",
        "colab_type": "code",
        "outputId": "f2310997-041a-46b3-af06-bd1a9e942593",
        "colab": {
          "base_uri": "https://localhost:8080/",
          "height": 731
        }
      },
      "source": [
        "na_full = read.csv(\"./full_table.csv\")\n",
        "attach(na_full)"
      ],
      "execution_count": 0,
      "outputs": [
        {
          "output_type": "stream",
          "text": [
            "The following objects are masked from na_full (pos = 6):\n",
            "\n",
            "    Banned.visits.to.long.term.care.homes, cases_APR_to_MAY,\n",
            "    cases_MAR_to_APR, Closed.cannabis.and.liquor.stores,\n",
            "    Closed.daycares, Closed.gyms, Closed.movie.theaters,\n",
            "    Closed.non.essential.businesses,\n",
            "    Closed.restaurants.except.take.out, Declared.state.of.emergency,\n",
            "    Employee.Face.Mask.Mandate, Employee.Screening, Froze.evictions,\n",
            "    Large.Gathering.ban, MoM.Growth, Ordered.Closure.of.K.12.schools,\n",
            "    Ordered.freezing.utility.shut.offs, percentage_infected_MAY,\n",
            "    Public.Face.Mask.Mandate, State.Province, Travel.Restriction,\n",
            "    YoY.Growth\n",
            "\n",
            "\n",
            "The following objects are masked from na_full (pos = 7):\n",
            "\n",
            "    Banned.visits.to.long.term.care.homes, cases_APR_to_MAY,\n",
            "    cases_MAR_to_APR, Closed.cannabis.and.liquor.stores,\n",
            "    Closed.daycares, Closed.gyms, Closed.movie.theaters,\n",
            "    Closed.non.essential.businesses,\n",
            "    Closed.restaurants.except.take.out, Declared.state.of.emergency,\n",
            "    Employee.Face.Mask.Mandate, Employee.Screening, Froze.evictions,\n",
            "    Large.Gathering.ban, MoM.Growth, Ordered.Closure.of.K.12.schools,\n",
            "    Ordered.freezing.utility.shut.offs, percentage_infected_MAY,\n",
            "    Public.Face.Mask.Mandate, State.Province, Travel.Restriction,\n",
            "    YoY.Growth\n",
            "\n",
            "\n",
            "The following objects are masked from na_full (pos = 8):\n",
            "\n",
            "    Banned.visits.to.long.term.care.homes, cases_APR_to_MAY,\n",
            "    cases_MAR_to_APR, Closed.cannabis.and.liquor.stores,\n",
            "    Closed.daycares, Closed.gyms, Closed.movie.theaters,\n",
            "    Closed.non.essential.businesses,\n",
            "    Closed.restaurants.except.take.out, Declared.state.of.emergency,\n",
            "    Employee.Face.Mask.Mandate, Employee.Screening, Froze.evictions,\n",
            "    Large.Gathering.ban, MoM.Growth, Ordered.Closure.of.K.12.schools,\n",
            "    Ordered.freezing.utility.shut.offs, percentage_infected_MAY,\n",
            "    Public.Face.Mask.Mandate, State.Province, Travel.Restriction,\n",
            "    YoY.Growth\n",
            "\n",
            "\n"
          ],
          "name": "stderr"
        }
      ]
    },
    {
      "cell_type": "code",
      "metadata": {
        "id": "Uu0og7h0eOxN",
        "colab_type": "code",
        "outputId": "2fbfb160-72c9-41ba-e69a-acd3261568d3",
        "colab": {
          "base_uri": "https://localhost:8080/",
          "height": 224
        }
      },
      "source": [
        "head(na_full)"
      ],
      "execution_count": 0,
      "outputs": [
        {
          "output_type": "display_data",
          "data": {
            "text/plain": [
              "  State.Province cases_MAR_to_APR cases_APR_to_MAY percentage_infected_MAY\n",
              "1 Alabama        18339.130        168.16788        2.3195127              \n",
              "2 Alaska         29000.000         33.33333        0.5303843              \n",
              "3 Arizona        30376.923        232.38263        1.8092474              \n",
              "4 Arkansas        9893.750        179.11194        1.4788899              \n",
              "5 California      5570.921        184.11480        1.9491437              \n",
              "6 Colorado        5988.235        156.12319        3.6825790              \n",
              "  YoY.Growth MoM.Growth Declared.state.of.emergency\n",
              "1 298.6612   323.53740  1                          \n",
              "2 104.5563   142.48127  1                          \n",
              "3 162.8740   103.26670  1                          \n",
              "4 178.0737    92.12081  1                          \n",
              "5 257.7773   174.22880  1                          \n",
              "6 283.0833   112.05777  1                          \n",
              "  Ordered.Closure.of.K.12.schools Closed.daycares\n",
              "1 1                               1              \n",
              "2 1                               0              \n",
              "3 1                               0              \n",
              "4 1                               0              \n",
              "5 0                               0              \n",
              "6 1                               0              \n",
              "  Banned.visits.to.long.term.care.homes ⋯ Closed.cannabis.and.liquor.stores\n",
              "1 1                                     ⋯ 1                                \n",
              "2 0                                     ⋯ 1                                \n",
              "3 0                                     ⋯ 1                                \n",
              "4 1                                     ⋯ 1                                \n",
              "5 0                                     ⋯ 1                                \n",
              "6 1                                     ⋯ 1                                \n",
              "  Closed.gyms Closed.movie.theaters Froze.evictions\n",
              "1 1           1                     0              \n",
              "2 1           1                     1              \n",
              "3 1           1                     0              \n",
              "4 1           0                     0              \n",
              "5 1           1                     1              \n",
              "6 1           1                     0              \n",
              "  Ordered.freezing.utility.shut.offs Public.Face.Mask.Mandate\n",
              "1 0                                  0                       \n",
              "2 1                                  0                       \n",
              "3 0                                  0                       \n",
              "4 1                                  0                       \n",
              "5 1                                  0                       \n",
              "6 1                                  0                       \n",
              "  Employee.Face.Mask.Mandate Travel.Restriction Large.Gathering.ban\n",
              "1 1                          0                  1                  \n",
              "2 1                          1                  1                  \n",
              "3 1                          1                  1                  \n",
              "4 1                          1                  1                  \n",
              "5 1                          0                  1                  \n",
              "6 1                          0                  1                  \n",
              "  Employee.Screening\n",
              "1 0                 \n",
              "2 0                 \n",
              "3 0                 \n",
              "4 1                 \n",
              "5 1                 \n",
              "6 1                 "
            ],
            "text/latex": "A data.frame: 6 × 22\n\\begin{tabular}{r|lllllllllllllllllllll}\n  & State.Province & cases\\_MAR\\_to\\_APR & cases\\_APR\\_to\\_MAY & percentage\\_infected\\_MAY & YoY.Growth & MoM.Growth & Declared.state.of.emergency & Ordered.Closure.of.K.12.schools & Closed.daycares & Banned.visits.to.long.term.care.homes & ⋯ & Closed.cannabis.and.liquor.stores & Closed.gyms & Closed.movie.theaters & Froze.evictions & Ordered.freezing.utility.shut.offs & Public.Face.Mask.Mandate & Employee.Face.Mask.Mandate & Travel.Restriction & Large.Gathering.ban & Employee.Screening\\\\\n  & <fct> & <dbl> & <dbl> & <dbl> & <dbl> & <dbl> & <int> & <int> & <int> & <int> & ⋯ & <int> & <int> & <int> & <int> & <int> & <int> & <int> & <int> & <int> & <int>\\\\\n\\hline\n\t1 & Alabama    & 18339.130 & 168.16788 & 2.3195127 & 298.6612 & 323.53740 & 1 & 1 & 1 & 1 & ⋯ & 1 & 1 & 1 & 0 & 0 & 0 & 1 & 0 & 1 & 0\\\\\n\t2 & Alaska     & 29000.000 &  33.33333 & 0.5303843 & 104.5563 & 142.48127 & 1 & 1 & 0 & 0 & ⋯ & 1 & 1 & 1 & 1 & 1 & 0 & 1 & 1 & 1 & 0\\\\\n\t3 & Arizona    & 30376.923 & 232.38263 & 1.8092474 & 162.8740 & 103.26670 & 1 & 1 & 0 & 0 & ⋯ & 1 & 1 & 1 & 0 & 0 & 0 & 1 & 1 & 1 & 0\\\\\n\t4 & Arkansas   &  9893.750 & 179.11194 & 1.4788899 & 178.0737 &  92.12081 & 1 & 1 & 0 & 1 & ⋯ & 1 & 1 & 0 & 0 & 1 & 0 & 1 & 1 & 1 & 1\\\\\n\t5 & California &  5570.921 & 184.11480 & 1.9491437 & 257.7773 & 174.22880 & 1 & 0 & 0 & 0 & ⋯ & 1 & 1 & 1 & 1 & 1 & 0 & 1 & 0 & 1 & 1\\\\\n\t6 & Colorado   &  5988.235 & 156.12319 & 3.6825790 & 283.0833 & 112.05777 & 1 & 1 & 0 & 1 & ⋯ & 1 & 1 & 1 & 0 & 1 & 0 & 1 & 0 & 1 & 1\\\\\n\\end{tabular}\n",
            "text/markdown": "\nA data.frame: 6 × 22\n\n| <!--/--> | State.Province &lt;fct&gt; | cases_MAR_to_APR &lt;dbl&gt; | cases_APR_to_MAY &lt;dbl&gt; | percentage_infected_MAY &lt;dbl&gt; | YoY.Growth &lt;dbl&gt; | MoM.Growth &lt;dbl&gt; | Declared.state.of.emergency &lt;int&gt; | Ordered.Closure.of.K.12.schools &lt;int&gt; | Closed.daycares &lt;int&gt; | Banned.visits.to.long.term.care.homes &lt;int&gt; | ⋯ ⋯ | Closed.cannabis.and.liquor.stores &lt;int&gt; | Closed.gyms &lt;int&gt; | Closed.movie.theaters &lt;int&gt; | Froze.evictions &lt;int&gt; | Ordered.freezing.utility.shut.offs &lt;int&gt; | Public.Face.Mask.Mandate &lt;int&gt; | Employee.Face.Mask.Mandate &lt;int&gt; | Travel.Restriction &lt;int&gt; | Large.Gathering.ban &lt;int&gt; | Employee.Screening &lt;int&gt; |\n|---|---|---|---|---|---|---|---|---|---|---|---|---|---|---|---|---|---|---|---|---|---|\n| 1 | Alabama    | 18339.130 | 168.16788 | 2.3195127 | 298.6612 | 323.53740 | 1 | 1 | 1 | 1 | ⋯ | 1 | 1 | 1 | 0 | 0 | 0 | 1 | 0 | 1 | 0 |\n| 2 | Alaska     | 29000.000 |  33.33333 | 0.5303843 | 104.5563 | 142.48127 | 1 | 1 | 0 | 0 | ⋯ | 1 | 1 | 1 | 1 | 1 | 0 | 1 | 1 | 1 | 0 |\n| 3 | Arizona    | 30376.923 | 232.38263 | 1.8092474 | 162.8740 | 103.26670 | 1 | 1 | 0 | 0 | ⋯ | 1 | 1 | 1 | 0 | 0 | 0 | 1 | 1 | 1 | 0 |\n| 4 | Arkansas   |  9893.750 | 179.11194 | 1.4788899 | 178.0737 |  92.12081 | 1 | 1 | 0 | 1 | ⋯ | 1 | 1 | 0 | 0 | 1 | 0 | 1 | 1 | 1 | 1 |\n| 5 | California |  5570.921 | 184.11480 | 1.9491437 | 257.7773 | 174.22880 | 1 | 0 | 0 | 0 | ⋯ | 1 | 1 | 1 | 1 | 1 | 0 | 1 | 0 | 1 | 1 |\n| 6 | Colorado   |  5988.235 | 156.12319 | 3.6825790 | 283.0833 | 112.05777 | 1 | 1 | 0 | 1 | ⋯ | 1 | 1 | 1 | 0 | 1 | 0 | 1 | 0 | 1 | 1 |\n\n",
            "text/html": [
              "<table>\n",
              "<caption>A data.frame: 6 × 22</caption>\n",
              "<thead>\n",
              "\t<tr><th></th><th scope=col>State.Province</th><th scope=col>cases_MAR_to_APR</th><th scope=col>cases_APR_to_MAY</th><th scope=col>percentage_infected_MAY</th><th scope=col>YoY.Growth</th><th scope=col>MoM.Growth</th><th scope=col>Declared.state.of.emergency</th><th scope=col>Ordered.Closure.of.K.12.schools</th><th scope=col>Closed.daycares</th><th scope=col>Banned.visits.to.long.term.care.homes</th><th scope=col>⋯</th><th scope=col>Closed.cannabis.and.liquor.stores</th><th scope=col>Closed.gyms</th><th scope=col>Closed.movie.theaters</th><th scope=col>Froze.evictions</th><th scope=col>Ordered.freezing.utility.shut.offs</th><th scope=col>Public.Face.Mask.Mandate</th><th scope=col>Employee.Face.Mask.Mandate</th><th scope=col>Travel.Restriction</th><th scope=col>Large.Gathering.ban</th><th scope=col>Employee.Screening</th></tr>\n",
              "\t<tr><th></th><th scope=col>&lt;fct&gt;</th><th scope=col>&lt;dbl&gt;</th><th scope=col>&lt;dbl&gt;</th><th scope=col>&lt;dbl&gt;</th><th scope=col>&lt;dbl&gt;</th><th scope=col>&lt;dbl&gt;</th><th scope=col>&lt;int&gt;</th><th scope=col>&lt;int&gt;</th><th scope=col>&lt;int&gt;</th><th scope=col>&lt;int&gt;</th><th scope=col>⋯</th><th scope=col>&lt;int&gt;</th><th scope=col>&lt;int&gt;</th><th scope=col>&lt;int&gt;</th><th scope=col>&lt;int&gt;</th><th scope=col>&lt;int&gt;</th><th scope=col>&lt;int&gt;</th><th scope=col>&lt;int&gt;</th><th scope=col>&lt;int&gt;</th><th scope=col>&lt;int&gt;</th><th scope=col>&lt;int&gt;</th></tr>\n",
              "</thead>\n",
              "<tbody>\n",
              "\t<tr><th scope=row>1</th><td>Alabama   </td><td>18339.130</td><td>168.16788</td><td>2.3195127</td><td>298.6612</td><td>323.53740</td><td>1</td><td>1</td><td>1</td><td>1</td><td>⋯</td><td>1</td><td>1</td><td>1</td><td>0</td><td>0</td><td>0</td><td>1</td><td>0</td><td>1</td><td>0</td></tr>\n",
              "\t<tr><th scope=row>2</th><td>Alaska    </td><td>29000.000</td><td> 33.33333</td><td>0.5303843</td><td>104.5563</td><td>142.48127</td><td>1</td><td>1</td><td>0</td><td>0</td><td>⋯</td><td>1</td><td>1</td><td>1</td><td>1</td><td>1</td><td>0</td><td>1</td><td>1</td><td>1</td><td>0</td></tr>\n",
              "\t<tr><th scope=row>3</th><td>Arizona   </td><td>30376.923</td><td>232.38263</td><td>1.8092474</td><td>162.8740</td><td>103.26670</td><td>1</td><td>1</td><td>0</td><td>0</td><td>⋯</td><td>1</td><td>1</td><td>1</td><td>0</td><td>0</td><td>0</td><td>1</td><td>1</td><td>1</td><td>0</td></tr>\n",
              "\t<tr><th scope=row>4</th><td>Arkansas  </td><td> 9893.750</td><td>179.11194</td><td>1.4788899</td><td>178.0737</td><td> 92.12081</td><td>1</td><td>1</td><td>0</td><td>1</td><td>⋯</td><td>1</td><td>1</td><td>0</td><td>0</td><td>1</td><td>0</td><td>1</td><td>1</td><td>1</td><td>1</td></tr>\n",
              "\t<tr><th scope=row>5</th><td>California</td><td> 5570.921</td><td>184.11480</td><td>1.9491437</td><td>257.7773</td><td>174.22880</td><td>1</td><td>0</td><td>0</td><td>0</td><td>⋯</td><td>1</td><td>1</td><td>1</td><td>1</td><td>1</td><td>0</td><td>1</td><td>0</td><td>1</td><td>1</td></tr>\n",
              "\t<tr><th scope=row>6</th><td>Colorado  </td><td> 5988.235</td><td>156.12319</td><td>3.6825790</td><td>283.0833</td><td>112.05777</td><td>1</td><td>1</td><td>0</td><td>1</td><td>⋯</td><td>1</td><td>1</td><td>1</td><td>0</td><td>1</td><td>0</td><td>1</td><td>0</td><td>1</td><td>1</td></tr>\n",
              "</tbody>\n",
              "</table>\n"
            ]
          },
          "metadata": {
            "tags": []
          }
        }
      ]
    },
    {
      "cell_type": "code",
      "metadata": {
        "id": "3PotyeASd82k",
        "colab_type": "code",
        "outputId": "60cda846-2dd7-4e56-cf21-501e2eba52b3",
        "colab": {
          "base_uri": "https://localhost:8080/",
          "height": 777
        }
      },
      "source": [
        "Y <- MoM.Growth\n",
        "X <- Closed.cannabis.and.liquor.stores\n",
        "\n",
        "na_full %>% \n",
        "\tggplot(aes(x = X, y = Y, group = X)) + \n",
        "  geom_half_dotplot(fill = \"lightblue3\") + \n",
        "  geom_half_boxplot(side=\"l\", fill = \"lightblue3\") +\n",
        "\tggtitle(\"MoM.Growth vs. Closed.cannabis.and.liquor.stores\")\n",
        "\n",
        "summary(lm(Y ~ X))"
      ],
      "execution_count": 0,
      "outputs": [
        {
          "output_type": "stream",
          "text": [
            "`stat_bindot()` using `bins = 30`. Pick better value with `binwidth`.\n",
            "\n"
          ],
          "name": "stderr"
        },
        {
          "output_type": "display_data",
          "data": {
            "text/plain": [
              "\n",
              "Call:\n",
              "lm(formula = Y ~ X)\n",
              "\n",
              "Residuals:\n",
              "    Min      1Q  Median      3Q     Max \n",
              "-219.63  -83.64  -26.56   74.03  543.54 \n",
              "\n",
              "Coefficients:\n",
              "            Estimate Std. Error t value Pr(>|t|)  \n",
              "(Intercept)    92.59      49.72   1.862   0.0679 .\n",
              "X             140.55      53.09   2.647   0.0106 *\n",
              "---\n",
              "Signif. codes:  0 ‘***’ 0.001 ‘**’ 0.01 ‘*’ 0.05 ‘.’ 0.1 ‘ ’ 1\n",
              "\n",
              "Residual standard error: 131.6 on 55 degrees of freedom\n",
              "Multiple R-squared:  0.113,\tAdjusted R-squared:  0.0969 \n",
              "F-statistic: 7.009 on 1 and 55 DF,  p-value: 0.01056\n"
            ]
          },
          "metadata": {
            "tags": []
          }
        },
        {
          "output_type": "display_data",
          "data": {
            "image/png": "[encoded data removed]",
            "text/plain": [
              "plot without title"
            ]
          },
          "metadata": {
            "tags": [],
            "image/png": {
              "width": 420,
              "height": 420
            },
            "text/plain": {
              "width": 420,
              "height": 420
            }
          }
        }
      ]
    },
    {
      "cell_type": "code",
      "metadata": {
        "id": "XEMibcDxiiB4",
        "colab_type": "code",
        "outputId": "cb21a9d9-c918-47c7-a72d-418ca2b16ef9",
        "colab": {
          "base_uri": "https://localhost:8080/",
          "height": 1000
        }
      },
      "source": [
        "jpeg(\"cases_MAR_to_APR vs. Declared.state.of.emergency.jpeg\", width = 1000, height = 1000) \n",
        "na_full %>% \n",
        "\tggplot(aes(x = Declared.state.of.emergency, y = cases_MAR_to_APR, group = Declared.state.of.emergency)) + \n",
        "\tgeom_half_dotplot(fill = \"lightblue3\") + \n",
        "\tgeom_half_boxplot(side=\"l\", fill = \"lightblue3\") + \n",
        "\tggtitle(\"cases_MAR_to_APR vs. Declared.state.of.emergency\")\n",
        "dev.off()\n",
        "jpeg(\"cases_MAR_to_APR vs. Ordered.Closure.of.K.12.schools.jpeg\", width = 1000, height = 1000) \n",
        "na_full %>% \n",
        "\tggplot(aes(x = Ordered.Closure.of.K.12.schools, y = cases_MAR_to_APR, group = Ordered.Closure.of.K.12.schools)) + \n",
        "\tgeom_half_dotplot(fill = \"lightblue3\") + \n",
        "\tgeom_half_boxplot(side=\"l\", fill = \"lightblue3\") + \n",
        "\tggtitle(\"cases_MAR_to_APR vs. Ordered.Closure.of.K.12.schools\")\n",
        "dev.off()\n",
        "jpeg(\"cases_MAR_to_APR vs. Closed.daycares.jpeg\", width = 1000, height = 1000) \n",
        "na_full %>% \n",
        "\tggplot(aes(x = Closed.daycares, y = cases_MAR_to_APR, group = Closed.daycares)) + \n",
        "\tgeom_half_dotplot(fill = \"lightblue3\") + \n",
        "\tgeom_half_boxplot(side=\"l\", fill = \"lightblue3\") + \n",
        "\tggtitle(\"cases_MAR_to_APR vs. Closed.daycares\")\n",
        "dev.off()\n",
        "jpeg(\"cases_MAR_to_APR vs. Banned.visits.to.long.term.care.homes.jpeg\", width = 1000, height = 1000) \n",
        "na_full %>% \n",
        "\tggplot(aes(x = Banned.visits.to.long.term.care.homes, y = cases_MAR_to_APR, group = Banned.visits.to.long.term.care.homes)) + \n",
        "\tgeom_half_dotplot(fill = \"lightblue3\") + \n",
        "\tgeom_half_boxplot(side=\"l\", fill = \"lightblue3\") + \n",
        "\tggtitle(\"cases_MAR_to_APR vs. Banned.visits.to.long.term.care.homes\")\n",
        "dev.off()\n",
        "jpeg(\"cases_MAR_to_APR vs. Closed.non.essential.businesses.jpeg\", width = 1000, height = 1000) \n",
        "na_full %>% \n",
        "\tggplot(aes(x = Closed.non.essential.businesses, y = cases_MAR_to_APR, group = Closed.non.essential.businesses)) + \n",
        "\tgeom_half_dotplot(fill = \"lightblue3\") + \n",
        "\tgeom_half_boxplot(side=\"l\", fill = \"lightblue3\") + \n",
        "\tggtitle(\"cases_MAR_to_APR vs. Closed.non.essential.businesses\")\n",
        "dev.off()\n",
        "jpeg(\"cases_MAR_to_APR vs. Closed.restaurants.except.take.out.jpeg\", width = 1000, height = 1000) \n",
        "na_full %>% \n",
        "\tggplot(aes(x = Closed.restaurants.except.take.out, y = cases_MAR_to_APR, group = Closed.restaurants.except.take.out)) + \n",
        "\tgeom_half_dotplot(fill = \"lightblue3\") + \n",
        "\tgeom_half_boxplot(side=\"l\", fill = \"lightblue3\") + \n",
        "\tggtitle(\"cases_MAR_to_APR vs. Closed.restaurants.except.take.out\")\n",
        "dev.off()\n",
        "jpeg(\"cases_MAR_to_APR vs. Closed.cannabis.and.liquor.stores.jpeg\", width = 1000, height = 1000) \n",
        "na_full %>% \n",
        "\tggplot(aes(x = Closed.cannabis.and.liquor.stores, y = cases_MAR_to_APR, group = Closed.cannabis.and.liquor.stores)) + \n",
        "\tgeom_half_dotplot(fill = \"lightblue3\") + \n",
        "\tgeom_half_boxplot(side=\"l\", fill = \"lightblue3\") + \n",
        "\tggtitle(\"cases_MAR_to_APR vs. Closed.cannabis.and.liquor.stores\")\n",
        "dev.off()\n",
        "jpeg(\"cases_MAR_to_APR vs. Closed.gyms.jpeg\", width = 1000, height = 1000) \n",
        "na_full %>% \n",
        "\tggplot(aes(x = Closed.gyms, y = cases_MAR_to_APR, group = Closed.gyms)) + \n",
        "\tgeom_half_dotplot(fill = \"lightblue3\") + \n",
        "\tgeom_half_boxplot(side=\"l\", fill = \"lightblue3\") + \n",
        "\tggtitle(\"cases_MAR_to_APR vs. Closed.gyms\")\n",
        "dev.off()\n",
        "jpeg(\"cases_MAR_to_APR vs. Closed.movie.theaters.jpeg\", width = 1000, height = 1000) \n",
        "na_full %>% \n",
        "\tggplot(aes(x = Closed.movie.theaters, y = cases_MAR_to_APR, group = Closed.movie.theaters)) + \n",
        "\tgeom_half_dotplot(fill = \"lightblue3\") + \n",
        "\tgeom_half_boxplot(side=\"l\", fill = \"lightblue3\") + \n",
        "\tggtitle(\"cases_MAR_to_APR vs. Closed.movie.theaters\")\n",
        "dev.off()\n",
        "jpeg(\"cases_MAR_to_APR vs. Froze.evictions.jpeg\", width = 1000, height = 1000) \n",
        "na_full %>% \n",
        "\tggplot(aes(x = Froze.evictions, y = cases_MAR_to_APR, group = Froze.evictions)) + \n",
        "\tgeom_half_dotplot(fill = \"lightblue3\") + \n",
        "\tgeom_half_boxplot(side=\"l\", fill = \"lightblue3\") + \n",
        "\tggtitle(\"cases_MAR_to_APR vs. Froze.evictions\")\n",
        "dev.off()\n",
        "jpeg(\"cases_MAR_to_APR vs. Ordered.freezing.utility.shut.offs.jpeg\", width = 1000, height = 1000) \n",
        "na_full %>% \n",
        "\tggplot(aes(x = Ordered.freezing.utility.shut.offs, y = cases_MAR_to_APR, group = Ordered.freezing.utility.shut.offs)) + \n",
        "\tgeom_half_dotplot(fill = \"lightblue3\") + \n",
        "\tgeom_half_boxplot(side=\"l\", fill = \"lightblue3\") + \n",
        "\tggtitle(\"cases_MAR_to_APR vs. Ordered.freezing.utility.shut.offs\")\n",
        "dev.off()\n",
        "jpeg(\"cases_MAR_to_APR vs. Public.Face.Mask.Mandate.jpeg\", width = 1000, height = 1000) \n",
        "na_full %>% \n",
        "\tggplot(aes(x = Public.Face.Mask.Mandate, y = cases_MAR_to_APR, group = Public.Face.Mask.Mandate)) + \n",
        "\tgeom_half_dotplot(fill = \"lightblue3\") + \n",
        "\tgeom_half_boxplot(side=\"l\", fill = \"lightblue3\") + \n",
        "\tggtitle(\"cases_MAR_to_APR vs. Public.Face.Mask.Mandate\")\n",
        "dev.off()\n",
        "jpeg(\"cases_MAR_to_APR vs. Employee.Face.Mask.Mandate.jpeg\", width = 1000, height = 1000) \n",
        "na_full %>% \n",
        "\tggplot(aes(x = Employee.Face.Mask.Mandate, y = cases_MAR_to_APR, group = Employee.Face.Mask.Mandate)) + \n",
        "\tgeom_half_dotplot(fill = \"lightblue3\") + \n",
        "\tgeom_half_boxplot(side=\"l\", fill = \"lightblue3\") + \n",
        "\tggtitle(\"cases_MAR_to_APR vs. Employee.Face.Mask.Mandate\")\n",
        "dev.off()\n",
        "jpeg(\"cases_MAR_to_APR vs. Travel.Restriction.jpeg\", width = 1000, height = 1000) \n",
        "na_full %>% \n",
        "\tggplot(aes(x = Travel.Restriction, y = cases_MAR_to_APR, group = Travel.Restriction)) + \n",
        "\tgeom_half_dotplot(fill = \"lightblue3\") + \n",
        "\tgeom_half_boxplot(side=\"l\", fill = \"lightblue3\") + \n",
        "\tggtitle(\"cases_MAR_to_APR vs. Travel.Restriction\")\n",
        "dev.off()\n",
        "jpeg(\"cases_MAR_to_APR vs. Large.Gathering.ban.jpeg\", width = 1000, height = 1000) \n",
        "na_full %>% \n",
        "\tggplot(aes(x = Large.Gathering.ban, y = cases_MAR_to_APR, group = Large.Gathering.ban)) + \n",
        "\tgeom_half_dotplot(fill = \"lightblue3\") + \n",
        "\tgeom_half_boxplot(side=\"l\", fill = \"lightblue3\") + \n",
        "\tggtitle(\"cases_MAR_to_APR vs. Large.Gathering.ban\")\n",
        "dev.off()\n",
        "jpeg(\"cases_MAR_to_APR vs. Employee.Screening.jpeg\", width = 1000, height = 1000) \n",
        "na_full %>% \n",
        "\tggplot(aes(x = Employee.Screening, y = cases_MAR_to_APR, group = Employee.Screening)) + \n",
        "\tgeom_half_dotplot(fill = \"lightblue3\") + \n",
        "\tgeom_half_boxplot(side=\"l\", fill = \"lightblue3\") + \n",
        "\tggtitle(\"cases_MAR_to_APR vs. Employee.Screening\")\n",
        "dev.off()\n",
        "jpeg(\"cases_APR_to_MAY vs. Declared.state.of.emergency.jpeg\", width = 1000, height = 1000) \n",
        "na_full %>% \n",
        "\tggplot(aes(x = Declared.state.of.emergency, y = cases_APR_to_MAY, group = Declared.state.of.emergency)) + \n",
        "\tgeom_half_dotplot(fill = \"lightblue3\") + \n",
        "\tgeom_half_boxplot(side=\"l\", fill = \"lightblue3\") + \n",
        "\tggtitle(\"cases_APR_to_MAY vs. Declared.state.of.emergency\")\n",
        "dev.off()\n",
        "jpeg(\"cases_APR_to_MAY vs. Ordered.Closure.of.K.12.schools.jpeg\", width = 1000, height = 1000) \n",
        "na_full %>% \n",
        "\tggplot(aes(x = Ordered.Closure.of.K.12.schools, y = cases_APR_to_MAY, group = Ordered.Closure.of.K.12.schools)) + \n",
        "\tgeom_half_dotplot(fill = \"lightblue3\") + \n",
        "\tgeom_half_boxplot(side=\"l\", fill = \"lightblue3\") + \n",
        "\tggtitle(\"cases_APR_to_MAY vs. Ordered.Closure.of.K.12.schools\")\n",
        "dev.off()\n",
        "jpeg(\"cases_APR_to_MAY vs. Closed.daycares.jpeg\", width = 1000, height = 1000) \n",
        "na_full %>% \n",
        "\tggplot(aes(x = Closed.daycares, y = cases_APR_to_MAY, group = Closed.daycares)) + \n",
        "\tgeom_half_dotplot(fill = \"lightblue3\") + \n",
        "\tgeom_half_boxplot(side=\"l\", fill = \"lightblue3\") + \n",
        "\tggtitle(\"cases_APR_to_MAY vs. Closed.daycares\")\n",
        "dev.off()\n",
        "jpeg(\"cases_APR_to_MAY vs. Banned.visits.to.long.term.care.homes.jpeg\", width = 1000, height = 1000) \n",
        "na_full %>% \n",
        "\tggplot(aes(x = Banned.visits.to.long.term.care.homes, y = cases_APR_to_MAY, group = Banned.visits.to.long.term.care.homes)) + \n",
        "\tgeom_half_dotplot(fill = \"lightblue3\") + \n",
        "\tgeom_half_boxplot(side=\"l\", fill = \"lightblue3\") + \n",
        "\tggtitle(\"cases_APR_to_MAY vs. Banned.visits.to.long.term.care.homes\")\n",
        "dev.off()\n",
        "jpeg(\"cases_APR_to_MAY vs. Closed.non.essential.businesses.jpeg\", width = 1000, height = 1000) \n",
        "na_full %>% \n",
        "\tggplot(aes(x = Closed.non.essential.businesses, y = cases_APR_to_MAY, group = Closed.non.essential.businesses)) + \n",
        "\tgeom_half_dotplot(fill = \"lightblue3\") + \n",
        "\tgeom_half_boxplot(side=\"l\", fill = \"lightblue3\") + \n",
        "\tggtitle(\"cases_APR_to_MAY vs. Closed.non.essential.businesses\")\n",
        "dev.off()\n",
        "jpeg(\"cases_APR_to_MAY vs. Closed.restaurants.except.take.out.jpeg\", width = 1000, height = 1000) \n",
        "na_full %>% \n",
        "\tggplot(aes(x = Closed.restaurants.except.take.out, y = cases_APR_to_MAY, group = Closed.restaurants.except.take.out)) + \n",
        "\tgeom_half_dotplot(fill = \"lightblue3\") + \n",
        "\tgeom_half_boxplot(side=\"l\", fill = \"lightblue3\") + \n",
        "\tggtitle(\"cases_APR_to_MAY vs. Closed.restaurants.except.take.out\")\n",
        "dev.off()\n",
        "jpeg(\"cases_APR_to_MAY vs. Closed.cannabis.and.liquor.stores.jpeg\", width = 1000, height = 1000) \n",
        "na_full %>% \n",
        "\tggplot(aes(x = Closed.cannabis.and.liquor.stores, y = cases_APR_to_MAY, group = Closed.cannabis.and.liquor.stores)) + \n",
        "\tgeom_half_dotplot(fill = \"lightblue3\") + \n",
        "\tgeom_half_boxplot(side=\"l\", fill = \"lightblue3\") + \n",
        "\tggtitle(\"cases_APR_to_MAY vs. Closed.cannabis.and.liquor.stores\")\n",
        "dev.off()\n",
        "jpeg(\"cases_APR_to_MAY vs. Closed.gyms.jpeg\", width = 1000, height = 1000) \n",
        "na_full %>% \n",
        "\tggplot(aes(x = Closed.gyms, y = cases_APR_to_MAY, group = Closed.gyms)) + \n",
        "\tgeom_half_dotplot(fill = \"lightblue3\") + \n",
        "\tgeom_half_boxplot(side=\"l\", fill = \"lightblue3\") + \n",
        "\tggtitle(\"cases_APR_to_MAY vs. Closed.gyms\")\n",
        "dev.off()\n",
        "jpeg(\"cases_APR_to_MAY vs. Closed.movie.theaters.jpeg\", width = 1000, height = 1000) \n",
        "na_full %>% \n",
        "\tggplot(aes(x = Closed.movie.theaters, y = cases_APR_to_MAY, group = Closed.movie.theaters)) + \n",
        "\tgeom_half_dotplot(fill = \"lightblue3\") + \n",
        "\tgeom_half_boxplot(side=\"l\", fill = \"lightblue3\") + \n",
        "\tggtitle(\"cases_APR_to_MAY vs. Closed.movie.theaters\")\n",
        "dev.off()\n",
        "jpeg(\"cases_APR_to_MAY vs. Froze.evictions.jpeg\", width = 1000, height = 1000) \n",
        "na_full %>% \n",
        "\tggplot(aes(x = Froze.evictions, y = cases_APR_to_MAY, group = Froze.evictions)) + \n",
        "\tgeom_half_dotplot(fill = \"lightblue3\") + \n",
        "\tgeom_half_boxplot(side=\"l\", fill = \"lightblue3\") + \n",
        "\tggtitle(\"cases_APR_to_MAY vs. Froze.evictions\")\n",
        "dev.off()\n",
        "jpeg(\"cases_APR_to_MAY vs. Ordered.freezing.utility.shut.offs.jpeg\", width = 1000, height = 1000) \n",
        "na_full %>% \n",
        "\tggplot(aes(x = Ordered.freezing.utility.shut.offs, y = cases_APR_to_MAY, group = Ordered.freezing.utility.shut.offs)) + \n",
        "\tgeom_half_dotplot(fill = \"lightblue3\") + \n",
        "\tgeom_half_boxplot(side=\"l\", fill = \"lightblue3\") + \n",
        "\tggtitle(\"cases_APR_to_MAY vs. Ordered.freezing.utility.shut.offs\")\n",
        "dev.off()\n",
        "jpeg(\"cases_APR_to_MAY vs. Public.Face.Mask.Mandate.jpeg\", width = 1000, height = 1000) \n",
        "na_full %>% \n",
        "\tggplot(aes(x = Public.Face.Mask.Mandate, y = cases_APR_to_MAY, group = Public.Face.Mask.Mandate)) + \n",
        "\tgeom_half_dotplot(fill = \"lightblue3\") + \n",
        "\tgeom_half_boxplot(side=\"l\", fill = \"lightblue3\") + \n",
        "\tggtitle(\"cases_APR_to_MAY vs. Public.Face.Mask.Mandate\")\n",
        "dev.off()\n",
        "jpeg(\"cases_APR_to_MAY vs. Employee.Face.Mask.Mandate.jpeg\", width = 1000, height = 1000) \n",
        "na_full %>% \n",
        "\tggplot(aes(x = Employee.Face.Mask.Mandate, y = cases_APR_to_MAY, group = Employee.Face.Mask.Mandate)) + \n",
        "\tgeom_half_dotplot(fill = \"lightblue3\") + \n",
        "\tgeom_half_boxplot(side=\"l\", fill = \"lightblue3\") + \n",
        "\tggtitle(\"cases_APR_to_MAY vs. Employee.Face.Mask.Mandate\")\n",
        "dev.off()\n",
        "jpeg(\"cases_APR_to_MAY vs. Travel.Restriction.jpeg\", width = 1000, height = 1000) \n",
        "na_full %>% \n",
        "\tggplot(aes(x = Travel.Restriction, y = cases_APR_to_MAY, group = Travel.Restriction)) + \n",
        "\tgeom_half_dotplot(fill = \"lightblue3\") + \n",
        "\tgeom_half_boxplot(side=\"l\", fill = \"lightblue3\") + \n",
        "\tggtitle(\"cases_APR_to_MAY vs. Travel.Restriction\")\n",
        "dev.off()\n",
        "jpeg(\"cases_APR_to_MAY vs. Large.Gathering.ban.jpeg\", width = 1000, height = 1000) \n",
        "na_full %>% \n",
        "\tggplot(aes(x = Large.Gathering.ban, y = cases_APR_to_MAY, group = Large.Gathering.ban)) + \n",
        "\tgeom_half_dotplot(fill = \"lightblue3\") + \n",
        "\tgeom_half_boxplot(side=\"l\", fill = \"lightblue3\") + \n",
        "\tggtitle(\"cases_APR_to_MAY vs. Large.Gathering.ban\")\n",
        "dev.off()\n",
        "jpeg(\"cases_APR_to_MAY vs. Employee.Screening.jpeg\", width = 1000, height = 1000) \n",
        "na_full %>% \n",
        "\tggplot(aes(x = Employee.Screening, y = cases_APR_to_MAY, group = Employee.Screening)) + \n",
        "\tgeom_half_dotplot(fill = \"lightblue3\") + \n",
        "\tgeom_half_boxplot(side=\"l\", fill = \"lightblue3\") + \n",
        "\tggtitle(\"cases_APR_to_MAY vs. Employee.Screening\")\n",
        "dev.off()\n",
        "jpeg(\"percentage_infected_MAY vs. Declared.state.of.emergency.jpeg\", width = 1000, height = 1000) \n",
        "na_full %>% \n",
        "\tggplot(aes(x = Declared.state.of.emergency, y = percentage_infected_MAY, group = Declared.state.of.emergency)) + \n",
        "\tgeom_half_dotplot(fill = \"lightblue3\") + \n",
        "\tgeom_half_boxplot(side=\"l\", fill = \"lightblue3\") + \n",
        "\tggtitle(\"percentage_infected_MAY vs. Declared.state.of.emergency\")\n",
        "dev.off()\n",
        "jpeg(\"percentage_infected_MAY vs. Ordered.Closure.of.K.12.schools.jpeg\", width = 1000, height = 1000) \n",
        "na_full %>% \n",
        "\tggplot(aes(x = Ordered.Closure.of.K.12.schools, y = percentage_infected_MAY, group = Ordered.Closure.of.K.12.schools)) + \n",
        "\tgeom_half_dotplot(fill = \"lightblue3\") + \n",
        "\tgeom_half_boxplot(side=\"l\", fill = \"lightblue3\") + \n",
        "\tggtitle(\"percentage_infected_MAY vs. Ordered.Closure.of.K.12.schools\")\n",
        "dev.off()\n",
        "jpeg(\"percentage_infected_MAY vs. Closed.daycares.jpeg\", width = 1000, height = 1000) \n",
        "na_full %>% \n",
        "\tggplot(aes(x = Closed.daycares, y = percentage_infected_MAY, group = Closed.daycares)) + \n",
        "\tgeom_half_dotplot(fill = \"lightblue3\") + \n",
        "\tgeom_half_boxplot(side=\"l\", fill = \"lightblue3\") + \n",
        "\tggtitle(\"percentage_infected_MAY vs. Closed.daycares\")\n",
        "dev.off()\n",
        "jpeg(\"percentage_infected_MAY vs. Banned.visits.to.long.term.care.homes.jpeg\", width = 1000, height = 1000) \n",
        "na_full %>% \n",
        "\tggplot(aes(x = Banned.visits.to.long.term.care.homes, y = percentage_infected_MAY, group = Banned.visits.to.long.term.care.homes)) + \n",
        "\tgeom_half_dotplot(fill = \"lightblue3\") + \n",
        "\tgeom_half_boxplot(side=\"l\", fill = \"lightblue3\") + \n",
        "\tggtitle(\"percentage_infected_MAY vs. Banned.visits.to.long.term.care.homes\")\n",
        "dev.off()\n",
        "jpeg(\"percentage_infected_MAY vs. Closed.non.essential.businesses.jpeg\", width = 1000, height = 1000) \n",
        "na_full %>% \n",
        "\tggplot(aes(x = Closed.non.essential.businesses, y = percentage_infected_MAY, group = Closed.non.essential.businesses)) + \n",
        "\tgeom_half_dotplot(fill = \"lightblue3\") + \n",
        "\tgeom_half_boxplot(side=\"l\", fill = \"lightblue3\") + \n",
        "\tggtitle(\"percentage_infected_MAY vs. Closed.non.essential.businesses\")\n",
        "dev.off()\n",
        "jpeg(\"percentage_infected_MAY vs. Closed.restaurants.except.take.out.jpeg\", width = 1000, height = 1000) \n",
        "na_full %>% \n",
        "\tggplot(aes(x = Closed.restaurants.except.take.out, y = percentage_infected_MAY, group = Closed.restaurants.except.take.out)) + \n",
        "\tgeom_half_dotplot(fill = \"lightblue3\") + \n",
        "\tgeom_half_boxplot(side=\"l\", fill = \"lightblue3\") + \n",
        "\tggtitle(\"percentage_infected_MAY vs. Closed.restaurants.except.take.out\")\n",
        "dev.off()\n",
        "jpeg(\"percentage_infected_MAY vs. Closed.cannabis.and.liquor.stores.jpeg\", width = 1000, height = 1000) \n",
        "na_full %>% \n",
        "\tggplot(aes(x = Closed.cannabis.and.liquor.stores, y = percentage_infected_MAY, group = Closed.cannabis.and.liquor.stores)) + \n",
        "\tgeom_half_dotplot(fill = \"lightblue3\") + \n",
        "\tgeom_half_boxplot(side=\"l\", fill = \"lightblue3\") + \n",
        "\tggtitle(\"percentage_infected_MAY vs. Closed.cannabis.and.liquor.stores\")\n",
        "dev.off()\n",
        "jpeg(\"percentage_infected_MAY vs. Closed.gyms.jpeg\", width = 1000, height = 1000) \n",
        "na_full %>% \n",
        "\tggplot(aes(x = Closed.gyms, y = percentage_infected_MAY, group = Closed.gyms)) + \n",
        "\tgeom_half_dotplot(fill = \"lightblue3\") + \n",
        "\tgeom_half_boxplot(side=\"l\", fill = \"lightblue3\") + \n",
        "\tggtitle(\"percentage_infected_MAY vs. Closed.gyms\")\n",
        "dev.off()\n",
        "jpeg(\"percentage_infected_MAY vs. Closed.movie.theaters.jpeg\", width = 1000, height = 1000) \n",
        "na_full %>% \n",
        "\tggplot(aes(x = Closed.movie.theaters, y = percentage_infected_MAY, group = Closed.movie.theaters)) + \n",
        "\tgeom_half_dotplot(fill = \"lightblue3\") + \n",
        "\tgeom_half_boxplot(side=\"l\", fill = \"lightblue3\") + \n",
        "\tggtitle(\"percentage_infected_MAY vs. Closed.movie.theaters\")\n",
        "dev.off()\n",
        "jpeg(\"percentage_infected_MAY vs. Froze.evictions.jpeg\", width = 1000, height = 1000) \n",
        "na_full %>% \n",
        "\tggplot(aes(x = Froze.evictions, y = percentage_infected_MAY, group = Froze.evictions)) + \n",
        "\tgeom_half_dotplot(fill = \"lightblue3\") + \n",
        "\tgeom_half_boxplot(side=\"l\", fill = \"lightblue3\") + \n",
        "\tggtitle(\"percentage_infected_MAY vs. Froze.evictions\")\n",
        "dev.off()\n",
        "jpeg(\"percentage_infected_MAY vs. Ordered.freezing.utility.shut.offs.jpeg\", width = 1000, height = 1000) \n",
        "na_full %>% \n",
        "\tggplot(aes(x = Ordered.freezing.utility.shut.offs, y = percentage_infected_MAY, group = Ordered.freezing.utility.shut.offs)) + \n",
        "\tgeom_half_dotplot(fill = \"lightblue3\") + \n",
        "\tgeom_half_boxplot(side=\"l\", fill = \"lightblue3\") + \n",
        "\tggtitle(\"percentage_infected_MAY vs. Ordered.freezing.utility.shut.offs\")\n",
        "dev.off()\n",
        "jpeg(\"percentage_infected_MAY vs. Public.Face.Mask.Mandate.jpeg\", width = 1000, height = 1000) \n",
        "na_full %>% \n",
        "\tggplot(aes(x = Public.Face.Mask.Mandate, y = percentage_infected_MAY, group = Public.Face.Mask.Mandate)) + \n",
        "\tgeom_half_dotplot(fill = \"lightblue3\") + \n",
        "\tgeom_half_boxplot(side=\"l\", fill = \"lightblue3\") + \n",
        "\tggtitle(\"percentage_infected_MAY vs. Public.Face.Mask.Mandate\")\n",
        "dev.off()\n",
        "jpeg(\"percentage_infected_MAY vs. Employee.Face.Mask.Mandate.jpeg\", width = 1000, height = 1000) \n",
        "na_full %>% \n",
        "\tggplot(aes(x = Employee.Face.Mask.Mandate, y = percentage_infected_MAY, group = Employee.Face.Mask.Mandate)) + \n",
        "\tgeom_half_dotplot(fill = \"lightblue3\") + \n",
        "\tgeom_half_boxplot(side=\"l\", fill = \"lightblue3\") + \n",
        "\tggtitle(\"percentage_infected_MAY vs. Employee.Face.Mask.Mandate\")\n",
        "dev.off()\n",
        "jpeg(\"percentage_infected_MAY vs. Travel.Restriction.jpeg\", width = 1000, height = 1000) \n",
        "na_full %>% \n",
        "\tggplot(aes(x = Travel.Restriction, y = percentage_infected_MAY, group = Travel.Restriction)) + \n",
        "\tgeom_half_dotplot(fill = \"lightblue3\") + \n",
        "\tgeom_half_boxplot(side=\"l\", fill = \"lightblue3\") + \n",
        "\tggtitle(\"percentage_infected_MAY vs. Travel.Restriction\")\n",
        "dev.off()\n",
        "jpeg(\"percentage_infected_MAY vs. Large.Gathering.ban.jpeg\", width = 1000, height = 1000) \n",
        "na_full %>% \n",
        "\tggplot(aes(x = Large.Gathering.ban, y = percentage_infected_MAY, group = Large.Gathering.ban)) + \n",
        "\tgeom_half_dotplot(fill = \"lightblue3\") + \n",
        "\tgeom_half_boxplot(side=\"l\", fill = \"lightblue3\") + \n",
        "\tggtitle(\"percentage_infected_MAY vs. Large.Gathering.ban\")\n",
        "dev.off()\n",
        "jpeg(\"percentage_infected_MAY vs. Employee.Screening.jpeg\", width = 1000, height = 1000) \n",
        "na_full %>% \n",
        "\tggplot(aes(x = Employee.Screening, y = percentage_infected_MAY, group = Employee.Screening)) + \n",
        "\tgeom_half_dotplot(fill = \"lightblue3\") + \n",
        "\tgeom_half_boxplot(side=\"l\", fill = \"lightblue3\") + \n",
        "\tggtitle(\"percentage_infected_MAY vs. Employee.Screening\")\n",
        "dev.off()\n",
        "jpeg(\"YoY.Growth vs. Declared.state.of.emergency.jpeg\", width = 1000, height = 1000) \n",
        "na_full %>% \n",
        "\tggplot(aes(x = Declared.state.of.emergency, y = YoY.Growth, group = Declared.state.of.emergency)) + \n",
        "\tgeom_half_dotplot(fill = \"lightblue3\") + \n",
        "\tgeom_half_boxplot(side=\"l\", fill = \"lightblue3\") + \n",
        "\tggtitle(\"YoY.Growth vs. Declared.state.of.emergency\")\n",
        "dev.off()\n",
        "jpeg(\"YoY.Growth vs. Ordered.Closure.of.K.12.schools.jpeg\", width = 1000, height = 1000) \n",
        "na_full %>% \n",
        "\tggplot(aes(x = Ordered.Closure.of.K.12.schools, y = YoY.Growth, group = Ordered.Closure.of.K.12.schools)) + \n",
        "\tgeom_half_dotplot(fill = \"lightblue3\") + \n",
        "\tgeom_half_boxplot(side=\"l\", fill = \"lightblue3\") + \n",
        "\tggtitle(\"YoY.Growth vs. Ordered.Closure.of.K.12.schools\")\n",
        "dev.off()\n",
        "jpeg(\"YoY.Growth vs. Closed.daycares.jpeg\", width = 1000, height = 1000) \n",
        "na_full %>% \n",
        "\tggplot(aes(x = Closed.daycares, y = YoY.Growth, group = Closed.daycares)) + \n",
        "\tgeom_half_dotplot(fill = \"lightblue3\") + \n",
        "\tgeom_half_boxplot(side=\"l\", fill = \"lightblue3\") + \n",
        "\tggtitle(\"YoY.Growth vs. Closed.daycares\")\n",
        "dev.off()\n",
        "jpeg(\"YoY.Growth vs. Banned.visits.to.long.term.care.homes.jpeg\", width = 1000, height = 1000) \n",
        "na_full %>% \n",
        "\tggplot(aes(x = Banned.visits.to.long.term.care.homes, y = YoY.Growth, group = Banned.visits.to.long.term.care.homes)) + \n",
        "\tgeom_half_dotplot(fill = \"lightblue3\") + \n",
        "\tgeom_half_boxplot(side=\"l\", fill = \"lightblue3\") + \n",
        "\tggtitle(\"YoY.Growth vs. Banned.visits.to.long.term.care.homes\")\n",
        "dev.off()\n",
        "jpeg(\"YoY.Growth vs. Closed.non.essential.businesses.jpeg\", width = 1000, height = 1000) \n",
        "na_full %>% \n",
        "\tggplot(aes(x = Closed.non.essential.businesses, y = YoY.Growth, group = Closed.non.essential.businesses)) + \n",
        "\tgeom_half_dotplot(fill = \"lightblue3\") + \n",
        "\tgeom_half_boxplot(side=\"l\", fill = \"lightblue3\") + \n",
        "\tggtitle(\"YoY.Growth vs. Closed.non.essential.businesses\")\n",
        "dev.off()\n",
        "jpeg(\"YoY.Growth vs. Closed.restaurants.except.take.out.jpeg\", width = 1000, height = 1000) \n",
        "na_full %>% \n",
        "\tggplot(aes(x = Closed.restaurants.except.take.out, y = YoY.Growth, group = Closed.restaurants.except.take.out)) + \n",
        "\tgeom_half_dotplot(fill = \"lightblue3\") + \n",
        "\tgeom_half_boxplot(side=\"l\", fill = \"lightblue3\") + \n",
        "\tggtitle(\"YoY.Growth vs. Closed.restaurants.except.take.out\")\n",
        "dev.off()\n",
        "jpeg(\"YoY.Growth vs. Closed.cannabis.and.liquor.stores.jpeg\", width = 1000, height = 1000) \n",
        "na_full %>% \n",
        "\tggplot(aes(x = Closed.cannabis.and.liquor.stores, y = YoY.Growth, group = Closed.cannabis.and.liquor.stores)) + \n",
        "\tgeom_half_dotplot(fill = \"lightblue3\") + \n",
        "\tgeom_half_boxplot(side=\"l\", fill = \"lightblue3\") + \n",
        "\tggtitle(\"YoY.Growth vs. Closed.cannabis.and.liquor.stores\")\n",
        "dev.off()\n",
        "jpeg(\"YoY.Growth vs. Closed.gyms.jpeg\", width = 1000, height = 1000) \n",
        "na_full %>% \n",
        "\tggplot(aes(x = Closed.gyms, y = YoY.Growth, group = Closed.gyms)) + \n",
        "\tgeom_half_dotplot(fill = \"lightblue3\") + \n",
        "\tgeom_half_boxplot(side=\"l\", fill = \"lightblue3\") + \n",
        "\tggtitle(\"YoY.Growth vs. Closed.gyms\")\n",
        "dev.off()\n",
        "jpeg(\"YoY.Growth vs. Closed.movie.theaters.jpeg\", width = 1000, height = 1000) \n",
        "na_full %>% \n",
        "\tggplot(aes(x = Closed.movie.theaters, y = YoY.Growth, group = Closed.movie.theaters)) + \n",
        "\tgeom_half_dotplot(fill = \"lightblue3\") + \n",
        "\tgeom_half_boxplot(side=\"l\", fill = \"lightblue3\") + \n",
        "\tggtitle(\"YoY.Growth vs. Closed.movie.theaters\")\n",
        "dev.off()\n",
        "jpeg(\"YoY.Growth vs. Froze.evictions.jpeg\", width = 1000, height = 1000) \n",
        "na_full %>% \n",
        "\tggplot(aes(x = Froze.evictions, y = YoY.Growth, group = Froze.evictions)) + \n",
        "\tgeom_half_dotplot(fill = \"lightblue3\") + \n",
        "\tgeom_half_boxplot(side=\"l\", fill = \"lightblue3\") + \n",
        "\tggtitle(\"YoY.Growth vs. Froze.evictions\")\n",
        "dev.off()\n",
        "jpeg(\"YoY.Growth vs. Ordered.freezing.utility.shut.offs.jpeg\", width = 1000, height = 1000) \n",
        "na_full %>% \n",
        "\tggplot(aes(x = Ordered.freezing.utility.shut.offs, y = YoY.Growth, group = Ordered.freezing.utility.shut.offs)) + \n",
        "\tgeom_half_dotplot(fill = \"lightblue3\") + \n",
        "\tgeom_half_boxplot(side=\"l\", fill = \"lightblue3\") + \n",
        "\tggtitle(\"YoY.Growth vs. Ordered.freezing.utility.shut.offs\")\n",
        "dev.off()\n",
        "jpeg(\"YoY.Growth vs. Public.Face.Mask.Mandate.jpeg\", width = 1000, height = 1000) \n",
        "na_full %>% \n",
        "\tggplot(aes(x = Public.Face.Mask.Mandate, y = YoY.Growth, group = Public.Face.Mask.Mandate)) + \n",
        "\tgeom_half_dotplot(fill = \"lightblue3\") + \n",
        "\tgeom_half_boxplot(side=\"l\", fill = \"lightblue3\") + \n",
        "\tggtitle(\"YoY.Growth vs. Public.Face.Mask.Mandate\")\n",
        "dev.off()\n",
        "jpeg(\"YoY.Growth vs. Employee.Face.Mask.Mandate.jpeg\", width = 1000, height = 1000) \n",
        "na_full %>% \n",
        "\tggplot(aes(x = Employee.Face.Mask.Mandate, y = YoY.Growth, group = Employee.Face.Mask.Mandate)) + \n",
        "\tgeom_half_dotplot(fill = \"lightblue3\") + \n",
        "\tgeom_half_boxplot(side=\"l\", fill = \"lightblue3\") + \n",
        "\tggtitle(\"YoY.Growth vs. Employee.Face.Mask.Mandate\")\n",
        "dev.off()\n",
        "jpeg(\"YoY.Growth vs. Travel.Restriction.jpeg\", width = 1000, height = 1000) \n",
        "na_full %>% \n",
        "\tggplot(aes(x = Travel.Restriction, y = YoY.Growth, group = Travel.Restriction)) + \n",
        "\tgeom_half_dotplot(fill = \"lightblue3\") + \n",
        "\tgeom_half_boxplot(side=\"l\", fill = \"lightblue3\") + \n",
        "\tggtitle(\"YoY.Growth vs. Travel.Restriction\")\n",
        "dev.off()\n",
        "jpeg(\"YoY.Growth vs. Large.Gathering.ban.jpeg\", width = 1000, height = 1000) \n",
        "na_full %>% \n",
        "\tggplot(aes(x = Large.Gathering.ban, y = YoY.Growth, group = Large.Gathering.ban)) + \n",
        "\tgeom_half_dotplot(fill = \"lightblue3\") + \n",
        "\tgeom_half_boxplot(side=\"l\", fill = \"lightblue3\") + \n",
        "\tggtitle(\"YoY.Growth vs. Large.Gathering.ban\")\n",
        "dev.off()\n",
        "jpeg(\"YoY.Growth vs. Employee.Screening.jpeg\", width = 1000, height = 1000) \n",
        "na_full %>% \n",
        "\tggplot(aes(x = Employee.Screening, y = YoY.Growth, group = Employee.Screening)) + \n",
        "\tgeom_half_dotplot(fill = \"lightblue3\") + \n",
        "\tgeom_half_boxplot(side=\"l\", fill = \"lightblue3\") + \n",
        "\tggtitle(\"YoY.Growth vs. Employee.Screening\")\n",
        "dev.off()\n",
        "jpeg(\"MoM.Growth vs. Declared.state.of.emergency.jpeg\", width = 1000, height = 1000) \n",
        "na_full %>% \n",
        "\tggplot(aes(x = Declared.state.of.emergency, y = MoM.Growth, group = Declared.state.of.emergency)) + \n",
        "\tgeom_half_dotplot(fill = \"lightblue3\") + \n",
        "\tgeom_half_boxplot(side=\"l\", fill = \"lightblue3\") + \n",
        "\tggtitle(\"MoM.Growth vs. Declared.state.of.emergency\")\n",
        "dev.off()\n",
        "jpeg(\"MoM.Growth vs. Ordered.Closure.of.K.12.schools.jpeg\", width = 1000, height = 1000) \n",
        "na_full %>% \n",
        "\tggplot(aes(x = Ordered.Closure.of.K.12.schools, y = MoM.Growth, group = Ordered.Closure.of.K.12.schools)) + \n",
        "\tgeom_half_dotplot(fill = \"lightblue3\") + \n",
        "\tgeom_half_boxplot(side=\"l\", fill = \"lightblue3\") + \n",
        "\tggtitle(\"MoM.Growth vs. Ordered.Closure.of.K.12.schools\")\n",
        "dev.off()\n",
        "jpeg(\"MoM.Growth vs. Closed.daycares.jpeg\", width = 1000, height = 1000) \n",
        "na_full %>% \n",
        "\tggplot(aes(x = Closed.daycares, y = MoM.Growth, group = Closed.daycares)) + \n",
        "\tgeom_half_dotplot(fill = \"lightblue3\") + \n",
        "\tgeom_half_boxplot(side=\"l\", fill = \"lightblue3\") + \n",
        "\tggtitle(\"MoM.Growth vs. Closed.daycares\")\n",
        "dev.off()\n",
        "jpeg(\"MoM.Growth vs. Banned.visits.to.long.term.care.homes.jpeg\", width = 1000, height = 1000) \n",
        "na_full %>% \n",
        "\tggplot(aes(x = Banned.visits.to.long.term.care.homes, y = MoM.Growth, group = Banned.visits.to.long.term.care.homes)) + \n",
        "\tgeom_half_dotplot(fill = \"lightblue3\") + \n",
        "\tgeom_half_boxplot(side=\"l\", fill = \"lightblue3\") + \n",
        "\tggtitle(\"MoM.Growth vs. Banned.visits.to.long.term.care.homes\")\n",
        "dev.off()\n",
        "jpeg(\"MoM.Growth vs. Closed.non.essential.businesses.jpeg\", width = 1000, height = 1000) \n",
        "na_full %>% \n",
        "\tggplot(aes(x = Closed.non.essential.businesses, y = MoM.Growth, group = Closed.non.essential.businesses)) + \n",
        "\tgeom_half_dotplot(fill = \"lightblue3\") + \n",
        "\tgeom_half_boxplot(side=\"l\", fill = \"lightblue3\") + \n",
        "\tggtitle(\"MoM.Growth vs. Closed.non.essential.businesses\")\n",
        "dev.off()\n",
        "jpeg(\"MoM.Growth vs. Closed.restaurants.except.take.out.jpeg\", width = 1000, height = 1000) \n",
        "na_full %>% \n",
        "\tggplot(aes(x = Closed.restaurants.except.take.out, y = MoM.Growth, group = Closed.restaurants.except.take.out)) + \n",
        "\tgeom_half_dotplot(fill = \"lightblue3\") + \n",
        "\tgeom_half_boxplot(side=\"l\", fill = \"lightblue3\") + \n",
        "\tggtitle(\"MoM.Growth vs. Closed.restaurants.except.take.out\")\n",
        "dev.off()\n",
        "jpeg(\"MoM.Growth vs. Closed.cannabis.and.liquor.stores.jpeg\", width = 1000, height = 1000) \n",
        "na_full %>% \n",
        "\tggplot(aes(x = Closed.cannabis.and.liquor.stores, y = MoM.Growth, group = Closed.cannabis.and.liquor.stores)) + \n",
        "\tgeom_half_dotplot(fill = \"lightblue3\") + \n",
        "\tgeom_half_boxplot(side=\"l\", fill = \"lightblue3\") + \n",
        "\tggtitle(\"MoM.Growth vs. Closed.cannabis.and.liquor.stores\")\n",
        "dev.off()\n",
        "jpeg(\"MoM.Growth vs. Closed.gyms.jpeg\", width = 1000, height = 1000) \n",
        "na_full %>% \n",
        "\tggplot(aes(x = Closed.gyms, y = MoM.Growth, group = Closed.gyms)) + \n",
        "\tgeom_half_dotplot(fill = \"lightblue3\") + \n",
        "\tgeom_half_boxplot(side=\"l\", fill = \"lightblue3\") + \n",
        "\tggtitle(\"MoM.Growth vs. Closed.gyms\")\n",
        "dev.off()\n",
        "jpeg(\"MoM.Growth vs. Closed.movie.theaters.jpeg\", width = 1000, height = 1000) \n",
        "na_full %>% \n",
        "\tggplot(aes(x = Closed.movie.theaters, y = MoM.Growth, group = Closed.movie.theaters)) + \n",
        "\tgeom_half_dotplot(fill = \"lightblue3\") + \n",
        "\tgeom_half_boxplot(side=\"l\", fill = \"lightblue3\") + \n",
        "\tggtitle(\"MoM.Growth vs. Closed.movie.theaters\")\n",
        "dev.off()\n",
        "jpeg(\"MoM.Growth vs. Froze.evictions.jpeg\", width = 1000, height = 1000) \n",
        "na_full %>% \n",
        "\tggplot(aes(x = Froze.evictions, y = MoM.Growth, group = Froze.evictions)) + \n",
        "\tgeom_half_dotplot(fill = \"lightblue3\") + \n",
        "\tgeom_half_boxplot(side=\"l\", fill = \"lightblue3\") + \n",
        "\tggtitle(\"MoM.Growth vs. Froze.evictions\")\n",
        "dev.off()\n",
        "jpeg(\"MoM.Growth vs. Ordered.freezing.utility.shut.offs.jpeg\", width = 1000, height = 1000) \n",
        "na_full %>% \n",
        "\tggplot(aes(x = Ordered.freezing.utility.shut.offs, y = MoM.Growth, group = Ordered.freezing.utility.shut.offs)) + \n",
        "\tgeom_half_dotplot(fill = \"lightblue3\") + \n",
        "\tgeom_half_boxplot(side=\"l\", fill = \"lightblue3\") + \n",
        "\tggtitle(\"MoM.Growth vs. Ordered.freezing.utility.shut.offs\")\n",
        "dev.off()\n",
        "jpeg(\"MoM.Growth vs. Public.Face.Mask.Mandate.jpeg\", width = 1000, height = 1000) \n",
        "na_full %>% \n",
        "\tggplot(aes(x = Public.Face.Mask.Mandate, y = MoM.Growth, group = Public.Face.Mask.Mandate)) + \n",
        "\tgeom_half_dotplot(fill = \"lightblue3\") + \n",
        "\tgeom_half_boxplot(side=\"l\", fill = \"lightblue3\") + \n",
        "\tggtitle(\"MoM.Growth vs. Public.Face.Mask.Mandate\")\n",
        "dev.off()\n",
        "jpeg(\"MoM.Growth vs. Employee.Face.Mask.Mandate.jpeg\", width = 1000, height = 1000) \n",
        "na_full %>% \n",
        "\tggplot(aes(x = Employee.Face.Mask.Mandate, y = MoM.Growth, group = Employee.Face.Mask.Mandate)) + \n",
        "\tgeom_half_dotplot(fill = \"lightblue3\") + \n",
        "\tgeom_half_boxplot(side=\"l\", fill = \"lightblue3\") + \n",
        "\tggtitle(\"MoM.Growth vs. Employee.Face.Mask.Mandate\")\n",
        "dev.off()\n",
        "jpeg(\"MoM.Growth vs. Travel.Restriction.jpeg\", width = 1000, height = 1000) \n",
        "na_full %>% \n",
        "\tggplot(aes(x = Travel.Restriction, y = MoM.Growth, group = Travel.Restriction)) + \n",
        "\tgeom_half_dotplot(fill = \"lightblue3\") + \n",
        "\tgeom_half_boxplot(side=\"l\", fill = \"lightblue3\") + \n",
        "\tggtitle(\"MoM.Growth vs. Travel.Restriction\")\n",
        "dev.off()\n",
        "jpeg(\"MoM.Growth vs. Large.Gathering.ban.jpeg\", width = 1000, height = 1000) \n",
        "na_full %>% \n",
        "\tggplot(aes(x = Large.Gathering.ban, y = MoM.Growth, group = Large.Gathering.ban)) + \n",
        "\tgeom_half_dotplot(fill = \"lightblue3\") + \n",
        "\tgeom_half_boxplot(side=\"l\", fill = \"lightblue3\") + \n",
        "\tggtitle(\"MoM.Growth vs. Large.Gathering.ban\")\n",
        "dev.off()\n",
        "jpeg(\"MoM.Growth vs. Employee.Screening.jpeg\", width = 1000, height = 1000) \n",
        "na_full %>% \n",
        "\tggplot(aes(x = Employee.Screening, y = MoM.Growth, group = Employee.Screening)) + \n",
        "\tgeom_half_dotplot(fill = \"lightblue3\") + \n",
        "\tgeom_half_boxplot(side=\"l\", fill = \"lightblue3\") + \n",
        "\tggtitle(\"MoM.Growth vs. Employee.Screening\")\n",
        "dev.off()"
      ],
      "execution_count": 0,
      "outputs": [
        {
          "output_type": "stream",
          "text": [
            "`stat_bindot()` using `bins = 30`. Pick better value with `binwidth`.\n",
            "\n"
          ],
          "name": "stderr"
        },
        {
          "output_type": "display_data",
          "data": {
            "text/plain": [
              "png \n",
              "  2 "
            ],
            "text/latex": "\\textbf{png:} 2",
            "text/markdown": "**png:** 2",
            "text/html": [
              "<strong>png:</strong> 2"
            ]
          },
          "metadata": {
            "tags": []
          }
        },
        {
          "output_type": "stream",
          "text": [
            "`stat_bindot()` using `bins = 30`. Pick better value with `binwidth`.\n",
            "\n"
          ],
          "name": "stderr"
        },
        {
          "output_type": "display_data",
          "data": {
            "text/plain": [
              "png \n",
              "  2 "
            ],
            "text/latex": "\\textbf{png:} 2",
            "text/markdown": "**png:** 2",
            "text/html": [
              "<strong>png:</strong> 2"
            ]
          },
          "metadata": {
            "tags": []
          }
        },
        {
          "output_type": "stream",
          "text": [
            "`stat_bindot()` using `bins = 30`. Pick better value with `binwidth`.\n",
            "\n"
          ],
          "name": "stderr"
        },
        {
          "output_type": "display_data",
          "data": {
            "text/plain": [
              "png \n",
              "  2 "
            ],
            "text/latex": "\\textbf{png:} 2",
            "text/markdown": "**png:** 2",
            "text/html": [
              "<strong>png:</strong> 2"
            ]
          },
          "metadata": {
            "tags": []
          }
        },
        {
          "output_type": "stream",
          "text": [
            "`stat_bindot()` using `bins = 30`. Pick better value with `binwidth`.\n",
            "\n"
          ],
          "name": "stderr"
        },
        {
          "output_type": "display_data",
          "data": {
            "text/plain": [
              "png \n",
              "  2 "
            ],
            "text/latex": "\\textbf{png:} 2",
            "text/markdown": "**png:** 2",
            "text/html": [
              "<strong>png:</strong> 2"
            ]
          },
          "metadata": {
            "tags": []
          }
        },
        {
          "output_type": "stream",
          "text": [
            "`stat_bindot()` using `bins = 30`. Pick better value with `binwidth`.\n",
            "\n"
          ],
          "name": "stderr"
        },
        {
          "output_type": "display_data",
          "data": {
            "text/plain": [
              "png \n",
              "  2 "
            ],
            "text/latex": "\\textbf{png:} 2",
            "text/markdown": "**png:** 2",
            "text/html": [
              "<strong>png:</strong> 2"
            ]
          },
          "metadata": {
            "tags": []
          }
        },
        {
          "output_type": "stream",
          "text": [
            "`stat_bindot()` using `bins = 30`. Pick better value with `binwidth`.\n",
            "\n"
          ],
          "name": "stderr"
        },
        {
          "output_type": "display_data",
          "data": {
            "text/plain": [
              "png \n",
              "  2 "
            ],
            "text/latex": "\\textbf{png:} 2",
            "text/markdown": "**png:** 2",
            "text/html": [
              "<strong>png:</strong> 2"
            ]
          },
          "metadata": {
            "tags": []
          }
        },
        {
          "output_type": "stream",
          "text": [
            "`stat_bindot()` using `bins = 30`. Pick better value with `binwidth`.\n",
            "\n"
          ],
          "name": "stderr"
        },
        {
          "output_type": "display_data",
          "data": {
            "text/plain": [
              "png \n",
              "  2 "
            ],
            "text/latex": "\\textbf{png:} 2",
            "text/markdown": "**png:** 2",
            "text/html": [
              "<strong>png:</strong> 2"
            ]
          },
          "metadata": {
            "tags": []
          }
        },
        {
          "output_type": "stream",
          "text": [
            "`stat_bindot()` using `bins = 30`. Pick better value with `binwidth`.\n",
            "\n"
          ],
          "name": "stderr"
        },
        {
          "output_type": "display_data",
          "data": {
            "text/plain": [
              "png \n",
              "  2 "
            ],
            "text/latex": "\\textbf{png:} 2",
            "text/markdown": "**png:** 2",
            "text/html": [
              "<strong>png:</strong> 2"
            ]
          },
          "metadata": {
            "tags": []
          }
        },
        {
          "output_type": "stream",
          "text": [
            "`stat_bindot()` using `bins = 30`. Pick better value with `binwidth`.\n",
            "\n"
          ],
          "name": "stderr"
        },
        {
          "output_type": "display_data",
          "data": {
            "text/plain": [
              "png \n",
              "  2 "
            ],
            "text/latex": "\\textbf{png:} 2",
            "text/markdown": "**png:** 2",
            "text/html": [
              "<strong>png:</strong> 2"
            ]
          },
          "metadata": {
            "tags": []
          }
        },
        {
          "output_type": "stream",
          "text": [
            "`stat_bindot()` using `bins = 30`. Pick better value with `binwidth`.\n",
            "\n"
          ],
          "name": "stderr"
        },
        {
          "output_type": "display_data",
          "data": {
            "text/plain": [
              "png \n",
              "  2 "
            ],
            "text/latex": "\\textbf{png:} 2",
            "text/markdown": "**png:** 2",
            "text/html": [
              "<strong>png:</strong> 2"
            ]
          },
          "metadata": {
            "tags": []
          }
        },
        {
          "output_type": "stream",
          "text": [
            "`stat_bindot()` using `bins = 30`. Pick better value with `binwidth`.\n",
            "\n"
          ],
          "name": "stderr"
        },
        {
          "output_type": "display_data",
          "data": {
            "text/plain": [
              "png \n",
              "  2 "
            ],
            "text/latex": "\\textbf{png:} 2",
            "text/markdown": "**png:** 2",
            "text/html": [
              "<strong>png:</strong> 2"
            ]
          },
          "metadata": {
            "tags": []
          }
        },
        {
          "output_type": "stream",
          "text": [
            "`stat_bindot()` using `bins = 30`. Pick better value with `binwidth`.\n",
            "\n"
          ],
          "name": "stderr"
        },
        {
          "output_type": "display_data",
          "data": {
            "text/plain": [
              "png \n",
              "  2 "
            ],
            "text/latex": "\\textbf{png:} 2",
            "text/markdown": "**png:** 2",
            "text/html": [
              "<strong>png:</strong> 2"
            ]
          },
          "metadata": {
            "tags": []
          }
        },
        {
          "output_type": "stream",
          "text": [
            "`stat_bindot()` using `bins = 30`. Pick better value with `binwidth`.\n",
            "\n"
          ],
          "name": "stderr"
        },
        {
          "output_type": "display_data",
          "data": {
            "text/plain": [
              "png \n",
              "  2 "
            ],
            "text/latex": "\\textbf{png:} 2",
            "text/markdown": "**png:** 2",
            "text/html": [
              "<strong>png:</strong> 2"
            ]
          },
          "metadata": {
            "tags": []
          }
        },
        {
          "output_type": "stream",
          "text": [
            "`stat_bindot()` using `bins = 30`. Pick better value with `binwidth`.\n",
            "\n"
          ],
          "name": "stderr"
        },
        {
          "output_type": "display_data",
          "data": {
            "text/plain": [
              "png \n",
              "  2 "
            ],
            "text/latex": "\\textbf{png:} 2",
            "text/markdown": "**png:** 2",
            "text/html": [
              "<strong>png:</strong> 2"
            ]
          },
          "metadata": {
            "tags": []
          }
        },
        {
          "output_type": "stream",
          "text": [
            "`stat_bindot()` using `bins = 30`. Pick better value with `binwidth`.\n",
            "\n"
          ],
          "name": "stderr"
        },
        {
          "output_type": "display_data",
          "data": {
            "text/plain": [
              "png \n",
              "  2 "
            ],
            "text/latex": "\\textbf{png:} 2",
            "text/markdown": "**png:** 2",
            "text/html": [
              "<strong>png:</strong> 2"
            ]
          },
          "metadata": {
            "tags": []
          }
        },
        {
          "output_type": "stream",
          "text": [
            "`stat_bindot()` using `bins = 30`. Pick better value with `binwidth`.\n",
            "\n"
          ],
          "name": "stderr"
        },
        {
          "output_type": "display_data",
          "data": {
            "text/plain": [
              "png \n",
              "  2 "
            ],
            "text/latex": "\\textbf{png:} 2",
            "text/markdown": "**png:** 2",
            "text/html": [
              "<strong>png:</strong> 2"
            ]
          },
          "metadata": {
            "tags": []
          }
        },
        {
          "output_type": "stream",
          "text": [
            "`stat_bindot()` using `bins = 30`. Pick better value with `binwidth`.\n",
            "\n"
          ],
          "name": "stderr"
        },
        {
          "output_type": "display_data",
          "data": {
            "text/plain": [
              "png \n",
              "  2 "
            ],
            "text/latex": "\\textbf{png:} 2",
            "text/markdown": "**png:** 2",
            "text/html": [
              "<strong>png:</strong> 2"
            ]
          },
          "metadata": {
            "tags": []
          }
        },
        {
          "output_type": "stream",
          "text": [
            "`stat_bindot()` using `bins = 30`. Pick better value with `binwidth`.\n",
            "\n"
          ],
          "name": "stderr"
        },
        {
          "output_type": "display_data",
          "data": {
            "text/plain": [
              "png \n",
              "  2 "
            ],
            "text/latex": "\\textbf{png:} 2",
            "text/markdown": "**png:** 2",
            "text/html": [
              "<strong>png:</strong> 2"
            ]
          },
          "metadata": {
            "tags": []
          }
        },
        {
          "output_type": "stream",
          "text": [
            "`stat_bindot()` using `bins = 30`. Pick better value with `binwidth`.\n",
            "\n"
          ],
          "name": "stderr"
        },
        {
          "output_type": "display_data",
          "data": {
            "text/plain": [
              "png \n",
              "  2 "
            ],
            "text/latex": "\\textbf{png:} 2",
            "text/markdown": "**png:** 2",
            "text/html": [
              "<strong>png:</strong> 2"
            ]
          },
          "metadata": {
            "tags": []
          }
        },
        {
          "output_type": "stream",
          "text": [
            "`stat_bindot()` using `bins = 30`. Pick better value with `binwidth`.\n",
            "\n"
          ],
          "name": "stderr"
        },
        {
          "output_type": "display_data",
          "data": {
            "text/plain": [
              "png \n",
              "  2 "
            ],
            "text/latex": "\\textbf{png:} 2",
            "text/markdown": "**png:** 2",
            "text/html": [
              "<strong>png:</strong> 2"
            ]
          },
          "metadata": {
            "tags": []
          }
        },
        {
          "output_type": "stream",
          "text": [
            "`stat_bindot()` using `bins = 30`. Pick better value with `binwidth`.\n",
            "\n"
          ],
          "name": "stderr"
        },
        {
          "output_type": "display_data",
          "data": {
            "text/plain": [
              "png \n",
              "  2 "
            ],
            "text/latex": "\\textbf{png:} 2",
            "text/markdown": "**png:** 2",
            "text/html": [
              "<strong>png:</strong> 2"
            ]
          },
          "metadata": {
            "tags": []
          }
        },
        {
          "output_type": "stream",
          "text": [
            "`stat_bindot()` using `bins = 30`. Pick better value with `binwidth`.\n",
            "\n"
          ],
          "name": "stderr"
        },
        {
          "output_type": "display_data",
          "data": {
            "text/plain": [
              "png \n",
              "  2 "
            ],
            "text/latex": "\\textbf{png:} 2",
            "text/markdown": "**png:** 2",
            "text/html": [
              "<strong>png:</strong> 2"
            ]
          },
          "metadata": {
            "tags": []
          }
        },
        {
          "output_type": "stream",
          "text": [
            "`stat_bindot()` using `bins = 30`. Pick better value with `binwidth`.\n",
            "\n"
          ],
          "name": "stderr"
        },
        {
          "output_type": "display_data",
          "data": {
            "text/plain": [
              "png \n",
              "  2 "
            ],
            "text/latex": "\\textbf{png:} 2",
            "text/markdown": "**png:** 2",
            "text/html": [
              "<strong>png:</strong> 2"
            ]
          },
          "metadata": {
            "tags": []
          }
        },
        {
          "output_type": "stream",
          "text": [
            "`stat_bindot()` using `bins = 30`. Pick better value with `binwidth`.\n",
            "\n"
          ],
          "name": "stderr"
        },
        {
          "output_type": "display_data",
          "data": {
            "text/plain": [
              "png \n",
              "  2 "
            ],
            "text/latex": "\\textbf{png:} 2",
            "text/markdown": "**png:** 2",
            "text/html": [
              "<strong>png:</strong> 2"
            ]
          },
          "metadata": {
            "tags": []
          }
        },
        {
          "output_type": "stream",
          "text": [
            "`stat_bindot()` using `bins = 30`. Pick better value with `binwidth`.\n",
            "\n"
          ],
          "name": "stderr"
        },
        {
          "output_type": "display_data",
          "data": {
            "text/plain": [
              "png \n",
              "  2 "
            ],
            "text/latex": "\\textbf{png:} 2",
            "text/markdown": "**png:** 2",
            "text/html": [
              "<strong>png:</strong> 2"
            ]
          },
          "metadata": {
            "tags": []
          }
        },
        {
          "output_type": "stream",
          "text": [
            "`stat_bindot()` using `bins = 30`. Pick better value with `binwidth`.\n",
            "\n"
          ],
          "name": "stderr"
        },
        {
          "output_type": "display_data",
          "data": {
            "text/plain": [
              "png \n",
              "  2 "
            ],
            "text/latex": "\\textbf{png:} 2",
            "text/markdown": "**png:** 2",
            "text/html": [
              "<strong>png:</strong> 2"
            ]
          },
          "metadata": {
            "tags": []
          }
        },
        {
          "output_type": "stream",
          "text": [
            "`stat_bindot()` using `bins = 30`. Pick better value with `binwidth`.\n",
            "\n"
          ],
          "name": "stderr"
        },
        {
          "output_type": "display_data",
          "data": {
            "text/plain": [
              "png \n",
              "  2 "
            ],
            "text/latex": "\\textbf{png:} 2",
            "text/markdown": "**png:** 2",
            "text/html": [
              "<strong>png:</strong> 2"
            ]
          },
          "metadata": {
            "tags": []
          }
        },
        {
          "output_type": "stream",
          "text": [
            "`stat_bindot()` using `bins = 30`. Pick better value with `binwidth`.\n",
            "\n"
          ],
          "name": "stderr"
        },
        {
          "output_type": "display_data",
          "data": {
            "text/plain": [
              "png \n",
              "  2 "
            ],
            "text/latex": "\\textbf{png:} 2",
            "text/markdown": "**png:** 2",
            "text/html": [
              "<strong>png:</strong> 2"
            ]
          },
          "metadata": {
            "tags": []
          }
        },
        {
          "output_type": "stream",
          "text": [
            "`stat_bindot()` using `bins = 30`. Pick better value with `binwidth`.\n",
            "\n"
          ],
          "name": "stderr"
        },
        {
          "output_type": "display_data",
          "data": {
            "text/plain": [
              "png \n",
              "  2 "
            ],
            "text/latex": "\\textbf{png:} 2",
            "text/markdown": "**png:** 2",
            "text/html": [
              "<strong>png:</strong> 2"
            ]
          },
          "metadata": {
            "tags": []
          }
        },
        {
          "output_type": "stream",
          "text": [
            "`stat_bindot()` using `bins = 30`. Pick better value with `binwidth`.\n",
            "\n"
          ],
          "name": "stderr"
        },
        {
          "output_type": "display_data",
          "data": {
            "text/plain": [
              "png \n",
              "  2 "
            ],
            "text/latex": "\\textbf{png:} 2",
            "text/markdown": "**png:** 2",
            "text/html": [
              "<strong>png:</strong> 2"
            ]
          },
          "metadata": {
            "tags": []
          }
        },
        {
          "output_type": "stream",
          "text": [
            "`stat_bindot()` using `bins = 30`. Pick better value with `binwidth`.\n",
            "\n"
          ],
          "name": "stderr"
        },
        {
          "output_type": "display_data",
          "data": {
            "text/plain": [
              "png \n",
              "  2 "
            ],
            "text/latex": "\\textbf{png:} 2",
            "text/markdown": "**png:** 2",
            "text/html": [
              "<strong>png:</strong> 2"
            ]
          },
          "metadata": {
            "tags": []
          }
        },
        {
          "output_type": "stream",
          "text": [
            "`stat_bindot()` using `bins = 30`. Pick better value with `binwidth`.\n",
            "\n"
          ],
          "name": "stderr"
        },
        {
          "output_type": "display_data",
          "data": {
            "text/plain": [
              "png \n",
              "  2 "
            ],
            "text/latex": "\\textbf{png:} 2",
            "text/markdown": "**png:** 2",
            "text/html": [
              "<strong>png:</strong> 2"
            ]
          },
          "metadata": {
            "tags": []
          }
        },
        {
          "output_type": "stream",
          "text": [
            "`stat_bindot()` using `bins = 30`. Pick better value with `binwidth`.\n",
            "\n"
          ],
          "name": "stderr"
        },
        {
          "output_type": "display_data",
          "data": {
            "text/plain": [
              "png \n",
              "  2 "
            ],
            "text/latex": "\\textbf{png:} 2",
            "text/markdown": "**png:** 2",
            "text/html": [
              "<strong>png:</strong> 2"
            ]
          },
          "metadata": {
            "tags": []
          }
        },
        {
          "output_type": "stream",
          "text": [
            "`stat_bindot()` using `bins = 30`. Pick better value with `binwidth`.\n",
            "\n"
          ],
          "name": "stderr"
        },
        {
          "output_type": "display_data",
          "data": {
            "text/plain": [
              "png \n",
              "  2 "
            ],
            "text/latex": "\\textbf{png:} 2",
            "text/markdown": "**png:** 2",
            "text/html": [
              "<strong>png:</strong> 2"
            ]
          },
          "metadata": {
            "tags": []
          }
        },
        {
          "output_type": "stream",
          "text": [
            "`stat_bindot()` using `bins = 30`. Pick better value with `binwidth`.\n",
            "\n"
          ],
          "name": "stderr"
        },
        {
          "output_type": "display_data",
          "data": {
            "text/plain": [
              "png \n",
              "  2 "
            ],
            "text/latex": "\\textbf{png:} 2",
            "text/markdown": "**png:** 2",
            "text/html": [
              "<strong>png:</strong> 2"
            ]
          },
          "metadata": {
            "tags": []
          }
        },
        {
          "output_type": "stream",
          "text": [
            "`stat_bindot()` using `bins = 30`. Pick better value with `binwidth`.\n",
            "\n"
          ],
          "name": "stderr"
        },
        {
          "output_type": "display_data",
          "data": {
            "text/plain": [
              "png \n",
              "  2 "
            ],
            "text/latex": "\\textbf{png:} 2",
            "text/markdown": "**png:** 2",
            "text/html": [
              "<strong>png:</strong> 2"
            ]
          },
          "metadata": {
            "tags": []
          }
        },
        {
          "output_type": "stream",
          "text": [
            "`stat_bindot()` using `bins = 30`. Pick better value with `binwidth`.\n",
            "\n"
          ],
          "name": "stderr"
        },
        {
          "output_type": "display_data",
          "data": {
            "text/plain": [
              "png \n",
              "  2 "
            ],
            "text/latex": "\\textbf{png:} 2",
            "text/markdown": "**png:** 2",
            "text/html": [
              "<strong>png:</strong> 2"
            ]
          },
          "metadata": {
            "tags": []
          }
        },
        {
          "output_type": "stream",
          "text": [
            "`stat_bindot()` using `bins = 30`. Pick better value with `binwidth`.\n",
            "\n"
          ],
          "name": "stderr"
        },
        {
          "output_type": "display_data",
          "data": {
            "text/plain": [
              "png \n",
              "  2 "
            ],
            "text/latex": "\\textbf{png:} 2",
            "text/markdown": "**png:** 2",
            "text/html": [
              "<strong>png:</strong> 2"
            ]
          },
          "metadata": {
            "tags": []
          }
        },
        {
          "output_type": "stream",
          "text": [
            "`stat_bindot()` using `bins = 30`. Pick better value with `binwidth`.\n",
            "\n"
          ],
          "name": "stderr"
        },
        {
          "output_type": "display_data",
          "data": {
            "text/plain": [
              "png \n",
              "  2 "
            ],
            "text/latex": "\\textbf{png:} 2",
            "text/markdown": "**png:** 2",
            "text/html": [
              "<strong>png:</strong> 2"
            ]
          },
          "metadata": {
            "tags": []
          }
        },
        {
          "output_type": "stream",
          "text": [
            "`stat_bindot()` using `bins = 30`. Pick better value with `binwidth`.\n",
            "\n"
          ],
          "name": "stderr"
        },
        {
          "output_type": "display_data",
          "data": {
            "text/plain": [
              "png \n",
              "  2 "
            ],
            "text/latex": "\\textbf{png:} 2",
            "text/markdown": "**png:** 2",
            "text/html": [
              "<strong>png:</strong> 2"
            ]
          },
          "metadata": {
            "tags": []
          }
        },
        {
          "output_type": "stream",
          "text": [
            "`stat_bindot()` using `bins = 30`. Pick better value with `binwidth`.\n",
            "\n"
          ],
          "name": "stderr"
        },
        {
          "output_type": "display_data",
          "data": {
            "text/plain": [
              "png \n",
              "  2 "
            ],
            "text/latex": "\\textbf{png:} 2",
            "text/markdown": "**png:** 2",
            "text/html": [
              "<strong>png:</strong> 2"
            ]
          },
          "metadata": {
            "tags": []
          }
        },
        {
          "output_type": "stream",
          "text": [
            "`stat_bindot()` using `bins = 30`. Pick better value with `binwidth`.\n",
            "\n"
          ],
          "name": "stderr"
        },
        {
          "output_type": "display_data",
          "data": {
            "text/plain": [
              "png \n",
              "  2 "
            ],
            "text/latex": "\\textbf{png:} 2",
            "text/markdown": "**png:** 2",
            "text/html": [
              "<strong>png:</strong> 2"
            ]
          },
          "metadata": {
            "tags": []
          }
        },
        {
          "output_type": "stream",
          "text": [
            "`stat_bindot()` using `bins = 30`. Pick better value with `binwidth`.\n",
            "\n"
          ],
          "name": "stderr"
        },
        {
          "output_type": "display_data",
          "data": {
            "text/plain": [
              "png \n",
              "  2 "
            ],
            "text/latex": "\\textbf{png:} 2",
            "text/markdown": "**png:** 2",
            "text/html": [
              "<strong>png:</strong> 2"
            ]
          },
          "metadata": {
            "tags": []
          }
        },
        {
          "output_type": "stream",
          "text": [
            "`stat_bindot()` using `bins = 30`. Pick better value with `binwidth`.\n",
            "\n"
          ],
          "name": "stderr"
        },
        {
          "output_type": "display_data",
          "data": {
            "text/plain": [
              "png \n",
              "  2 "
            ],
            "text/latex": "\\textbf{png:} 2",
            "text/markdown": "**png:** 2",
            "text/html": [
              "<strong>png:</strong> 2"
            ]
          },
          "metadata": {
            "tags": []
          }
        },
        {
          "output_type": "stream",
          "text": [
            "`stat_bindot()` using `bins = 30`. Pick better value with `binwidth`.\n",
            "\n"
          ],
          "name": "stderr"
        },
        {
          "output_type": "display_data",
          "data": {
            "text/plain": [
              "png \n",
              "  2 "
            ],
            "text/latex": "\\textbf{png:} 2",
            "text/markdown": "**png:** 2",
            "text/html": [
              "<strong>png:</strong> 2"
            ]
          },
          "metadata": {
            "tags": []
          }
        },
        {
          "output_type": "stream",
          "text": [
            "`stat_bindot()` using `bins = 30`. Pick better value with `binwidth`.\n",
            "\n"
          ],
          "name": "stderr"
        },
        {
          "output_type": "display_data",
          "data": {
            "text/plain": [
              "png \n",
              "  2 "
            ],
            "text/latex": "\\textbf{png:} 2",
            "text/markdown": "**png:** 2",
            "text/html": [
              "<strong>png:</strong> 2"
            ]
          },
          "metadata": {
            "tags": []
          }
        },
        {
          "output_type": "stream",
          "text": [
            "`stat_bindot()` using `bins = 30`. Pick better value with `binwidth`.\n",
            "\n"
          ],
          "name": "stderr"
        },
        {
          "output_type": "display_data",
          "data": {
            "text/plain": [
              "png \n",
              "  2 "
            ],
            "text/latex": "\\textbf{png:} 2",
            "text/markdown": "**png:** 2",
            "text/html": [
              "<strong>png:</strong> 2"
            ]
          },
          "metadata": {
            "tags": []
          }
        },
        {
          "output_type": "stream",
          "text": [
            "`stat_bindot()` using `bins = 30`. Pick better value with `binwidth`.\n",
            "\n"
          ],
          "name": "stderr"
        },
        {
          "output_type": "display_data",
          "data": {
            "text/plain": [
              "png \n",
              "  2 "
            ],
            "text/latex": "\\textbf{png:} 2",
            "text/markdown": "**png:** 2",
            "text/html": [
              "<strong>png:</strong> 2"
            ]
          },
          "metadata": {
            "tags": []
          }
        },
        {
          "output_type": "stream",
          "text": [
            "`stat_bindot()` using `bins = 30`. Pick better value with `binwidth`.\n",
            "\n"
          ],
          "name": "stderr"
        },
        {
          "output_type": "display_data",
          "data": {
            "text/plain": [
              "png \n",
              "  2 "
            ],
            "text/latex": "\\textbf{png:} 2",
            "text/markdown": "**png:** 2",
            "text/html": [
              "<strong>png:</strong> 2"
            ]
          },
          "metadata": {
            "tags": []
          }
        },
        {
          "output_type": "stream",
          "text": [
            "`stat_bindot()` using `bins = 30`. Pick better value with `binwidth`.\n",
            "\n"
          ],
          "name": "stderr"
        },
        {
          "output_type": "display_data",
          "data": {
            "text/plain": [
              "png \n",
              "  2 "
            ],
            "text/latex": "\\textbf{png:} 2",
            "text/markdown": "**png:** 2",
            "text/html": [
              "<strong>png:</strong> 2"
            ]
          },
          "metadata": {
            "tags": []
          }
        },
        {
          "output_type": "stream",
          "text": [
            "`stat_bindot()` using `bins = 30`. Pick better value with `binwidth`.\n",
            "\n"
          ],
          "name": "stderr"
        },
        {
          "output_type": "display_data",
          "data": {
            "text/plain": [
              "png \n",
              "  2 "
            ],
            "text/latex": "\\textbf{png:} 2",
            "text/markdown": "**png:** 2",
            "text/html": [
              "<strong>png:</strong> 2"
            ]
          },
          "metadata": {
            "tags": []
          }
        },
        {
          "output_type": "stream",
          "text": [
            "`stat_bindot()` using `bins = 30`. Pick better value with `binwidth`.\n",
            "\n"
          ],
          "name": "stderr"
        },
        {
          "output_type": "display_data",
          "data": {
            "text/plain": [
              "png \n",
              "  2 "
            ],
            "text/latex": "\\textbf{png:} 2",
            "text/markdown": "**png:** 2",
            "text/html": [
              "<strong>png:</strong> 2"
            ]
          },
          "metadata": {
            "tags": []
          }
        },
        {
          "output_type": "stream",
          "text": [
            "`stat_bindot()` using `bins = 30`. Pick better value with `binwidth`.\n",
            "\n"
          ],
          "name": "stderr"
        },
        {
          "output_type": "display_data",
          "data": {
            "text/plain": [
              "png \n",
              "  2 "
            ],
            "text/latex": "\\textbf{png:} 2",
            "text/markdown": "**png:** 2",
            "text/html": [
              "<strong>png:</strong> 2"
            ]
          },
          "metadata": {
            "tags": []
          }
        },
        {
          "output_type": "stream",
          "text": [
            "`stat_bindot()` using `bins = 30`. Pick better value with `binwidth`.\n",
            "\n"
          ],
          "name": "stderr"
        },
        {
          "output_type": "display_data",
          "data": {
            "text/plain": [
              "png \n",
              "  2 "
            ],
            "text/latex": "\\textbf{png:} 2",
            "text/markdown": "**png:** 2",
            "text/html": [
              "<strong>png:</strong> 2"
            ]
          },
          "metadata": {
            "tags": []
          }
        },
        {
          "output_type": "stream",
          "text": [
            "`stat_bindot()` using `bins = 30`. Pick better value with `binwidth`.\n",
            "\n"
          ],
          "name": "stderr"
        },
        {
          "output_type": "display_data",
          "data": {
            "text/plain": [
              "png \n",
              "  2 "
            ],
            "text/latex": "\\textbf{png:} 2",
            "text/markdown": "**png:** 2",
            "text/html": [
              "<strong>png:</strong> 2"
            ]
          },
          "metadata": {
            "tags": []
          }
        },
        {
          "output_type": "stream",
          "text": [
            "`stat_bindot()` using `bins = 30`. Pick better value with `binwidth`.\n",
            "\n"
          ],
          "name": "stderr"
        },
        {
          "output_type": "display_data",
          "data": {
            "text/plain": [
              "png \n",
              "  2 "
            ],
            "text/latex": "\\textbf{png:} 2",
            "text/markdown": "**png:** 2",
            "text/html": [
              "<strong>png:</strong> 2"
            ]
          },
          "metadata": {
            "tags": []
          }
        },
        {
          "output_type": "stream",
          "text": [
            "`stat_bindot()` using `bins = 30`. Pick better value with `binwidth`.\n",
            "\n"
          ],
          "name": "stderr"
        },
        {
          "output_type": "display_data",
          "data": {
            "text/plain": [
              "png \n",
              "  2 "
            ],
            "text/latex": "\\textbf{png:} 2",
            "text/markdown": "**png:** 2",
            "text/html": [
              "<strong>png:</strong> 2"
            ]
          },
          "metadata": {
            "tags": []
          }
        },
        {
          "output_type": "stream",
          "text": [
            "`stat_bindot()` using `bins = 30`. Pick better value with `binwidth`.\n",
            "\n"
          ],
          "name": "stderr"
        },
        {
          "output_type": "display_data",
          "data": {
            "text/plain": [
              "png \n",
              "  2 "
            ],
            "text/latex": "\\textbf{png:} 2",
            "text/markdown": "**png:** 2",
            "text/html": [
              "<strong>png:</strong> 2"
            ]
          },
          "metadata": {
            "tags": []
          }
        },
        {
          "output_type": "stream",
          "text": [
            "`stat_bindot()` using `bins = 30`. Pick better value with `binwidth`.\n",
            "\n"
          ],
          "name": "stderr"
        },
        {
          "output_type": "display_data",
          "data": {
            "text/plain": [
              "png \n",
              "  2 "
            ],
            "text/latex": "\\textbf{png:} 2",
            "text/markdown": "**png:** 2",
            "text/html": [
              "<strong>png:</strong> 2"
            ]
          },
          "metadata": {
            "tags": []
          }
        },
        {
          "output_type": "stream",
          "text": [
            "`stat_bindot()` using `bins = 30`. Pick better value with `binwidth`.\n",
            "\n"
          ],
          "name": "stderr"
        },
        {
          "output_type": "display_data",
          "data": {
            "text/plain": [
              "png \n",
              "  2 "
            ],
            "text/latex": "\\textbf{png:} 2",
            "text/markdown": "**png:** 2",
            "text/html": [
              "<strong>png:</strong> 2"
            ]
          },
          "metadata": {
            "tags": []
          }
        },
        {
          "output_type": "stream",
          "text": [
            "`stat_bindot()` using `bins = 30`. Pick better value with `binwidth`.\n",
            "\n"
          ],
          "name": "stderr"
        },
        {
          "output_type": "display_data",
          "data": {
            "text/plain": [
              "png \n",
              "  2 "
            ],
            "text/latex": "\\textbf{png:} 2",
            "text/markdown": "**png:** 2",
            "text/html": [
              "<strong>png:</strong> 2"
            ]
          },
          "metadata": {
            "tags": []
          }
        },
        {
          "output_type": "stream",
          "text": [
            "`stat_bindot()` using `bins = 30`. Pick better value with `binwidth`.\n",
            "\n"
          ],
          "name": "stderr"
        },
        {
          "output_type": "display_data",
          "data": {
            "text/plain": [
              "png \n",
              "  2 "
            ],
            "text/latex": "\\textbf{png:} 2",
            "text/markdown": "**png:** 2",
            "text/html": [
              "<strong>png:</strong> 2"
            ]
          },
          "metadata": {
            "tags": []
          }
        },
        {
          "output_type": "stream",
          "text": [
            "`stat_bindot()` using `bins = 30`. Pick better value with `binwidth`.\n",
            "\n"
          ],
          "name": "stderr"
        },
        {
          "output_type": "display_data",
          "data": {
            "text/plain": [
              "png \n",
              "  2 "
            ],
            "text/latex": "\\textbf{png:} 2",
            "text/markdown": "**png:** 2",
            "text/html": [
              "<strong>png:</strong> 2"
            ]
          },
          "metadata": {
            "tags": []
          }
        },
        {
          "output_type": "stream",
          "text": [
            "`stat_bindot()` using `bins = 30`. Pick better value with `binwidth`.\n",
            "\n"
          ],
          "name": "stderr"
        },
        {
          "output_type": "display_data",
          "data": {
            "text/plain": [
              "png \n",
              "  2 "
            ],
            "text/latex": "\\textbf{png:} 2",
            "text/markdown": "**png:** 2",
            "text/html": [
              "<strong>png:</strong> 2"
            ]
          },
          "metadata": {
            "tags": []
          }
        },
        {
          "output_type": "stream",
          "text": [
            "`stat_bindot()` using `bins = 30`. Pick better value with `binwidth`.\n",
            "\n"
          ],
          "name": "stderr"
        },
        {
          "output_type": "display_data",
          "data": {
            "text/plain": [
              "png \n",
              "  2 "
            ],
            "text/latex": "\\textbf{png:} 2",
            "text/markdown": "**png:** 2",
            "text/html": [
              "<strong>png:</strong> 2"
            ]
          },
          "metadata": {
            "tags": []
          }
        },
        {
          "output_type": "stream",
          "text": [
            "`stat_bindot()` using `bins = 30`. Pick better value with `binwidth`.\n",
            "\n"
          ],
          "name": "stderr"
        },
        {
          "output_type": "display_data",
          "data": {
            "text/plain": [
              "png \n",
              "  2 "
            ],
            "text/latex": "\\textbf{png:} 2",
            "text/markdown": "**png:** 2",
            "text/html": [
              "<strong>png:</strong> 2"
            ]
          },
          "metadata": {
            "tags": []
          }
        },
        {
          "output_type": "stream",
          "text": [
            "`stat_bindot()` using `bins = 30`. Pick better value with `binwidth`.\n",
            "\n"
          ],
          "name": "stderr"
        },
        {
          "output_type": "display_data",
          "data": {
            "text/plain": [
              "png \n",
              "  2 "
            ],
            "text/latex": "\\textbf{png:} 2",
            "text/markdown": "**png:** 2",
            "text/html": [
              "<strong>png:</strong> 2"
            ]
          },
          "metadata": {
            "tags": []
          }
        },
        {
          "output_type": "stream",
          "text": [
            "`stat_bindot()` using `bins = 30`. Pick better value with `binwidth`.\n",
            "\n"
          ],
          "name": "stderr"
        },
        {
          "output_type": "display_data",
          "data": {
            "text/plain": [
              "png \n",
              "  2 "
            ],
            "text/latex": "\\textbf{png:} 2",
            "text/markdown": "**png:** 2",
            "text/html": [
              "<strong>png:</strong> 2"
            ]
          },
          "metadata": {
            "tags": []
          }
        },
        {
          "output_type": "stream",
          "text": [
            "`stat_bindot()` using `bins = 30`. Pick better value with `binwidth`.\n",
            "\n"
          ],
          "name": "stderr"
        },
        {
          "output_type": "display_data",
          "data": {
            "text/plain": [
              "png \n",
              "  2 "
            ],
            "text/latex": "\\textbf{png:} 2",
            "text/markdown": "**png:** 2",
            "text/html": [
              "<strong>png:</strong> 2"
            ]
          },
          "metadata": {
            "tags": []
          }
        },
        {
          "output_type": "stream",
          "text": [
            "`stat_bindot()` using `bins = 30`. Pick better value with `binwidth`.\n",
            "\n"
          ],
          "name": "stderr"
        },
        {
          "output_type": "display_data",
          "data": {
            "text/plain": [
              "png \n",
              "  2 "
            ],
            "text/latex": "\\textbf{png:} 2",
            "text/markdown": "**png:** 2",
            "text/html": [
              "<strong>png:</strong> 2"
            ]
          },
          "metadata": {
            "tags": []
          }
        },
        {
          "output_type": "stream",
          "text": [
            "`stat_bindot()` using `bins = 30`. Pick better value with `binwidth`.\n",
            "\n"
          ],
          "name": "stderr"
        },
        {
          "output_type": "display_data",
          "data": {
            "text/plain": [
              "png \n",
              "  2 "
            ],
            "text/latex": "\\textbf{png:} 2",
            "text/markdown": "**png:** 2",
            "text/html": [
              "<strong>png:</strong> 2"
            ]
          },
          "metadata": {
            "tags": []
          }
        },
        {
          "output_type": "stream",
          "text": [
            "`stat_bindot()` using `bins = 30`. Pick better value with `binwidth`.\n",
            "\n"
          ],
          "name": "stderr"
        },
        {
          "output_type": "display_data",
          "data": {
            "text/plain": [
              "png \n",
              "  2 "
            ],
            "text/latex": "\\textbf{png:} 2",
            "text/markdown": "**png:** 2",
            "text/html": [
              "<strong>png:</strong> 2"
            ]
          },
          "metadata": {
            "tags": []
          }
        },
        {
          "output_type": "stream",
          "text": [
            "`stat_bindot()` using `bins = 30`. Pick better value with `binwidth`.\n",
            "\n"
          ],
          "name": "stderr"
        },
        {
          "output_type": "display_data",
          "data": {
            "text/plain": [
              "png \n",
              "  2 "
            ],
            "text/latex": "\\textbf{png:} 2",
            "text/markdown": "**png:** 2",
            "text/html": [
              "<strong>png:</strong> 2"
            ]
          },
          "metadata": {
            "tags": []
          }
        },
        {
          "output_type": "stream",
          "text": [
            "`stat_bindot()` using `bins = 30`. Pick better value with `binwidth`.\n",
            "\n"
          ],
          "name": "stderr"
        },
        {
          "output_type": "display_data",
          "data": {
            "text/plain": [
              "png \n",
              "  2 "
            ],
            "text/latex": "\\textbf{png:} 2",
            "text/markdown": "**png:** 2",
            "text/html": [
              "<strong>png:</strong> 2"
            ]
          },
          "metadata": {
            "tags": []
          }
        },
        {
          "output_type": "stream",
          "text": [
            "`stat_bindot()` using `bins = 30`. Pick better value with `binwidth`.\n",
            "\n"
          ],
          "name": "stderr"
        },
        {
          "output_type": "display_data",
          "data": {
            "text/plain": [
              "png \n",
              "  2 "
            ],
            "text/latex": "\\textbf{png:} 2",
            "text/markdown": "**png:** 2",
            "text/html": [
              "<strong>png:</strong> 2"
            ]
          },
          "metadata": {
            "tags": []
          }
        },
        {
          "output_type": "stream",
          "text": [
            "`stat_bindot()` using `bins = 30`. Pick better value with `binwidth`.\n",
            "\n"
          ],
          "name": "stderr"
        },
        {
          "output_type": "display_data",
          "data": {
            "text/plain": [
              "png \n",
              "  2 "
            ],
            "text/latex": "\\textbf{png:} 2",
            "text/markdown": "**png:** 2",
            "text/html": [
              "<strong>png:</strong> 2"
            ]
          },
          "metadata": {
            "tags": []
          }
        },
        {
          "output_type": "stream",
          "text": [
            "`stat_bindot()` using `bins = 30`. Pick better value with `binwidth`.\n",
            "\n"
          ],
          "name": "stderr"
        },
        {
          "output_type": "display_data",
          "data": {
            "text/plain": [
              "png \n",
              "  2 "
            ],
            "text/latex": "\\textbf{png:} 2",
            "text/markdown": "**png:** 2",
            "text/html": [
              "<strong>png:</strong> 2"
            ]
          },
          "metadata": {
            "tags": []
          }
        },
        {
          "output_type": "stream",
          "text": [
            "`stat_bindot()` using `bins = 30`. Pick better value with `binwidth`.\n",
            "\n"
          ],
          "name": "stderr"
        },
        {
          "output_type": "display_data",
          "data": {
            "text/plain": [
              "png \n",
              "  2 "
            ],
            "text/latex": "\\textbf{png:} 2",
            "text/markdown": "**png:** 2",
            "text/html": [
              "<strong>png:</strong> 2"
            ]
          },
          "metadata": {
            "tags": []
          }
        },
        {
          "output_type": "stream",
          "text": [
            "`stat_bindot()` using `bins = 30`. Pick better value with `binwidth`.\n",
            "\n"
          ],
          "name": "stderr"
        },
        {
          "output_type": "display_data",
          "data": {
            "text/plain": [
              "png \n",
              "  2 "
            ],
            "text/latex": "\\textbf{png:} 2",
            "text/markdown": "**png:** 2",
            "text/html": [
              "<strong>png:</strong> 2"
            ]
          },
          "metadata": {
            "tags": []
          }
        },
        {
          "output_type": "stream",
          "text": [
            "`stat_bindot()` using `bins = 30`. Pick better value with `binwidth`.\n",
            "\n"
          ],
          "name": "stderr"
        },
        {
          "output_type": "display_data",
          "data": {
            "text/plain": [
              "png \n",
              "  2 "
            ],
            "text/latex": "\\textbf{png:} 2",
            "text/markdown": "**png:** 2",
            "text/html": [
              "<strong>png:</strong> 2"
            ]
          },
          "metadata": {
            "tags": []
          }
        }
      ]
    },
    {
      "cell_type": "code",
      "metadata": {
        "id": "T4M615YHh7a4",
        "colab_type": "code",
        "outputId": "f149dfc2-e92c-481c-e5f8-3cfa19bbe86e",
        "colab": {
          "base_uri": "https://localhost:8080/",
          "height": 1000
        }
      },
      "source": [
        "summary(lm(cases_MAR_to_APR ~ Declared.state.of.emergency))\n",
        "summary(lm(cases_APR_to_MAY ~ Declared.state.of.emergency))\n",
        "summary(lm(percentage_infected_MAY ~ Declared.state.of.emergency))\n",
        "summary(lm(YoY.Growth ~ Declared.state.of.emergency))\n",
        "summary(lm(MoM.Growth ~ Declared.state.of.emergency))\n",
        "summary(lm(cases_MAR_to_APR ~ Ordered.Closure.of.K.12.schools))\n",
        "summary(lm(cases_APR_to_MAY ~ Ordered.Closure.of.K.12.schools))\n",
        "summary(lm(percentage_infected_MAY ~ Ordered.Closure.of.K.12.schools))\n",
        "summary(lm(YoY.Growth ~ Ordered.Closure.of.K.12.schools))\n",
        "summary(lm(MoM.Growth ~ Ordered.Closure.of.K.12.schools))\n",
        "summary(lm(cases_MAR_to_APR ~ Closed.daycares))\n",
        "summary(lm(cases_APR_to_MAY ~ Closed.daycares))\n",
        "summary(lm(percentage_infected_MAY ~ Closed.daycares))\n",
        "summary(lm(YoY.Growth ~ Closed.daycares))\n",
        "summary(lm(MoM.Growth ~ Closed.daycares))\n",
        "summary(lm(cases_MAR_to_APR ~ Banned.visits.to.long.term.care.homes))\n",
        "summary(lm(cases_APR_to_MAY ~ Banned.visits.to.long.term.care.homes))\n",
        "summary(lm(percentage_infected_MAY ~ Banned.visits.to.long.term.care.homes))\n",
        "summary(lm(YoY.Growth ~ Banned.visits.to.long.term.care.homes))\n",
        "summary(lm(MoM.Growth ~ Banned.visits.to.long.term.care.homes))\n",
        "summary(lm(cases_MAR_to_APR ~ Closed.non.essential.businesses))\n",
        "summary(lm(cases_APR_to_MAY ~ Closed.non.essential.businesses))\n",
        "summary(lm(percentage_infected_MAY ~ Closed.non.essential.businesses))\n",
        "summary(lm(YoY.Growth ~ Closed.non.essential.businesses))\n",
        "summary(lm(MoM.Growth ~ Closed.non.essential.businesses))\n",
        "summary(lm(cases_MAR_to_APR ~ Closed.restaurants.except.take.out))\n",
        "summary(lm(cases_APR_to_MAY ~ Closed.restaurants.except.take.out))\n",
        "summary(lm(percentage_infected_MAY ~ Closed.restaurants.except.take.out))\n",
        "summary(lm(YoY.Growth ~ Closed.restaurants.except.take.out))\n",
        "summary(lm(MoM.Growth ~ Closed.restaurants.except.take.out))\n",
        "summary(lm(cases_MAR_to_APR ~ Closed.cannabis.and.liquor.stores))\n",
        "summary(lm(cases_APR_to_MAY ~ Closed.cannabis.and.liquor.stores))\n",
        "summary(lm(percentage_infected_MAY ~ Closed.cannabis.and.liquor.stores))\n",
        "summary(lm(YoY.Growth ~ Closed.cannabis.and.liquor.stores))\n",
        "summary(lm(MoM.Growth ~ Closed.cannabis.and.liquor.stores))\n",
        "summary(lm(cases_MAR_to_APR ~ Closed.gyms))\n",
        "summary(lm(cases_APR_to_MAY ~ Closed.gyms))\n",
        "summary(lm(percentage_infected_MAY ~ Closed.gyms))\n",
        "summary(lm(YoY.Growth ~ Closed.gyms))\n",
        "summary(lm(MoM.Growth ~ Closed.gyms))\n",
        "summary(lm(cases_MAR_to_APR ~ Closed.movie.theaters))\n",
        "summary(lm(cases_APR_to_MAY ~ Closed.movie.theaters))\n",
        "summary(lm(percentage_infected_MAY ~ Closed.movie.theaters))\n",
        "summary(lm(YoY.Growth ~ Closed.movie.theaters))\n",
        "summary(lm(MoM.Growth ~ Closed.movie.theaters))\n",
        "summary(lm(cases_MAR_to_APR ~ Froze.evictions))\n",
        "summary(lm(cases_APR_to_MAY ~ Froze.evictions))\n",
        "summary(lm(percentage_infected_MAY ~ Froze.evictions))\n",
        "summary(lm(YoY.Growth ~ Froze.evictions))\n",
        "summary(lm(MoM.Growth ~ Froze.evictions))\n",
        "summary(lm(cases_MAR_to_APR ~ Ordered.freezing.utility.shut.offs))\n",
        "summary(lm(cases_APR_to_MAY ~ Ordered.freezing.utility.shut.offs))\n",
        "summary(lm(percentage_infected_MAY ~ Ordered.freezing.utility.shut.offs))\n",
        "summary(lm(YoY.Growth ~ Ordered.freezing.utility.shut.offs))\n",
        "summary(lm(MoM.Growth ~ Ordered.freezing.utility.shut.offs))\n",
        "summary(lm(cases_MAR_to_APR ~ Public.Face.Mask.Mandate))\n",
        "summary(lm(cases_APR_to_MAY ~ Public.Face.Mask.Mandate))\n",
        "summary(lm(percentage_infected_MAY ~ Public.Face.Mask.Mandate))\n",
        "summary(lm(YoY.Growth ~ Public.Face.Mask.Mandate))\n",
        "summary(lm(MoM.Growth ~ Public.Face.Mask.Mandate))\n",
        "summary(lm(cases_MAR_to_APR ~ Employee.Face.Mask.Mandate))\n",
        "summary(lm(cases_APR_to_MAY ~ Employee.Face.Mask.Mandate))\n",
        "summary(lm(percentage_infected_MAY ~ Employee.Face.Mask.Mandate))\n",
        "summary(lm(YoY.Growth ~ Employee.Face.Mask.Mandate))\n",
        "summary(lm(MoM.Growth ~ Employee.Face.Mask.Mandate))\n",
        "summary(lm(cases_MAR_to_APR ~ Travel.Restriction))\n",
        "summary(lm(cases_APR_to_MAY ~ Travel.Restriction))\n",
        "summary(lm(percentage_infected_MAY ~ Travel.Restriction))\n",
        "summary(lm(YoY.Growth ~ Travel.Restriction))\n",
        "summary(lm(MoM.Growth ~ Travel.Restriction))\n",
        "summary(lm(cases_MAR_to_APR ~ Large.Gathering.ban))\n",
        "summary(lm(cases_APR_to_MAY ~ Large.Gathering.ban))\n",
        "summary(lm(percentage_infected_MAY ~ Large.Gathering.ban))\n",
        "summary(lm(YoY.Growth ~ Large.Gathering.ban))\n",
        "summary(lm(MoM.Growth ~ Large.Gathering.ban))\n",
        "summary(lm(cases_MAR_to_APR ~ Employee.Screening))\n",
        "summary(lm(cases_APR_to_MAY ~ Employee.Screening))\n",
        "summary(lm(percentage_infected_MAY ~ Employee.Screening))\n",
        "summary(lm(YoY.Growth ~ Employee.Screening))\n",
        "summary(lm(MoM.Growth ~ Employee.Screening))"
      ],
      "execution_count": 0,
      "outputs": [
        {
          "output_type": "display_data",
          "data": {
            "text/plain": [
              "\n",
              "Call:\n",
              "lm(formula = cases_MAR_to_APR ~ Declared.state.of.emergency)\n",
              "\n",
              "Residuals:\n",
              "   Min     1Q Median     3Q    Max \n",
              "-18973 -11845  -6132   8197  77326 \n",
              "\n",
              "Coefficients: (1 not defined because of singularities)\n",
              "                            Estimate Std. Error t value Pr(>|t|)    \n",
              "(Intercept)                    20474       2491   8.219 3.38e-11 ***\n",
              "Declared.state.of.emergency       NA         NA      NA       NA    \n",
              "---\n",
              "Signif. codes:  0 ‘***’ 0.001 ‘**’ 0.01 ‘*’ 0.05 ‘.’ 0.1 ‘ ’ 1\n",
              "\n",
              "Residual standard error: 18810 on 56 degrees of freedom\n"
            ]
          },
          "metadata": {
            "tags": []
          }
        },
        {
          "output_type": "display_data",
          "data": {
            "text/plain": [
              "\n",
              "Call:\n",
              "lm(formula = cases_APR_to_MAY ~ Declared.state.of.emergency)\n",
              "\n",
              "Residuals:\n",
              "    Min      1Q  Median      3Q     Max \n",
              "-186.62  -93.28  -17.31   43.20  693.31 \n",
              "\n",
              "Coefficients: (1 not defined because of singularities)\n",
              "                            Estimate Std. Error t value Pr(>|t|)    \n",
              "(Intercept)                   189.19      21.25   8.905 2.57e-12 ***\n",
              "Declared.state.of.emergency       NA         NA      NA       NA    \n",
              "---\n",
              "Signif. codes:  0 ‘***’ 0.001 ‘**’ 0.01 ‘*’ 0.05 ‘.’ 0.1 ‘ ’ 1\n",
              "\n",
              "Residual standard error: 160.4 on 56 degrees of freedom\n"
            ]
          },
          "metadata": {
            "tags": []
          }
        },
        {
          "output_type": "display_data",
          "data": {
            "text/plain": [
              "\n",
              "Call:\n",
              "lm(formula = percentage_infected_MAY ~ Declared.state.of.emergency)\n",
              "\n",
              "Residuals:\n",
              "    Min      1Q  Median      3Q     Max \n",
              "-3.5260 -2.0945 -1.4041  0.7379 14.3255 \n",
              "\n",
              "Coefficients: (1 not defined because of singularities)\n",
              "                            Estimate Std. Error t value Pr(>|t|)    \n",
              "(Intercept)                   3.7149     0.5024   7.395 7.71e-10 ***\n",
              "Declared.state.of.emergency       NA         NA      NA       NA    \n",
              "---\n",
              "Signif. codes:  0 ‘***’ 0.001 ‘**’ 0.01 ‘*’ 0.05 ‘.’ 0.1 ‘ ’ 1\n",
              "\n",
              "Residual standard error: 3.793 on 56 degrees of freedom\n"
            ]
          },
          "metadata": {
            "tags": []
          }
        },
        {
          "output_type": "display_data",
          "data": {
            "text/plain": [
              "\n",
              "Call:\n",
              "lm(formula = YoY.Growth ~ Declared.state.of.emergency)\n",
              "\n",
              "Residuals:\n",
              "    Min      1Q  Median      3Q     Max \n",
              "-234.92  -78.03    7.34   49.87  420.19 \n",
              "\n",
              "Coefficients: (1 not defined because of singularities)\n",
              "                            Estimate Std. Error t value Pr(>|t|)    \n",
              "(Intercept)                   248.62      16.46    15.1   <2e-16 ***\n",
              "Declared.state.of.emergency       NA         NA      NA       NA    \n",
              "---\n",
              "Signif. codes:  0 ‘***’ 0.001 ‘**’ 0.01 ‘*’ 0.05 ‘.’ 0.1 ‘ ’ 1\n",
              "\n",
              "Residual standard error: 124.3 on 56 degrees of freedom\n"
            ]
          },
          "metadata": {
            "tags": []
          }
        },
        {
          "output_type": "display_data",
          "data": {
            "text/plain": [
              "\n",
              "Call:\n",
              "lm(formula = MoM.Growth ~ Declared.state.of.emergency)\n",
              "\n",
              "Residuals:\n",
              "    Min      1Q  Median      3Q     Max \n",
              "-202.37 -101.40  -31.20   78.82  560.80 \n",
              "\n",
              "Coefficients: (1 not defined because of singularities)\n",
              "                            Estimate Std. Error t value Pr(>|t|)    \n",
              "(Intercept)                   215.88      18.34   11.77   <2e-16 ***\n",
              "Declared.state.of.emergency       NA         NA      NA       NA    \n",
              "---\n",
              "Signif. codes:  0 ‘***’ 0.001 ‘**’ 0.01 ‘*’ 0.05 ‘.’ 0.1 ‘ ’ 1\n",
              "\n",
              "Residual standard error: 138.4 on 56 degrees of freedom\n"
            ]
          },
          "metadata": {
            "tags": []
          }
        },
        {
          "output_type": "display_data",
          "data": {
            "text/plain": [
              "\n",
              "Call:\n",
              "lm(formula = cases_MAR_to_APR ~ Ordered.Closure.of.K.12.schools)\n",
              "\n",
              "Residuals:\n",
              "   Min     1Q Median     3Q    Max \n",
              "-19239 -12079  -5806   7931  77060 \n",
              "\n",
              "Coefficients:\n",
              "                                Estimate Std. Error t value Pr(>|t|)\n",
              "(Intercept)                         5571      18870   0.295    0.769\n",
              "Ordered.Closure.of.K.12.schools    15170      19038   0.797    0.429\n",
              "\n",
              "Residual standard error: 18870 on 55 degrees of freedom\n",
              "Multiple R-squared:  0.01141,\tAdjusted R-squared:  -0.006562 \n",
              "F-statistic: 0.6349 on 1 and 55 DF,  p-value: 0.429\n"
            ]
          },
          "metadata": {
            "tags": []
          }
        },
        {
          "output_type": "display_data",
          "data": {
            "text/plain": [
              "\n",
              "Call:\n",
              "lm(formula = cases_APR_to_MAY ~ Ordered.Closure.of.K.12.schools)\n",
              "\n",
              "Residuals:\n",
              "    Min      1Q  Median      3Q     Max \n",
              "-186.71  -93.37  -17.40   43.11  693.22 \n",
              "\n",
              "Coefficients:\n",
              "                                Estimate Std. Error t value Pr(>|t|)\n",
              "(Intercept)                      184.115    161.851   1.138    0.260\n",
              "Ordered.Closure.of.K.12.schools    5.161    163.290   0.032    0.975\n",
              "\n",
              "Residual standard error: 161.9 on 55 degrees of freedom\n",
              "Multiple R-squared:  1.816e-05,\tAdjusted R-squared:  -0.01816 \n",
              "F-statistic: 0.0009991 on 1 and 55 DF,  p-value: 0.9749\n"
            ]
          },
          "metadata": {
            "tags": []
          }
        },
        {
          "output_type": "display_data",
          "data": {
            "text/plain": [
              "\n",
              "Call:\n",
              "lm(formula = percentage_infected_MAY ~ Ordered.Closure.of.K.12.schools)\n",
              "\n",
              "Residuals:\n",
              "    Min      1Q  Median      3Q     Max \n",
              "-3.5576 -2.1260 -1.4270  0.7064 14.2940 \n",
              "\n",
              "Coefficients:\n",
              "                                Estimate Std. Error t value Pr(>|t|)\n",
              "(Intercept)                        1.949      3.820   0.510    0.612\n",
              "Ordered.Closure.of.K.12.schools    1.797      3.854   0.466    0.643\n",
              "\n",
              "Residual standard error: 3.82 on 55 degrees of freedom\n",
              "Multiple R-squared:  0.003939,\tAdjusted R-squared:  -0.01417 \n",
              "F-statistic: 0.2175 on 1 and 55 DF,  p-value: 0.6428\n"
            ]
          },
          "metadata": {
            "tags": []
          }
        },
        {
          "output_type": "display_data",
          "data": {
            "text/plain": [
              "\n",
              "Call:\n",
              "lm(formula = YoY.Growth ~ Ordered.Closure.of.K.12.schools)\n",
              "\n",
              "Residuals:\n",
              "    Min      1Q  Median      3Q     Max \n",
              "-234.76  -77.86    5.69   50.04  420.35 \n",
              "\n",
              "Coefficients:\n",
              "                                Estimate Std. Error t value Pr(>|t|)  \n",
              "(Intercept)                      257.777    125.418   2.055   0.0446 *\n",
              "Ordered.Closure.of.K.12.schools   -9.321    126.532  -0.074   0.9415  \n",
              "---\n",
              "Signif. codes:  0 ‘***’ 0.001 ‘**’ 0.01 ‘*’ 0.05 ‘.’ 0.1 ‘ ’ 1\n",
              "\n",
              "Residual standard error: 125.4 on 55 degrees of freedom\n",
              "Multiple R-squared:  9.865e-05,\tAdjusted R-squared:  -0.01808 \n",
              "F-statistic: 0.005426 on 1 and 55 DF,  p-value: 0.9415\n"
            ]
          },
          "metadata": {
            "tags": []
          }
        },
        {
          "output_type": "display_data",
          "data": {
            "text/plain": [
              "\n",
              "Call:\n",
              "lm(formula = MoM.Growth ~ Ordered.Closure.of.K.12.schools)\n",
              "\n",
              "Residuals:\n",
              "    Min      1Q  Median      3Q     Max \n",
              "-203.11 -102.15  -30.38   78.08  560.05 \n",
              "\n",
              "Coefficients:\n",
              "                                Estimate Std. Error t value Pr(>|t|)\n",
              "(Intercept)                        174.2      139.6   1.248    0.217\n",
              "Ordered.Closure.of.K.12.schools     42.4      140.8   0.301    0.764\n",
              "\n",
              "Residual standard error: 139.6 on 55 degrees of freedom\n",
              "Multiple R-squared:  0.001646,\tAdjusted R-squared:  -0.01651 \n",
              "F-statistic: 0.09066 on 1 and 55 DF,  p-value: 0.7645\n"
            ]
          },
          "metadata": {
            "tags": []
          }
        },
        {
          "output_type": "display_data",
          "data": {
            "text/plain": [
              "\n",
              "Call:\n",
              "lm(formula = cases_MAR_to_APR ~ Closed.daycares)\n",
              "\n",
              "Residuals:\n",
              "   Min     1Q Median     3Q    Max \n",
              "-20373 -12044  -5328   8577  78622 \n",
              "\n",
              "Coefficients:\n",
              "                Estimate Std. Error t value Pr(>|t|)    \n",
              "(Intercept)        19178       3106   6.174  8.4e-08 ***\n",
              "Closed.daycares     3695       5244   0.705    0.484    \n",
              "---\n",
              "Signif. codes:  0 ‘***’ 0.001 ‘**’ 0.01 ‘*’ 0.05 ‘.’ 0.1 ‘ ’ 1\n",
              "\n",
              "Residual standard error: 18890 on 55 degrees of freedom\n",
              "Multiple R-squared:  0.008946,\tAdjusted R-squared:  -0.009073 \n",
              "F-statistic: 0.4965 on 1 and 55 DF,  p-value: 0.484\n"
            ]
          },
          "metadata": {
            "tags": []
          }
        },
        {
          "output_type": "display_data",
          "data": {
            "text/plain": [
              "\n",
              "Call:\n",
              "lm(formula = cases_APR_to_MAY ~ Closed.daycares)\n",
              "\n",
              "Residuals:\n",
              "    Min      1Q  Median      3Q     Max \n",
              "-194.96 -100.68  -21.82   28.72  672.19 \n",
              "\n",
              "Coefficients:\n",
              "                Estimate Std. Error t value Pr(>|t|)    \n",
              "(Intercept)       210.30      26.17   8.036 7.62e-11 ***\n",
              "Closed.daycares   -60.19      44.18  -1.362    0.179    \n",
              "---\n",
              "Signif. codes:  0 ‘***’ 0.001 ‘**’ 0.01 ‘*’ 0.05 ‘.’ 0.1 ‘ ’ 1\n",
              "\n",
              "Residual standard error: 159.2 on 55 degrees of freedom\n",
              "Multiple R-squared:  0.03264,\tAdjusted R-squared:  0.01506 \n",
              "F-statistic: 1.856 on 1 and 55 DF,  p-value: 0.1786\n"
            ]
          },
          "metadata": {
            "tags": []
          }
        },
        {
          "output_type": "display_data",
          "data": {
            "text/plain": [
              "\n",
              "Call:\n",
              "lm(formula = percentage_infected_MAY ~ Closed.daycares)\n",
              "\n",
              "Residuals:\n",
              "    Min      1Q  Median      3Q     Max \n",
              "-4.3465 -2.2158 -1.0855  0.7808 14.7690 \n",
              "\n",
              "Coefficients:\n",
              "                Estimate Std. Error t value Pr(>|t|)    \n",
              "(Intercept)       3.2715     0.6211   5.268 2.37e-06 ***\n",
              "Closed.daycares   1.2639     1.0485   1.205    0.233    \n",
              "---\n",
              "Signif. codes:  0 ‘***’ 0.001 ‘**’ 0.01 ‘*’ 0.05 ‘.’ 0.1 ‘ ’ 1\n",
              "\n",
              "Residual standard error: 3.778 on 55 degrees of freedom\n",
              "Multiple R-squared:  0.02574,\tAdjusted R-squared:  0.008028 \n",
              "F-statistic: 1.453 on 1 and 55 DF,  p-value: 0.2332\n"
            ]
          },
          "metadata": {
            "tags": []
          }
        },
        {
          "output_type": "display_data",
          "data": {
            "text/plain": [
              "\n",
              "Call:\n",
              "lm(formula = YoY.Growth ~ Closed.daycares)\n",
              "\n",
              "Residuals:\n",
              "    Min      1Q  Median      3Q     Max \n",
              "-228.80  -79.03    4.99   46.57  416.88 \n",
              "\n",
              "Coefficients:\n",
              "                Estimate Std. Error t value Pr(>|t|)    \n",
              "(Intercept)      251.929     20.606  12.226   <2e-16 ***\n",
              "Closed.daycares   -9.432     34.787  -0.271    0.787    \n",
              "---\n",
              "Signif. codes:  0 ‘***’ 0.001 ‘**’ 0.01 ‘*’ 0.05 ‘.’ 0.1 ‘ ’ 1\n",
              "\n",
              "Residual standard error: 125.3 on 55 degrees of freedom\n",
              "Multiple R-squared:  0.001335,\tAdjusted R-squared:  -0.01682 \n",
              "F-statistic: 0.07351 on 1 and 55 DF,  p-value: 0.7873\n"
            ]
          },
          "metadata": {
            "tags": []
          }
        },
        {
          "output_type": "display_data",
          "data": {
            "text/plain": [
              "\n",
              "Call:\n",
              "lm(formula = MoM.Growth ~ Closed.daycares)\n",
              "\n",
              "Residuals:\n",
              "    Min      1Q  Median      3Q     Max \n",
              "-187.40  -99.75  -20.38   79.35  552.70 \n",
              "\n",
              "Coefficients:\n",
              "                Estimate Std. Error t value Pr(>|t|)    \n",
              "(Intercept)       223.98      22.89   9.785 1.21e-13 ***\n",
              "Closed.daycares   -23.07      38.64  -0.597    0.553    \n",
              "---\n",
              "Signif. codes:  0 ‘***’ 0.001 ‘**’ 0.01 ‘*’ 0.05 ‘.’ 0.1 ‘ ’ 1\n",
              "\n",
              "Residual standard error: 139.2 on 55 degrees of freedom\n",
              "Multiple R-squared:  0.006436,\tAdjusted R-squared:  -0.01163 \n",
              "F-statistic: 0.3563 on 1 and 55 DF,  p-value: 0.553\n"
            ]
          },
          "metadata": {
            "tags": []
          }
        },
        {
          "output_type": "display_data",
          "data": {
            "text/plain": [
              "\n",
              "Call:\n",
              "lm(formula = cases_MAR_to_APR ~ Banned.visits.to.long.term.care.homes)\n",
              "\n",
              "Residuals:\n",
              "   Min     1Q Median     3Q    Max \n",
              "-20096 -12935  -5822   7966  76204 \n",
              "\n",
              "Coefficients:\n",
              "                                      Estimate Std. Error t value Pr(>|t|)    \n",
              "(Intercept)                              18689       4034   4.632 2.26e-05 ***\n",
              "Banned.visits.to.long.term.care.homes     2908       5149   0.565    0.575    \n",
              "---\n",
              "Signif. codes:  0 ‘***’ 0.001 ‘**’ 0.01 ‘*’ 0.05 ‘.’ 0.1 ‘ ’ 1\n",
              "\n",
              "Residual standard error: 18920 on 55 degrees of freedom\n",
              "Multiple R-squared:  0.005765,\tAdjusted R-squared:  -0.01231 \n",
              "F-statistic: 0.3189 on 1 and 55 DF,  p-value: 0.5746\n"
            ]
          },
          "metadata": {
            "tags": []
          }
        },
        {
          "output_type": "display_data",
          "data": {
            "text/plain": [
              "\n",
              "Call:\n",
              "lm(formula = cases_APR_to_MAY ~ Banned.visits.to.long.term.care.homes)\n",
              "\n",
              "Residuals:\n",
              "    Min      1Q  Median      3Q     Max \n",
              "-223.13 -111.79  -10.11   40.39  656.80 \n",
              "\n",
              "Coefficients:\n",
              "                                      Estimate Std. Error t value Pr(>|t|)    \n",
              "(Intercept)                             225.69      33.93   6.652  1.4e-08 ***\n",
              "Banned.visits.to.long.term.care.homes   -59.46      43.30  -1.373    0.175    \n",
              "---\n",
              "Signif. codes:  0 ‘***’ 0.001 ‘**’ 0.01 ‘*’ 0.05 ‘.’ 0.1 ‘ ’ 1\n",
              "\n",
              "Residual standard error: 159.1 on 55 degrees of freedom\n",
              "Multiple R-squared:  0.03314,\tAdjusted R-squared:  0.01557 \n",
              "F-statistic: 1.885 on 1 and 55 DF,  p-value: 0.1753\n"
            ]
          },
          "metadata": {
            "tags": []
          }
        },
        {
          "output_type": "display_data",
          "data": {
            "text/plain": [
              "\n",
              "Call:\n",
              "lm(formula = percentage_infected_MAY ~ Banned.visits.to.long.term.care.homes)\n",
              "\n",
              "Residuals:\n",
              "    Min      1Q  Median      3Q     Max \n",
              "-3.5495 -2.1356 -1.4452  0.8033 14.2844 \n",
              "\n",
              "Coefficients:\n",
              "                                      Estimate Std. Error t value Pr(>|t|)    \n",
              "(Intercept)                             3.6495     0.8159   4.473 3.91e-05 ***\n",
              "Banned.visits.to.long.term.care.homes   0.1066     1.0412   0.102    0.919    \n",
              "---\n",
              "Signif. codes:  0 ‘***’ 0.001 ‘**’ 0.01 ‘*’ 0.05 ‘.’ 0.1 ‘ ’ 1\n",
              "\n",
              "Residual standard error: 3.827 on 55 degrees of freedom\n",
              "Multiple R-squared:  0.0001905,\tAdjusted R-squared:  -0.01799 \n",
              "F-statistic: 0.01048 on 1 and 55 DF,  p-value: 0.9188\n"
            ]
          },
          "metadata": {
            "tags": []
          }
        },
        {
          "output_type": "display_data",
          "data": {
            "text/plain": [
              "\n",
              "Call:\n",
              "lm(formula = YoY.Growth ~ Banned.visits.to.long.term.care.homes)\n",
              "\n",
              "Residuals:\n",
              "    Min      1Q  Median      3Q     Max \n",
              "-238.15  -74.00    5.07   46.81  416.96 \n",
              "\n",
              "Coefficients:\n",
              "                                      Estimate Std. Error t value Pr(>|t|)    \n",
              "(Intercept)                            243.482     26.726   9.110 1.41e-12 ***\n",
              "Banned.visits.to.long.term.care.homes    8.367     34.106   0.245    0.807    \n",
              "---\n",
              "Signif. codes:  0 ‘***’ 0.001 ‘**’ 0.01 ‘*’ 0.05 ‘.’ 0.1 ‘ ’ 1\n",
              "\n",
              "Residual standard error: 125.4 on 55 degrees of freedom\n",
              "Multiple R-squared:  0.001093,\tAdjusted R-squared:  -0.01707 \n",
              "F-statistic: 0.06019 on 1 and 55 DF,  p-value: 0.8071\n"
            ]
          },
          "metadata": {
            "tags": []
          }
        },
        {
          "output_type": "display_data",
          "data": {
            "text/plain": [
              "\n",
              "Call:\n",
              "lm(formula = MoM.Growth ~ Banned.visits.to.long.term.care.homes)\n",
              "\n",
              "Residuals:\n",
              "    Min      1Q  Median      3Q     Max \n",
              "-202.56 -101.59  -31.39   79.13  560.61 \n",
              "\n",
              "Coefficients:\n",
              "                                      Estimate Std. Error t value Pr(>|t|)    \n",
              "(Intercept)                           215.5766    29.7810   7.239 1.53e-09 ***\n",
              "Banned.visits.to.long.term.care.homes   0.4993    38.0052   0.013     0.99    \n",
              "---\n",
              "Signif. codes:  0 ‘***’ 0.001 ‘**’ 0.01 ‘*’ 0.05 ‘.’ 0.1 ‘ ’ 1\n",
              "\n",
              "Residual standard error: 139.7 on 55 degrees of freedom\n",
              "Multiple R-squared:  3.138e-06,\tAdjusted R-squared:  -0.01818 \n",
              "F-statistic: 0.0001726 on 1 and 55 DF,  p-value: 0.9896\n"
            ]
          },
          "metadata": {
            "tags": []
          }
        },
        {
          "output_type": "display_data",
          "data": {
            "text/plain": [
              "\n",
              "Call:\n",
              "lm(formula = cases_MAR_to_APR ~ Closed.non.essential.businesses)\n",
              "\n",
              "Residuals:\n",
              "   Min     1Q Median     3Q    Max \n",
              "-19149 -12021  -5714   8021  77986 \n",
              "\n",
              "Coefficients:\n",
              "                                Estimate Std. Error t value Pr(>|t|)    \n",
              "(Intercept)                      19814.0     5477.7   3.617 0.000648 ***\n",
              "Closed.non.essential.businesses    836.3     6164.9   0.136 0.892587    \n",
              "---\n",
              "Signif. codes:  0 ‘***’ 0.001 ‘**’ 0.01 ‘*’ 0.05 ‘.’ 0.1 ‘ ’ 1\n",
              "\n",
              "Residual standard error: 18980 on 55 degrees of freedom\n",
              "Multiple R-squared:  0.0003345,\tAdjusted R-squared:  -0.01784 \n",
              "F-statistic: 0.0184 on 1 and 55 DF,  p-value: 0.8926\n"
            ]
          },
          "metadata": {
            "tags": []
          }
        },
        {
          "output_type": "display_data",
          "data": {
            "text/plain": [
              "\n",
              "Call:\n",
              "lm(formula = cases_APR_to_MAY ~ Closed.non.essential.businesses)\n",
              "\n",
              "Residuals:\n",
              "    Min      1Q  Median      3Q     Max \n",
              "-178.59 -115.93  -18.03   52.64  649.71 \n",
              "\n",
              "Coefficients:\n",
              "                                Estimate Std. Error t value Pr(>|t|)    \n",
              "(Intercept)                       232.78      46.25   5.033 5.51e-06 ***\n",
              "Closed.non.essential.businesses   -55.23      52.05  -1.061    0.293    \n",
              "---\n",
              "Signif. codes:  0 ‘***’ 0.001 ‘**’ 0.01 ‘*’ 0.05 ‘.’ 0.1 ‘ ’ 1\n",
              "\n",
              "Residual standard error: 160.2 on 55 degrees of freedom\n",
              "Multiple R-squared:  0.02005,\tAdjusted R-squared:  0.002237 \n",
              "F-statistic: 1.126 on 1 and 55 DF,  p-value: 0.2934\n"
            ]
          },
          "metadata": {
            "tags": []
          }
        },
        {
          "output_type": "display_data",
          "data": {
            "text/plain": [
              "\n",
              "Call:\n",
              "lm(formula = percentage_infected_MAY ~ Closed.non.essential.businesses)\n",
              "\n",
              "Residuals:\n",
              "    Min      1Q  Median      3Q     Max \n",
              "-3.8833 -2.2883 -1.3719  0.9439 13.9683 \n",
              "\n",
              "Coefficients:\n",
              "                                Estimate Std. Error t value Pr(>|t|)  \n",
              "(Intercept)                        2.375      1.086   2.187    0.033 *\n",
              "Closed.non.essential.businesses    1.697      1.222   1.388    0.171  \n",
              "---\n",
              "Signif. codes:  0 ‘***’ 0.001 ‘**’ 0.01 ‘*’ 0.05 ‘.’ 0.1 ‘ ’ 1\n",
              "\n",
              "Residual standard error: 3.762 on 55 degrees of freedom\n",
              "Multiple R-squared:  0.03385,\tAdjusted R-squared:  0.01629 \n",
              "F-statistic: 1.927 on 1 and 55 DF,  p-value: 0.1707\n"
            ]
          },
          "metadata": {
            "tags": []
          }
        },
        {
          "output_type": "display_data",
          "data": {
            "text/plain": [
              "\n",
              "Call:\n",
              "lm(formula = YoY.Growth ~ Closed.non.essential.businesses)\n",
              "\n",
              "Residuals:\n",
              "    Min      1Q  Median      3Q     Max \n",
              "-243.83  -78.22    0.64   45.60  411.28 \n",
              "\n",
              "Coefficients:\n",
              "                                Estimate Std. Error t value Pr(>|t|)    \n",
              "(Intercept)                       215.22      35.85   6.003 1.59e-07 ***\n",
              "Closed.non.essential.businesses    42.30      40.35   1.048    0.299    \n",
              "---\n",
              "Signif. codes:  0 ‘***’ 0.001 ‘**’ 0.01 ‘*’ 0.05 ‘.’ 0.1 ‘ ’ 1\n",
              "\n",
              "Residual standard error: 124.2 on 55 degrees of freedom\n",
              "Multiple R-squared:  0.0196,\tAdjusted R-squared:  0.00177 \n",
              "F-statistic: 1.099 on 1 and 55 DF,  p-value: 0.299\n"
            ]
          },
          "metadata": {
            "tags": []
          }
        },
        {
          "output_type": "display_data",
          "data": {
            "text/plain": [
              "\n",
              "Call:\n",
              "lm(formula = MoM.Growth ~ Closed.non.essential.businesses)\n",
              "\n",
              "Residuals:\n",
              "    Min      1Q  Median      3Q     Max \n",
              "-213.71  -84.75  -29.03   67.47  549.45 \n",
              "\n",
              "Coefficients:\n",
              "                                Estimate Std. Error t value Pr(>|t|)    \n",
              "(Intercept)                       173.34      39.80   4.355 5.85e-05 ***\n",
              "Closed.non.essential.businesses    53.89      44.80   1.203    0.234    \n",
              "---\n",
              "Signif. codes:  0 ‘***’ 0.001 ‘**’ 0.01 ‘*’ 0.05 ‘.’ 0.1 ‘ ’ 1\n",
              "\n",
              "Residual standard error: 137.9 on 55 degrees of freedom\n",
              "Multiple R-squared:  0.02564,\tAdjusted R-squared:  0.00792 \n",
              "F-statistic: 1.447 on 1 and 55 DF,  p-value: 0.2342\n"
            ]
          },
          "metadata": {
            "tags": []
          }
        },
        {
          "output_type": "display_data",
          "data": {
            "text/plain": [
              "\n",
              "Call:\n",
              "lm(formula = cases_MAR_to_APR ~ Closed.restaurants.except.take.out)\n",
              "\n",
              "Residuals:\n",
              "   Min     1Q Median     3Q    Max \n",
              "-19109 -11981  -5676   8061  77190 \n",
              "\n",
              "Coefficients:\n",
              "                                   Estimate Std. Error t value Pr(>|t|)\n",
              "(Intercept)                           12867      18950   0.679    0.500\n",
              "Closed.restaurants.except.take.out     7743      19119   0.405    0.687\n",
              "\n",
              "Residual standard error: 18950 on 55 degrees of freedom\n",
              "Multiple R-squared:  0.002974,\tAdjusted R-squared:  -0.01515 \n",
              "F-statistic: 0.164 on 1 and 55 DF,  p-value: 0.687\n"
            ]
          },
          "metadata": {
            "tags": []
          }
        },
        {
          "output_type": "display_data",
          "data": {
            "text/plain": [
              "\n",
              "Call:\n",
              "lm(formula = cases_APR_to_MAY ~ Closed.restaurants.except.take.out)\n",
              "\n",
              "Residuals:\n",
              "    Min      1Q  Median      3Q     Max \n",
              "-185.84  -92.49  -16.53   41.79  694.09 \n",
              "\n",
              "Coefficients:\n",
              "                                   Estimate Std. Error t value Pr(>|t|)\n",
              "(Intercept)                          233.08     161.74   1.441    0.155\n",
              "Closed.restaurants.except.take.out   -44.67     163.18  -0.274    0.785\n",
              "\n",
              "Residual standard error: 161.7 on 55 degrees of freedom\n",
              "Multiple R-squared:  0.001361,\tAdjusted R-squared:  -0.0168 \n",
              "F-statistic: 0.07495 on 1 and 55 DF,  p-value: 0.7853\n"
            ]
          },
          "metadata": {
            "tags": []
          }
        },
        {
          "output_type": "display_data",
          "data": {
            "text/plain": [
              "\n",
              "Call:\n",
              "lm(formula = percentage_infected_MAY ~ Closed.restaurants.except.take.out)\n",
              "\n",
              "Residuals:\n",
              "   Min     1Q Median     3Q    Max \n",
              "-3.514 -2.082 -1.392  0.750 14.338 \n",
              "\n",
              "Coefficients:\n",
              "                                   Estimate Std. Error t value Pr(>|t|)\n",
              "(Intercept)                           4.394      3.826   1.148    0.256\n",
              "Closed.restaurants.except.take.out   -0.691      3.860  -0.179    0.859\n",
              "\n",
              "Residual standard error: 3.826 on 55 degrees of freedom\n",
              "Multiple R-squared:  0.0005822,\tAdjusted R-squared:  -0.01759 \n",
              "F-statistic: 0.03204 on 1 and 55 DF,  p-value: 0.8586\n"
            ]
          },
          "metadata": {
            "tags": []
          }
        },
        {
          "output_type": "display_data",
          "data": {
            "text/plain": [
              "\n",
              "Call:\n",
              "lm(formula = YoY.Growth ~ Closed.restaurants.except.take.out)\n",
              "\n",
              "Residuals:\n",
              "    Min      1Q  Median      3Q     Max \n",
              "-235.41  -78.52    6.85   49.38  419.69 \n",
              "\n",
              "Coefficients:\n",
              "                                   Estimate Std. Error t value Pr(>|t|)  \n",
              "(Intercept)                          221.05     125.37   1.763   0.0834 .\n",
              "Closed.restaurants.except.take.out    28.06     126.48   0.222   0.8253  \n",
              "---\n",
              "Signif. codes:  0 ‘***’ 0.001 ‘**’ 0.01 ‘*’ 0.05 ‘.’ 0.1 ‘ ’ 1\n",
              "\n",
              "Residual standard error: 125.4 on 55 degrees of freedom\n",
              "Multiple R-squared:  0.000894,\tAdjusted R-squared:  -0.01727 \n",
              "F-statistic: 0.04921 on 1 and 55 DF,  p-value: 0.8253\n"
            ]
          },
          "metadata": {
            "tags": []
          }
        },
        {
          "output_type": "display_data",
          "data": {
            "text/plain": [
              "\n",
              "Call:\n",
              "lm(formula = MoM.Growth ~ Closed.restaurants.except.take.out)\n",
              "\n",
              "Residuals:\n",
              "    Min      1Q  Median      3Q     Max \n",
              "-202.01 -101.04  -30.83   79.18  561.16 \n",
              "\n",
              "Coefficients:\n",
              "                                   Estimate Std. Error t value Pr(>|t|)  \n",
              "(Intercept)                          236.30     139.66   1.692   0.0963 .\n",
              "Closed.restaurants.except.take.out   -20.78     140.90  -0.148   0.8833  \n",
              "---\n",
              "Signif. codes:  0 ‘***’ 0.001 ‘**’ 0.01 ‘*’ 0.05 ‘.’ 0.1 ‘ ’ 1\n",
              "\n",
              "Residual standard error: 139.7 on 55 degrees of freedom\n",
              "Multiple R-squared:  0.0003954,\tAdjusted R-squared:  -0.01778 \n",
              "F-statistic: 0.02176 on 1 and 55 DF,  p-value: 0.8833\n"
            ]
          },
          "metadata": {
            "tags": []
          }
        },
        {
          "output_type": "display_data",
          "data": {
            "text/plain": [
              "\n",
              "Call:\n",
              "lm(formula = cases_MAR_to_APR ~ Closed.cannabis.and.liquor.stores)\n",
              "\n",
              "Residuals:\n",
              "   Min     1Q Median     3Q    Max \n",
              "-19699 -12232  -6264   7471  76600 \n",
              "\n",
              "Coefficients:\n",
              "                                  Estimate Std. Error t value Pr(>|t|)  \n",
              "(Intercept)                          15290       7134   2.143   0.0365 *\n",
              "Closed.cannabis.and.liquor.stores     5910       7617   0.776   0.4412  \n",
              "---\n",
              "Signif. codes:  0 ‘***’ 0.001 ‘**’ 0.01 ‘*’ 0.05 ‘.’ 0.1 ‘ ’ 1\n",
              "\n",
              "Residual standard error: 18880 on 55 degrees of freedom\n",
              "Multiple R-squared:  0.01083,\tAdjusted R-squared:  -0.007159 \n",
              "F-statistic: 0.6019 on 1 and 55 DF,  p-value: 0.4412\n"
            ]
          },
          "metadata": {
            "tags": []
          }
        },
        {
          "output_type": "display_data",
          "data": {
            "text/plain": [
              "\n",
              "Call:\n",
              "lm(formula = cases_APR_to_MAY ~ Closed.cannabis.and.liquor.stores)\n",
              "\n",
              "Residuals:\n",
              "    Min      1Q  Median      3Q     Max \n",
              "-194.36  -95.61  -19.37   37.34  684.29 \n",
              "\n",
              "Coefficients:\n",
              "                                  Estimate Std. Error t value Pr(>|t|)  \n",
              "(Intercept)                         124.77      60.47   2.063   0.0438 *\n",
              "Closed.cannabis.and.liquor.stores    73.43      64.56   1.137   0.2603  \n",
              "---\n",
              "Signif. codes:  0 ‘***’ 0.001 ‘**’ 0.01 ‘*’ 0.05 ‘.’ 0.1 ‘ ’ 1\n",
              "\n",
              "Residual standard error: 160 on 55 degrees of freedom\n",
              "Multiple R-squared:  0.02298,\tAdjusted R-squared:  0.005217 \n",
              "F-statistic: 1.294 on 1 and 55 DF,  p-value: 0.2603\n"
            ]
          },
          "metadata": {
            "tags": []
          }
        },
        {
          "output_type": "display_data",
          "data": {
            "text/plain": [
              "\n",
              "Call:\n",
              "lm(formula = percentage_infected_MAY ~ Closed.cannabis.and.liquor.stores)\n",
              "\n",
              "Residuals:\n",
              "    Min      1Q  Median      3Q     Max \n",
              "-3.7569 -2.2673 -1.4511  0.7605 14.0770 \n",
              "\n",
              "Coefficients:\n",
              "                                  Estimate Std. Error t value Pr(>|t|)\n",
              "(Intercept)                          1.940      1.424   1.362    0.179\n",
              "Closed.cannabis.and.liquor.stores    2.024      1.520   1.331    0.189\n",
              "\n",
              "Residual standard error: 3.767 on 55 degrees of freedom\n",
              "Multiple R-squared:  0.03121,\tAdjusted R-squared:  0.0136 \n",
              "F-statistic: 1.772 on 1 and 55 DF,  p-value: 0.1886\n"
            ]
          },
          "metadata": {
            "tags": []
          }
        },
        {
          "output_type": "display_data",
          "data": {
            "text/plain": [
              "\n",
              "Call:\n",
              "lm(formula = YoY.Growth ~ Closed.cannabis.and.liquor.stores)\n",
              "\n",
              "Residuals:\n",
              "    Min      1Q  Median      3Q     Max \n",
              "-244.53  -78.92   -1.30   40.44  410.58 \n",
              "\n",
              "Coefficients:\n",
              "                                  Estimate Std. Error t value Pr(>|t|)    \n",
              "(Intercept)                         180.02      46.37   3.883 0.000279 ***\n",
              "Closed.cannabis.and.liquor.stores    78.21      49.50   1.580 0.119890    \n",
              "---\n",
              "Signif. codes:  0 ‘***’ 0.001 ‘**’ 0.01 ‘*’ 0.05 ‘.’ 0.1 ‘ ’ 1\n",
              "\n",
              "Residual standard error: 122.7 on 55 degrees of freedom\n",
              "Multiple R-squared:  0.04341,\tAdjusted R-squared:  0.02601 \n",
              "F-statistic: 2.496 on 1 and 55 DF,  p-value: 0.1199\n"
            ]
          },
          "metadata": {
            "tags": []
          }
        },
        {
          "output_type": "display_data",
          "data": {
            "text/plain": [
              "\n",
              "Call:\n",
              "lm(formula = MoM.Growth ~ Closed.cannabis.and.liquor.stores)\n",
              "\n",
              "Residuals:\n",
              "    Min      1Q  Median      3Q     Max \n",
              "-219.63  -83.64  -26.56   74.03  543.54 \n",
              "\n",
              "Coefficients:\n",
              "                                  Estimate Std. Error t value Pr(>|t|)  \n",
              "(Intercept)                          92.59      49.72   1.862   0.0679 .\n",
              "Closed.cannabis.and.liquor.stores   140.55      53.09   2.647   0.0106 *\n",
              "---\n",
              "Signif. codes:  0 ‘***’ 0.001 ‘**’ 0.01 ‘*’ 0.05 ‘.’ 0.1 ‘ ’ 1\n",
              "\n",
              "Residual standard error: 131.6 on 55 degrees of freedom\n",
              "Multiple R-squared:  0.113,\tAdjusted R-squared:  0.0969 \n",
              "F-statistic: 7.009 on 1 and 55 DF,  p-value: 0.01056\n"
            ]
          },
          "metadata": {
            "tags": []
          }
        },
        {
          "output_type": "display_data",
          "data": {
            "text/plain": [
              "\n",
              "Call:\n",
              "lm(formula = cases_MAR_to_APR ~ Closed.gyms)\n",
              "\n",
              "Residuals:\n",
              "   Min     1Q Median     3Q    Max \n",
              "-19479 -12065  -6581   8505  76283 \n",
              "\n",
              "Coefficients:\n",
              "            Estimate Std. Error t value Pr(>|t|)    \n",
              "(Intercept)    21517       5261   4.090 0.000142 ***\n",
              "Closed.gyms    -1351       5988  -0.226 0.822343    \n",
              "---\n",
              "Signif. codes:  0 ‘***’ 0.001 ‘**’ 0.01 ‘*’ 0.05 ‘.’ 0.1 ‘ ’ 1\n",
              "\n",
              "Residual standard error: 18970 on 55 degrees of freedom\n",
              "Multiple R-squared:  0.0009246,\tAdjusted R-squared:  -0.01724 \n",
              "F-statistic: 0.0509 on 1 and 55 DF,  p-value: 0.8223\n"
            ]
          },
          "metadata": {
            "tags": []
          }
        },
        {
          "output_type": "display_data",
          "data": {
            "text/plain": [
              "\n",
              "Call:\n",
              "lm(formula = cases_APR_to_MAY ~ Closed.gyms)\n",
              "\n",
              "Residuals:\n",
              "    Min      1Q  Median      3Q     Max \n",
              "-184.32  -90.18  -14.22   40.31  696.41 \n",
              "\n",
              "Coefficients:\n",
              "            Estimate Std. Error t value Pr(>|t|)    \n",
              "(Intercept)   199.67      44.86   4.451 4.22e-05 ***\n",
              "Closed.gyms   -13.58      51.06  -0.266    0.791    \n",
              "---\n",
              "Signif. codes:  0 ‘***’ 0.001 ‘**’ 0.01 ‘*’ 0.05 ‘.’ 0.1 ‘ ’ 1\n",
              "\n",
              "Residual standard error: 161.7 on 55 degrees of freedom\n",
              "Multiple R-squared:  0.001284,\tAdjusted R-squared:  -0.01687 \n",
              "F-statistic: 0.0707 on 1 and 55 DF,  p-value: 0.7913\n"
            ]
          },
          "metadata": {
            "tags": []
          }
        },
        {
          "output_type": "display_data",
          "data": {
            "text/plain": [
              "\n",
              "Call:\n",
              "lm(formula = percentage_infected_MAY ~ Closed.gyms)\n",
              "\n",
              "Residuals:\n",
              "    Min      1Q  Median      3Q     Max \n",
              "-4.0246 -2.2643 -0.8543  0.7997 13.8270 \n",
              "\n",
              "Coefficients:\n",
              "            Estimate Std. Error t value Pr(>|t|)  \n",
              "(Intercept)    2.028      1.029   1.970   0.0539 .\n",
              "Closed.gyms    2.186      1.172   1.866   0.0674 .\n",
              "---\n",
              "Signif. codes:  0 ‘***’ 0.001 ‘**’ 0.01 ‘*’ 0.05 ‘.’ 0.1 ‘ ’ 1\n",
              "\n",
              "Residual standard error: 3.712 on 55 degrees of freedom\n",
              "Multiple R-squared:  0.05951,\tAdjusted R-squared:  0.04241 \n",
              "F-statistic:  3.48 on 1 and 55 DF,  p-value: 0.06744\n"
            ]
          },
          "metadata": {
            "tags": []
          }
        },
        {
          "output_type": "display_data",
          "data": {
            "text/plain": [
              "\n",
              "Call:\n",
              "lm(formula = YoY.Growth ~ Closed.gyms)\n",
              "\n",
              "Residuals:\n",
              "    Min      1Q  Median      3Q     Max \n",
              "-234.82  -77.93    7.44   49.54  420.28 \n",
              "\n",
              "Coefficients:\n",
              "            Estimate Std. Error t value Pr(>|t|)    \n",
              "(Intercept) 248.9498    34.7862   7.157 2.09e-09 ***\n",
              "Closed.gyms  -0.4274    39.5930  -0.011    0.991    \n",
              "---\n",
              "Signif. codes:  0 ‘***’ 0.001 ‘**’ 0.01 ‘*’ 0.05 ‘.’ 0.1 ‘ ’ 1\n",
              "\n",
              "Residual standard error: 125.4 on 55 degrees of freedom\n",
              "Multiple R-squared:  2.119e-06,\tAdjusted R-squared:  -0.01818 \n",
              "F-statistic: 0.0001165 on 1 and 55 DF,  p-value: 0.9914\n"
            ]
          },
          "metadata": {
            "tags": []
          }
        },
        {
          "output_type": "display_data",
          "data": {
            "text/plain": [
              "\n",
              "Call:\n",
              "lm(formula = MoM.Growth ~ Closed.gyms)\n",
              "\n",
              "Residuals:\n",
              "    Min      1Q  Median      3Q     Max \n",
              "-195.61  -98.05  -28.59   71.14  567.56 \n",
              "\n",
              "Coefficients:\n",
              "            Estimate Std. Error t value Pr(>|t|)    \n",
              "(Intercept)   238.77      38.58   6.189 7.96e-08 ***\n",
              "Closed.gyms   -29.65      43.91  -0.675    0.502    \n",
              "---\n",
              "Signif. codes:  0 ‘***’ 0.001 ‘**’ 0.01 ‘*’ 0.05 ‘.’ 0.1 ‘ ’ 1\n",
              "\n",
              "Residual standard error: 139.1 on 55 degrees of freedom\n",
              "Multiple R-squared:  0.008222,\tAdjusted R-squared:  -0.00981 \n",
              "F-statistic: 0.456 on 1 and 55 DF,  p-value: 0.5024\n"
            ]
          },
          "metadata": {
            "tags": []
          }
        },
        {
          "output_type": "display_data",
          "data": {
            "text/plain": [
              "\n",
              "Call:\n",
              "lm(formula = cases_MAR_to_APR ~ Closed.movie.theaters)\n",
              "\n",
              "Residuals:\n",
              "   Min     1Q Median     3Q    Max \n",
              "-22606 -12598  -7017   8688  73156 \n",
              "\n",
              "Coefficients:\n",
              "                      Estimate Std. Error t value Pr(>|t|)   \n",
              "(Intercept)              24644       7725   3.190  0.00235 **\n",
              "Closed.movie.theaters    -4661       8167  -0.571  0.57053   \n",
              "---\n",
              "Signif. codes:  0 ‘***’ 0.001 ‘**’ 0.01 ‘*’ 0.05 ‘.’ 0.1 ‘ ’ 1\n",
              "\n",
              "Residual standard error: 18920 on 55 degrees of freedom\n",
              "Multiple R-squared:  0.005887,\tAdjusted R-squared:  -0.01219 \n",
              "F-statistic: 0.3257 on 1 and 55 DF,  p-value: 0.5705\n"
            ]
          },
          "metadata": {
            "tags": []
          }
        },
        {
          "output_type": "display_data",
          "data": {
            "text/plain": [
              "\n",
              "Call:\n",
              "lm(formula = cases_APR_to_MAY ~ Closed.movie.theaters)\n",
              "\n",
              "Residuals:\n",
              "    Min      1Q  Median      3Q     Max \n",
              "-185.59  -92.25  -19.99   42.04  694.34 \n",
              "\n",
              "Coefficients:\n",
              "                      Estimate Std. Error t value Pr(>|t|)   \n",
              "(Intercept)             197.92      66.06   2.996   0.0041 **\n",
              "Closed.movie.theaters    -9.76      69.84  -0.140   0.8894   \n",
              "---\n",
              "Signif. codes:  0 ‘***’ 0.001 ‘**’ 0.01 ‘*’ 0.05 ‘.’ 0.1 ‘ ’ 1\n",
              "\n",
              "Residual standard error: 161.8 on 55 degrees of freedom\n",
              "Multiple R-squared:  0.0003549,\tAdjusted R-squared:  -0.01782 \n",
              "F-statistic: 0.01953 on 1 and 55 DF,  p-value: 0.8894\n"
            ]
          },
          "metadata": {
            "tags": []
          }
        },
        {
          "output_type": "display_data",
          "data": {
            "text/plain": [
              "\n",
              "Call:\n",
              "lm(formula = percentage_infected_MAY ~ Closed.movie.theaters)\n",
              "\n",
              "Residuals:\n",
              "   Min     1Q Median     3Q    Max \n",
              "-3.707 -2.256 -1.383  1.109 14.145 \n",
              "\n",
              "Coefficients:\n",
              "                      Estimate Std. Error t value Pr(>|t|)\n",
              "(Intercept)              2.181      1.547   1.409    0.164\n",
              "Closed.movie.theaters    1.715      1.636   1.048    0.299\n",
              "\n",
              "Residual standard error: 3.79 on 55 degrees of freedom\n",
              "Multiple R-squared:  0.0196,\tAdjusted R-squared:  0.00177 \n",
              "F-statistic: 1.099 on 1 and 55 DF,  p-value: 0.299\n"
            ]
          },
          "metadata": {
            "tags": []
          }
        },
        {
          "output_type": "display_data",
          "data": {
            "text/plain": [
              "\n",
              "Call:\n",
              "lm(formula = YoY.Growth ~ Closed.movie.theaters)\n",
              "\n",
              "Residuals:\n",
              "    Min      1Q  Median      3Q     Max \n",
              "-239.90  -81.03    4.18   50.59  415.21 \n",
              "\n",
              "Coefficients:\n",
              "                      Estimate Std. Error t value Pr(>|t|)    \n",
              "(Intercept)             206.33      50.85   4.058 0.000158 ***\n",
              "Closed.movie.theaters    47.26      53.76   0.879 0.383138    \n",
              "---\n",
              "Signif. codes:  0 ‘***’ 0.001 ‘**’ 0.01 ‘*’ 0.05 ‘.’ 0.1 ‘ ’ 1\n",
              "\n",
              "Residual standard error: 124.6 on 55 degrees of freedom\n",
              "Multiple R-squared:  0.01386,\tAdjusted R-squared:  -0.004071 \n",
              "F-statistic: 0.7729 on 1 and 55 DF,  p-value: 0.3831\n"
            ]
          },
          "metadata": {
            "tags": []
          }
        },
        {
          "output_type": "display_data",
          "data": {
            "text/plain": [
              "\n",
              "Call:\n",
              "lm(formula = MoM.Growth ~ Closed.movie.theaters)\n",
              "\n",
              "Residuals:\n",
              "    Min      1Q  Median      3Q     Max \n",
              "-208.89  -90.98  -27.58   84.76  554.28 \n",
              "\n",
              "Coefficients:\n",
              "                      Estimate Std. Error t value Pr(>|t|)   \n",
              "(Intercept)             160.44      56.48   2.841   0.0063 **\n",
              "Closed.movie.theaters    61.97      59.71   1.038   0.3039   \n",
              "---\n",
              "Signif. codes:  0 ‘***’ 0.001 ‘**’ 0.01 ‘*’ 0.05 ‘.’ 0.1 ‘ ’ 1\n",
              "\n",
              "Residual standard error: 138.3 on 55 degrees of freedom\n",
              "Multiple R-squared:  0.01921,\tAdjusted R-squared:  0.001377 \n",
              "F-statistic: 1.077 on 1 and 55 DF,  p-value: 0.3039\n"
            ]
          },
          "metadata": {
            "tags": []
          }
        },
        {
          "output_type": "display_data",
          "data": {
            "text/plain": [
              "\n",
              "Call:\n",
              "lm(formula = cases_MAR_to_APR ~ Froze.evictions)\n",
              "\n",
              "Residuals:\n",
              "   Min     1Q Median     3Q    Max \n",
              "-18516 -11637  -6165   5873  73296 \n",
              "\n",
              "Coefficients:\n",
              "                Estimate Std. Error t value Pr(>|t|)    \n",
              "(Intercept)        24504       3648   6.716  1.1e-08 ***\n",
              "Froze.evictions    -7409       4947  -1.498     0.14    \n",
              "---\n",
              "Signif. codes:  0 ‘***’ 0.001 ‘**’ 0.01 ‘*’ 0.05 ‘.’ 0.1 ‘ ’ 1\n",
              "\n",
              "Residual standard error: 18600 on 55 degrees of freedom\n",
              "Multiple R-squared:  0.03918,\tAdjusted R-squared:  0.02172 \n",
              "F-statistic: 2.243 on 1 and 55 DF,  p-value: 0.1399\n"
            ]
          },
          "metadata": {
            "tags": []
          }
        },
        {
          "output_type": "display_data",
          "data": {
            "text/plain": [
              "\n",
              "Call:\n",
              "lm(formula = cases_APR_to_MAY ~ Froze.evictions)\n",
              "\n",
              "Residuals:\n",
              "    Min      1Q  Median      3Q     Max \n",
              "-197.14  -93.99  -20.52   46.54  682.79 \n",
              "\n",
              "Coefficients:\n",
              "                Estimate Std. Error t value Pr(>|t|)    \n",
              "(Intercept)       176.65      31.66   5.580  7.6e-07 ***\n",
              "Froze.evictions    23.06      42.93   0.537    0.593    \n",
              "---\n",
              "Signif. codes:  0 ‘***’ 0.001 ‘**’ 0.01 ‘*’ 0.05 ‘.’ 0.1 ‘ ’ 1\n",
              "\n",
              "Residual standard error: 161.4 on 55 degrees of freedom\n",
              "Multiple R-squared:  0.005217,\tAdjusted R-squared:  -0.01287 \n",
              "F-statistic: 0.2885 on 1 and 55 DF,  p-value: 0.5934\n"
            ]
          },
          "metadata": {
            "tags": []
          }
        },
        {
          "output_type": "display_data",
          "data": {
            "text/plain": [
              "\n",
              "Call:\n",
              "lm(formula = percentage_infected_MAY ~ Froze.evictions)\n",
              "\n",
              "Residuals:\n",
              "    Min      1Q  Median      3Q     Max \n",
              "-3.6465 -2.0924 -1.3088  0.8224 14.2051 \n",
              "\n",
              "Coefficients:\n",
              "                Estimate Std. Error t value Pr(>|t|)    \n",
              "(Intercept)       3.5713     0.7501   4.761 1.44e-05 ***\n",
              "Froze.evictions   0.2640     1.0172   0.260    0.796    \n",
              "---\n",
              "Signif. codes:  0 ‘***’ 0.001 ‘**’ 0.01 ‘*’ 0.05 ‘.’ 0.1 ‘ ’ 1\n",
              "\n",
              "Residual standard error: 3.825 on 55 degrees of freedom\n",
              "Multiple R-squared:  0.001224,\tAdjusted R-squared:  -0.01694 \n",
              "F-statistic: 0.06738 on 1 and 55 DF,  p-value: 0.7962\n"
            ]
          },
          "metadata": {
            "tags": []
          }
        },
        {
          "output_type": "display_data",
          "data": {
            "text/plain": [
              "\n",
              "Call:\n",
              "lm(formula = YoY.Growth ~ Froze.evictions)\n",
              "\n",
              "Residuals:\n",
              "    Min      1Q  Median      3Q     Max \n",
              "-231.24  -82.42    6.31   45.49  423.87 \n",
              "\n",
              "Coefficients:\n",
              "                Estimate Std. Error t value Pr(>|t|)    \n",
              "(Intercept)      253.009     24.585  10.291 1.97e-14 ***\n",
              "Froze.evictions   -8.069     33.336  -0.242     0.81    \n",
              "---\n",
              "Signif. codes:  0 ‘***’ 0.001 ‘**’ 0.01 ‘*’ 0.05 ‘.’ 0.1 ‘ ’ 1\n",
              "\n",
              "Residual standard error: 125.4 on 55 degrees of freedom\n",
              "Multiple R-squared:  0.001064,\tAdjusted R-squared:  -0.0171 \n",
              "F-statistic: 0.05859 on 1 and 55 DF,  p-value: 0.8096\n"
            ]
          },
          "metadata": {
            "tags": []
          }
        },
        {
          "output_type": "display_data",
          "data": {
            "text/plain": [
              "\n",
              "Call:\n",
              "lm(formula = MoM.Growth ~ Froze.evictions)\n",
              "\n",
              "Residuals:\n",
              "    Min      1Q  Median      3Q     Max \n",
              "-203.38 -102.41  -30.00   77.81  559.79 \n",
              "\n",
              "Coefficients:\n",
              "                Estimate Std. Error t value Pr(>|t|)    \n",
              "(Intercept)      214.683     27.394   7.837 1.61e-10 ***\n",
              "Froze.evictions    2.208     37.146   0.059    0.953    \n",
              "---\n",
              "Signif. codes:  0 ‘***’ 0.001 ‘**’ 0.01 ‘*’ 0.05 ‘.’ 0.1 ‘ ’ 1\n",
              "\n",
              "Residual standard error: 139.7 on 55 degrees of freedom\n",
              "Multiple R-squared:  6.421e-05,\tAdjusted R-squared:  -0.01812 \n",
              "F-statistic: 0.003532 on 1 and 55 DF,  p-value: 0.9528\n"
            ]
          },
          "metadata": {
            "tags": []
          }
        },
        {
          "output_type": "display_data",
          "data": {
            "text/plain": [
              "\n",
              "Call:\n",
              "lm(formula = cases_MAR_to_APR ~ Ordered.freezing.utility.shut.offs)\n",
              "\n",
              "Residuals:\n",
              "   Min     1Q Median     3Q    Max \n",
              "-18994 -11865  -6152   8177  77374 \n",
              "\n",
              "Coefficients:\n",
              "                                   Estimate Std. Error t value Pr(>|t|)    \n",
              "(Intercept)                        20426.19    4602.92   4.438 4.41e-05 ***\n",
              "Ordered.freezing.utility.shut.offs    68.48    5494.67   0.012     0.99    \n",
              "---\n",
              "Signif. codes:  0 ‘***’ 0.001 ‘**’ 0.01 ‘*’ 0.05 ‘.’ 0.1 ‘ ’ 1\n",
              "\n",
              "Residual standard error: 18980 on 55 degrees of freedom\n",
              "Multiple R-squared:  2.824e-06,\tAdjusted R-squared:  -0.01818 \n",
              "F-statistic: 0.0001553 on 1 and 55 DF,  p-value: 0.9901\n"
            ]
          },
          "metadata": {
            "tags": []
          }
        },
        {
          "output_type": "display_data",
          "data": {
            "text/plain": [
              "\n",
              "Call:\n",
              "lm(formula = cases_APR_to_MAY ~ Ordered.freezing.utility.shut.offs)\n",
              "\n",
              "Residuals:\n",
              "    Min      1Q  Median      3Q     Max \n",
              "-208.85 -102.16  -19.67   47.21  669.80 \n",
              "\n",
              "Coefficients:\n",
              "                                   Estimate Std. Error t value Pr(>|t|)    \n",
              "(Intercept)                          212.69      39.07   5.444 1.25e-06 ***\n",
              "Ordered.freezing.utility.shut.offs   -33.50      46.64  -0.718    0.476    \n",
              "---\n",
              "Signif. codes:  0 ‘***’ 0.001 ‘**’ 0.01 ‘*’ 0.05 ‘.’ 0.1 ‘ ’ 1\n",
              "\n",
              "Residual standard error: 161.1 on 55 degrees of freedom\n",
              "Multiple R-squared:  0.00929,\tAdjusted R-squared:  -0.008723 \n",
              "F-statistic: 0.5157 on 1 and 55 DF,  p-value: 0.4757\n"
            ]
          },
          "metadata": {
            "tags": []
          }
        },
        {
          "output_type": "display_data",
          "data": {
            "text/plain": [
              "\n",
              "Call:\n",
              "lm(formula = percentage_infected_MAY ~ Ordered.freezing.utility.shut.offs)\n",
              "\n",
              "Residuals:\n",
              "    Min      1Q  Median      3Q     Max \n",
              "-4.2249 -2.4646 -0.7846  0.5994 13.6267 \n",
              "\n",
              "Coefficients:\n",
              "                                   Estimate Std. Error t value Pr(>|t|)  \n",
              "(Intercept)                          2.0706     0.8897   2.327   0.0237 *\n",
              "Ordered.freezing.utility.shut.offs   2.3431     1.0621   2.206   0.0316 *\n",
              "---\n",
              "Signif. codes:  0 ‘***’ 0.001 ‘**’ 0.01 ‘*’ 0.05 ‘.’ 0.1 ‘ ’ 1\n",
              "\n",
              "Residual standard error: 3.668 on 55 degrees of freedom\n",
              "Multiple R-squared:  0.0813,\tAdjusted R-squared:  0.0646 \n",
              "F-statistic: 4.867 on 1 and 55 DF,  p-value: 0.03157\n"
            ]
          },
          "metadata": {
            "tags": []
          }
        },
        {
          "output_type": "display_data",
          "data": {
            "text/plain": [
              "\n",
              "Call:\n",
              "lm(formula = YoY.Growth ~ Ordered.freezing.utility.shut.offs)\n",
              "\n",
              "Residuals:\n",
              "    Min      1Q  Median      3Q     Max \n",
              "-249.30  -88.31   -0.55   36.44  405.81 \n",
              "\n",
              "Coefficients:\n",
              "                                   Estimate Std. Error t value Pr(>|t|)    \n",
              "(Intercept)                          262.99      30.33   8.671 7.14e-12 ***\n",
              "Ordered.freezing.utility.shut.offs   -20.48      36.21  -0.566    0.574    \n",
              "---\n",
              "Signif. codes:  0 ‘***’ 0.001 ‘**’ 0.01 ‘*’ 0.05 ‘.’ 0.1 ‘ ’ 1\n",
              "\n",
              "Residual standard error: 125.1 on 55 degrees of freedom\n",
              "Multiple R-squared:  0.005785,\tAdjusted R-squared:  -0.01229 \n",
              "F-statistic:  0.32 on 1 and 55 DF,  p-value: 0.5739\n"
            ]
          },
          "metadata": {
            "tags": []
          }
        },
        {
          "output_type": "display_data",
          "data": {
            "text/plain": [
              "\n",
              "Call:\n",
              "lm(formula = MoM.Growth ~ Ordered.freezing.utility.shut.offs)\n",
              "\n",
              "Residuals:\n",
              "    Min      1Q  Median      3Q     Max \n",
              "-228.61  -98.91  -20.05   75.53  534.56 \n",
              "\n",
              "Coefficients:\n",
              "                                   Estimate Std. Error t value Pr(>|t|)    \n",
              "(Intercept)                          242.12      33.61   7.203 1.75e-09 ***\n",
              "Ordered.freezing.utility.shut.offs   -37.39      40.13  -0.932    0.356    \n",
              "---\n",
              "Signif. codes:  0 ‘***’ 0.001 ‘**’ 0.01 ‘*’ 0.05 ‘.’ 0.1 ‘ ’ 1\n",
              "\n",
              "Residual standard error: 138.6 on 55 degrees of freedom\n",
              "Multiple R-squared:  0.01554,\tAdjusted R-squared:  -0.002358 \n",
              "F-statistic: 0.8683 on 1 and 55 DF,  p-value: 0.3555\n"
            ]
          },
          "metadata": {
            "tags": []
          }
        },
        {
          "output_type": "display_data",
          "data": {
            "text/plain": [
              "\n",
              "Call:\n",
              "lm(formula = cases_MAR_to_APR ~ Public.Face.Mask.Mandate)\n",
              "\n",
              "Residuals:\n",
              "   Min     1Q Median     3Q    Max \n",
              "-18166 -12795  -5603   5079  79330 \n",
              "\n",
              "Coefficients:\n",
              "                         Estimate Std. Error t value Pr(>|t|)    \n",
              "(Intercept)                 18470       3043   6.070 1.24e-07 ***\n",
              "Public.Face.Mask.Mandate     6013       5270   1.141    0.259    \n",
              "---\n",
              "Signif. codes:  0 ‘***’ 0.001 ‘**’ 0.01 ‘*’ 0.05 ‘.’ 0.1 ‘ ’ 1\n",
              "\n",
              "Residual standard error: 18760 on 55 degrees of freedom\n",
              "Multiple R-squared:  0.02312,\tAdjusted R-squared:  0.00536 \n",
              "F-statistic: 1.302 on 1 and 55 DF,  p-value: 0.2588\n"
            ]
          },
          "metadata": {
            "tags": []
          }
        },
        {
          "output_type": "display_data",
          "data": {
            "text/plain": [
              "\n",
              "Call:\n",
              "lm(formula = cases_APR_to_MAY ~ Public.Face.Mask.Mandate)\n",
              "\n",
              "Residuals:\n",
              "    Min      1Q  Median      3Q     Max \n",
              "-194.88  -90.91  -19.99   36.82  683.77 \n",
              "\n",
              "Coefficients:\n",
              "                         Estimate Std. Error t value Pr(>|t|)    \n",
              "(Intercept)                198.73      26.16   7.596 3.98e-10 ***\n",
              "Public.Face.Mask.Mandate   -28.62      45.31  -0.632     0.53    \n",
              "---\n",
              "Signif. codes:  0 ‘***’ 0.001 ‘**’ 0.01 ‘*’ 0.05 ‘.’ 0.1 ‘ ’ 1\n",
              "\n",
              "Residual standard error: 161.3 on 55 degrees of freedom\n",
              "Multiple R-squared:  0.007204,\tAdjusted R-squared:  -0.01085 \n",
              "F-statistic: 0.3991 on 1 and 55 DF,  p-value: 0.5302\n"
            ]
          },
          "metadata": {
            "tags": []
          }
        },
        {
          "output_type": "display_data",
          "data": {
            "text/plain": [
              "\n",
              "Call:\n",
              "lm(formula = percentage_infected_MAY ~ Public.Face.Mask.Mandate)\n",
              "\n",
              "Residuals:\n",
              "    Min      1Q  Median      3Q     Max \n",
              "-6.2603 -1.4445 -0.3986  1.1224 11.5912 \n",
              "\n",
              "Coefficients:\n",
              "                         Estimate Std. Error t value Pr(>|t|)    \n",
              "(Intercept)                2.3478     0.5325   4.409 4.86e-05 ***\n",
              "Public.Face.Mask.Mandate   4.1015     0.9223   4.447 4.27e-05 ***\n",
              "---\n",
              "Signif. codes:  0 ‘***’ 0.001 ‘**’ 0.01 ‘*’ 0.05 ‘.’ 0.1 ‘ ’ 1\n",
              "\n",
              "Residual standard error: 3.282 on 55 degrees of freedom\n",
              "Multiple R-squared:  0.2645,\tAdjusted R-squared:  0.2511 \n",
              "F-statistic: 19.78 on 1 and 55 DF,  p-value: 4.274e-05\n"
            ]
          },
          "metadata": {
            "tags": []
          }
        },
        {
          "output_type": "display_data",
          "data": {
            "text/plain": [
              "\n",
              "Call:\n",
              "lm(formula = YoY.Growth ~ Public.Face.Mask.Mandate)\n",
              "\n",
              "Residuals:\n",
              "    Min      1Q  Median      3Q     Max \n",
              "-222.36  -63.65  -11.97   64.25  391.43 \n",
              "\n",
              "Coefficients:\n",
              "                         Estimate Std. Error t value Pr(>|t|)    \n",
              "(Intercept)                234.24      20.07  11.673   <2e-16 ***\n",
              "Public.Face.Mask.Mandate    43.13      34.76   1.241     0.22    \n",
              "---\n",
              "Signif. codes:  0 ‘***’ 0.001 ‘**’ 0.01 ‘*’ 0.05 ‘.’ 0.1 ‘ ’ 1\n",
              "\n",
              "Residual standard error: 123.7 on 55 degrees of freedom\n",
              "Multiple R-squared:  0.02723,\tAdjusted R-squared:  0.009544 \n",
              "F-statistic:  1.54 on 1 and 55 DF,  p-value: 0.2199\n"
            ]
          },
          "metadata": {
            "tags": []
          }
        },
        {
          "output_type": "display_data",
          "data": {
            "text/plain": [
              "\n",
              "Call:\n",
              "lm(formula = MoM.Growth ~ Public.Face.Mask.Mandate)\n",
              "\n",
              "Residuals:\n",
              "    Min      1Q  Median      3Q     Max \n",
              "-195.54  -92.98  -25.16   72.11  539.10 \n",
              "\n",
              "Coefficients:\n",
              "                         Estimate Std. Error t value Pr(>|t|)    \n",
              "(Intercept)                205.03      22.52   9.105 1.43e-12 ***\n",
              "Public.Face.Mask.Mandate    32.55      39.00   0.834    0.408    \n",
              "---\n",
              "Signif. codes:  0 ‘***’ 0.001 ‘**’ 0.01 ‘*’ 0.05 ‘.’ 0.1 ‘ ’ 1\n",
              "\n",
              "Residual standard error: 138.8 on 55 degrees of freedom\n",
              "Multiple R-squared:  0.0125,\tAdjusted R-squared:  -0.005452 \n",
              "F-statistic: 0.6963 on 1 and 55 DF,  p-value: 0.4076\n"
            ]
          },
          "metadata": {
            "tags": []
          }
        },
        {
          "output_type": "display_data",
          "data": {
            "text/plain": [
              "\n",
              "Call:\n",
              "lm(formula = cases_MAR_to_APR ~ Employee.Face.Mask.Mandate)\n",
              "\n",
              "Residuals:\n",
              "   Min     1Q Median     3Q    Max \n",
              "-19357 -12196  -6516   8142  78093 \n",
              "\n",
              "Coefficients:\n",
              "                           Estimate Std. Error t value Pr(>|t|)    \n",
              "(Intercept)                   19707       4352   4.528 3.24e-05 ***\n",
              "Employee.Face.Mask.Mandate     1151       5330   0.216     0.83    \n",
              "---\n",
              "Signif. codes:  0 ‘***’ 0.001 ‘**’ 0.01 ‘*’ 0.05 ‘.’ 0.1 ‘ ’ 1\n",
              "\n",
              "Residual standard error: 18970 on 55 degrees of freedom\n",
              "Multiple R-squared:  0.0008469,\tAdjusted R-squared:  -0.01732 \n",
              "F-statistic: 0.04662 on 1 and 55 DF,  p-value: 0.8299\n"
            ]
          },
          "metadata": {
            "tags": []
          }
        },
        {
          "output_type": "display_data",
          "data": {
            "text/plain": [
              "\n",
              "Call:\n",
              "lm(formula = cases_APR_to_MAY ~ Employee.Face.Mask.Mandate)\n",
              "\n",
              "Residuals:\n",
              "    Min      1Q  Median      3Q     Max \n",
              "-180.06 -104.00  -21.08   46.34  682.59 \n",
              "\n",
              "Coefficients:\n",
              "                           Estimate Std. Error t value Pr(>|t|)    \n",
              "(Intercept)                  167.74      36.96   4.538 3.13e-05 ***\n",
              "Employee.Face.Mask.Mandate    32.17      45.27   0.711     0.48    \n",
              "---\n",
              "Signif. codes:  0 ‘***’ 0.001 ‘**’ 0.01 ‘*’ 0.05 ‘.’ 0.1 ‘ ’ 1\n",
              "\n",
              "Residual standard error: 161.1 on 55 degrees of freedom\n",
              "Multiple R-squared:  0.009097,\tAdjusted R-squared:  -0.00892 \n",
              "F-statistic: 0.5049 on 1 and 55 DF,  p-value: 0.4803\n"
            ]
          },
          "metadata": {
            "tags": []
          }
        },
        {
          "output_type": "display_data",
          "data": {
            "text/plain": [
              "\n",
              "Call:\n",
              "lm(formula = percentage_infected_MAY ~ Employee.Face.Mask.Mandate)\n",
              "\n",
              "Residuals:\n",
              "    Min      1Q  Median      3Q     Max \n",
              "-4.1693 -2.3020 -0.9303  0.5581 13.4276 \n",
              "\n",
              "Coefficients:\n",
              "                           Estimate Std. Error t value Pr(>|t|)  \n",
              "(Intercept)                  1.9191     0.8264   2.322   0.0240 *\n",
              "Employee.Face.Mask.Mandate   2.6938     1.0122   2.661   0.0102 *\n",
              "---\n",
              "Signif. codes:  0 ‘***’ 0.001 ‘**’ 0.01 ‘*’ 0.05 ‘.’ 0.1 ‘ ’ 1\n",
              "\n",
              "Residual standard error: 3.602 on 55 degrees of freedom\n",
              "Multiple R-squared:  0.1141,\tAdjusted R-squared:  0.09798 \n",
              "F-statistic: 7.083 on 1 and 55 DF,  p-value: 0.01018\n"
            ]
          },
          "metadata": {
            "tags": []
          }
        },
        {
          "output_type": "display_data",
          "data": {
            "text/plain": [
              "\n",
              "Call:\n",
              "lm(formula = YoY.Growth ~ Employee.Face.Mask.Mandate)\n",
              "\n",
              "Residuals:\n",
              "    Min      1Q  Median      3Q     Max \n",
              "-185.98  -95.02  -11.62   71.15  395.71 \n",
              "\n",
              "Coefficients:\n",
              "                           Estimate Std. Error t value Pr(>|t|)    \n",
              "(Intercept)                  199.67      27.62   7.231 1.58e-09 ***\n",
              "Employee.Face.Mask.Mandate    73.42      33.82   2.171   0.0343 *  \n",
              "---\n",
              "Signif. codes:  0 ‘***’ 0.001 ‘**’ 0.01 ‘*’ 0.05 ‘.’ 0.1 ‘ ’ 1\n",
              "\n",
              "Residual standard error: 120.4 on 55 degrees of freedom\n",
              "Multiple R-squared:  0.07891,\tAdjusted R-squared:  0.06216 \n",
              "F-statistic: 4.712 on 1 and 55 DF,  p-value: 0.03429\n"
            ]
          },
          "metadata": {
            "tags": []
          }
        },
        {
          "output_type": "display_data",
          "data": {
            "text/plain": [
              "\n",
              "Call:\n",
              "lm(formula = MoM.Growth ~ Employee.Face.Mask.Mandate)\n",
              "\n",
              "Residuals:\n",
              "    Min      1Q  Median      3Q     Max \n",
              "-166.18  -91.50  -39.15   78.18  542.70 \n",
              "\n",
              "Coefficients:\n",
              "                           Estimate Std. Error t value Pr(>|t|)    \n",
              "(Intercept)                  179.70      31.48   5.708 4.75e-07 ***\n",
              "Employee.Face.Mask.Mandate    54.28      38.56   1.408    0.165    \n",
              "---\n",
              "Signif. codes:  0 ‘***’ 0.001 ‘**’ 0.01 ‘*’ 0.05 ‘.’ 0.1 ‘ ’ 1\n",
              "\n",
              "Residual standard error: 137.2 on 55 degrees of freedom\n",
              "Multiple R-squared:  0.03478,\tAdjusted R-squared:  0.01723 \n",
              "F-statistic: 1.982 on 1 and 55 DF,  p-value: 0.1648\n"
            ]
          },
          "metadata": {
            "tags": []
          }
        },
        {
          "output_type": "display_data",
          "data": {
            "text/plain": [
              "\n",
              "Call:\n",
              "lm(formula = cases_MAR_to_APR ~ Travel.Restriction)\n",
              "\n",
              "Residuals:\n",
              "   Min     1Q Median     3Q    Max \n",
              "-22691 -11369  -5975   7258  73608 \n",
              "\n",
              "Coefficients:\n",
              "                   Estimate Std. Error t value Pr(>|t|)    \n",
              "(Intercept)           24192       3212   7.532 5.08e-10 ***\n",
              "Travel.Restriction    -8830       4950  -1.784     0.08 .  \n",
              "---\n",
              "Signif. codes:  0 ‘***’ 0.001 ‘**’ 0.01 ‘*’ 0.05 ‘.’ 0.1 ‘ ’ 1\n",
              "\n",
              "Residual standard error: 18450 on 55 degrees of freedom\n",
              "Multiple R-squared:  0.05469,\tAdjusted R-squared:  0.0375 \n",
              "F-statistic: 3.182 on 1 and 55 DF,  p-value: 0.07997\n"
            ]
          },
          "metadata": {
            "tags": []
          }
        },
        {
          "output_type": "display_data",
          "data": {
            "text/plain": [
              "\n",
              "Call:\n",
              "lm(formula = cases_APR_to_MAY ~ Travel.Restriction)\n",
              "\n",
              "Residuals:\n",
              "    Min      1Q  Median      3Q     Max \n",
              "-170.04 -107.32  -36.00   38.46  658.01 \n",
              "\n",
              "Coefficients:\n",
              "                   Estimate Std. Error t value Pr(>|t|)    \n",
              "(Intercept)          224.48      27.20   8.252 3.39e-11 ***\n",
              "Travel.Restriction   -83.83      41.92  -2.000   0.0505 .  \n",
              "---\n",
              "Signif. codes:  0 ‘***’ 0.001 ‘**’ 0.01 ‘*’ 0.05 ‘.’ 0.1 ‘ ’ 1\n",
              "\n",
              "Residual standard error: 156.3 on 55 degrees of freedom\n",
              "Multiple R-squared:  0.06778,\tAdjusted R-squared:  0.05083 \n",
              "F-statistic: 3.999 on 1 and 55 DF,  p-value: 0.05048\n"
            ]
          },
          "metadata": {
            "tags": []
          }
        },
        {
          "output_type": "display_data",
          "data": {
            "text/plain": [
              "\n",
              "Call:\n",
              "lm(formula = percentage_infected_MAY ~ Travel.Restriction)\n",
              "\n",
              "Residuals:\n",
              "    Min      1Q  Median      3Q     Max \n",
              "-4.1030 -1.8381 -0.7416  0.1346 13.0979 \n",
              "\n",
              "Coefficients:\n",
              "                   Estimate Std. Error t value Pr(>|t|)    \n",
              "(Intercept)          4.9426     0.6155   8.031 7.78e-11 ***\n",
              "Travel.Restriction  -2.9156     0.9485  -3.074  0.00329 ** \n",
              "---\n",
              "Signif. codes:  0 ‘***’ 0.001 ‘**’ 0.01 ‘*’ 0.05 ‘.’ 0.1 ‘ ’ 1\n",
              "\n",
              "Residual standard error: 3.536 on 55 degrees of freedom\n",
              "Multiple R-squared:  0.1466,\tAdjusted R-squared:  0.1311 \n",
              "F-statistic: 9.449 on 1 and 55 DF,  p-value: 0.003285\n"
            ]
          },
          "metadata": {
            "tags": []
          }
        },
        {
          "output_type": "display_data",
          "data": {
            "text/plain": [
              "\n",
              "Call:\n",
              "lm(formula = YoY.Growth ~ Travel.Restriction)\n",
              "\n",
              "Residuals:\n",
              "    Min      1Q  Median      3Q     Max \n",
              "-220.14  -80.06   -0.21   45.11  434.96 \n",
              "\n",
              "Coefficients:\n",
              "                   Estimate Std. Error t value Pr(>|t|)    \n",
              "(Intercept)          259.37      21.72  11.942   <2e-16 ***\n",
              "Travel.Restriction   -25.53      33.47  -0.763    0.449    \n",
              "---\n",
              "Signif. codes:  0 ‘***’ 0.001 ‘**’ 0.01 ‘*’ 0.05 ‘.’ 0.1 ‘ ’ 1\n",
              "\n",
              "Residual standard error: 124.8 on 55 degrees of freedom\n",
              "Multiple R-squared:  0.01046,\tAdjusted R-squared:  -0.007528 \n",
              "F-statistic: 0.5816 on 1 and 55 DF,  p-value: 0.449\n"
            ]
          },
          "metadata": {
            "tags": []
          }
        },
        {
          "output_type": "display_data",
          "data": {
            "text/plain": [
              "\n",
              "Call:\n",
              "lm(formula = MoM.Growth ~ Travel.Restriction)\n",
              "\n",
              "Residuals:\n",
              "    Min      1Q  Median      3Q     Max \n",
              "-190.56 -100.81  -37.74   82.70  572.60 \n",
              "\n",
              "Coefficients:\n",
              "                   Estimate Std. Error t value Pr(>|t|)    \n",
              "(Intercept)          224.47      24.25   9.256 8.25e-13 ***\n",
              "Travel.Restriction   -20.39      37.37  -0.546    0.588    \n",
              "---\n",
              "Signif. codes:  0 ‘***’ 0.001 ‘**’ 0.01 ‘*’ 0.05 ‘.’ 0.1 ‘ ’ 1\n",
              "\n",
              "Residual standard error: 139.3 on 55 degrees of freedom\n",
              "Multiple R-squared:  0.005384,\tAdjusted R-squared:  -0.0127 \n",
              "F-statistic: 0.2977 on 1 and 55 DF,  p-value: 0.5875\n"
            ]
          },
          "metadata": {
            "tags": []
          }
        },
        {
          "output_type": "display_data",
          "data": {
            "text/plain": [
              "\n",
              "Call:\n",
              "lm(formula = cases_MAR_to_APR ~ Large.Gathering.ban)\n",
              "\n",
              "Residuals:\n",
              "   Min     1Q Median     3Q    Max \n",
              "-18689 -11560  -5848   7998  77610 \n",
              "\n",
              "Coefficients:\n",
              "                    Estimate Std. Error t value Pr(>|t|)  \n",
              "(Intercept)            36400      18854   1.931   0.0587 .\n",
              "Large.Gathering.ban   -16210      19022  -0.852   0.3978  \n",
              "---\n",
              "Signif. codes:  0 ‘***’ 0.001 ‘**’ 0.01 ‘*’ 0.05 ‘.’ 0.1 ‘ ’ 1\n",
              "\n",
              "Residual standard error: 18850 on 55 degrees of freedom\n",
              "Multiple R-squared:  0.01303,\tAdjusted R-squared:  -0.004913 \n",
              "F-statistic: 0.7262 on 1 and 55 DF,  p-value: 0.3978\n"
            ]
          },
          "metadata": {
            "tags": []
          }
        },
        {
          "output_type": "display_data",
          "data": {
            "text/plain": [
              "\n",
              "Call:\n",
              "lm(formula = cases_APR_to_MAY ~ Large.Gathering.ban)\n",
              "\n",
              "Residuals:\n",
              "    Min      1Q  Median      3Q     Max \n",
              "-183.17  -89.83  -13.86   44.46  696.76 \n",
              "\n",
              "Coefficients:\n",
              "                    Estimate Std. Error t value Pr(>|t|)  \n",
              "(Intercept)            382.5      159.7   2.395   0.0201 *\n",
              "Large.Gathering.ban   -196.7      161.1  -1.221   0.2273  \n",
              "---\n",
              "Signif. codes:  0 ‘***’ 0.001 ‘**’ 0.01 ‘*’ 0.05 ‘.’ 0.1 ‘ ’ 1\n",
              "\n",
              "Residual standard error: 159.7 on 55 degrees of freedom\n",
              "Multiple R-squared:  0.02639,\tAdjusted R-squared:  0.008689 \n",
              "F-statistic: 1.491 on 1 and 55 DF,  p-value: 0.2273\n"
            ]
          },
          "metadata": {
            "tags": []
          }
        },
        {
          "output_type": "display_data",
          "data": {
            "text/plain": [
              "\n",
              "Call:\n",
              "lm(formula = percentage_infected_MAY ~ Large.Gathering.ban)\n",
              "\n",
              "Residuals:\n",
              "    Min      1Q  Median      3Q     Max \n",
              "-3.5511 -2.1195 -1.4205  0.7128 14.3004 \n",
              "\n",
              "Coefficients:\n",
              "                    Estimate Std. Error t value Pr(>|t|)\n",
              "(Intercept)            2.311      3.823   0.605    0.548\n",
              "Large.Gathering.ban    1.429      3.856   0.371    0.712\n",
              "\n",
              "Residual standard error: 3.823 on 55 degrees of freedom\n",
              "Multiple R-squared:  0.002491,\tAdjusted R-squared:  -0.01565 \n",
              "F-statistic: 0.1373 on 1 and 55 DF,  p-value: 0.7124\n"
            ]
          },
          "metadata": {
            "tags": []
          }
        },
        {
          "output_type": "display_data",
          "data": {
            "text/plain": [
              "\n",
              "Call:\n",
              "lm(formula = YoY.Growth ~ Large.Gathering.ban)\n",
              "\n",
              "Residuals:\n",
              "    Min      1Q  Median      3Q     Max \n",
              "-234.58  -77.69    5.86   50.21  420.52 \n",
              "\n",
              "Coefficients:\n",
              "                    Estimate Std. Error t value Pr(>|t|)  \n",
              "(Intercept)           267.57     125.40   2.134   0.0373 *\n",
              "Large.Gathering.ban   -19.29     126.51  -0.153   0.8793  \n",
              "---\n",
              "Signif. codes:  0 ‘***’ 0.001 ‘**’ 0.01 ‘*’ 0.05 ‘.’ 0.1 ‘ ’ 1\n",
              "\n",
              "Residual standard error: 125.4 on 55 degrees of freedom\n",
              "Multiple R-squared:  0.0004227,\tAdjusted R-squared:  -0.01775 \n",
              "F-statistic: 0.02326 on 1 and 55 DF,  p-value: 0.8793\n"
            ]
          },
          "metadata": {
            "tags": []
          }
        },
        {
          "output_type": "display_data",
          "data": {
            "text/plain": [
              "\n",
              "Call:\n",
              "lm(formula = MoM.Growth ~ Large.Gathering.ban)\n",
              "\n",
              "Residuals:\n",
              "    Min      1Q  Median      3Q     Max \n",
              "-200.36  -99.39  -29.19   66.38  562.81 \n",
              "\n",
              "Coefficients:\n",
              "                    Estimate Std. Error t value Pr(>|t|)  \n",
              "(Intercept)            328.3      138.8   2.365   0.0216 *\n",
              "Large.Gathering.ban   -114.5      140.1  -0.817   0.4174  \n",
              "---\n",
              "Signif. codes:  0 ‘***’ 0.001 ‘**’ 0.01 ‘*’ 0.05 ‘.’ 0.1 ‘ ’ 1\n",
              "\n",
              "Residual standard error: 138.8 on 55 degrees of freedom\n",
              "Multiple R-squared:  0.01199,\tAdjusted R-squared:  -0.005971 \n",
              "F-statistic: 0.6676 on 1 and 55 DF,  p-value: 0.4174\n"
            ]
          },
          "metadata": {
            "tags": []
          }
        },
        {
          "output_type": "display_data",
          "data": {
            "text/plain": [
              "\n",
              "Call:\n",
              "lm(formula = cases_MAR_to_APR ~ Employee.Screening)\n",
              "\n",
              "Residuals:\n",
              "   Min     1Q Median     3Q    Max \n",
              "-20390 -11897  -6919   6880  74303 \n",
              "\n",
              "Coefficients:\n",
              "                   Estimate Std. Error t value Pr(>|t|)    \n",
              "(Intercept)           23497       3922   5.991 1.66e-07 ***\n",
              "Employee.Screening    -5067       5078  -0.998    0.323    \n",
              "---\n",
              "Signif. codes:  0 ‘***’ 0.001 ‘**’ 0.01 ‘*’ 0.05 ‘.’ 0.1 ‘ ’ 1\n",
              "\n",
              "Residual standard error: 18810 on 55 degrees of freedom\n",
              "Multiple R-squared:  0.01778,\tAdjusted R-squared:  -7.606e-05 \n",
              "F-statistic: 0.9957 on 1 and 55 DF,  p-value: 0.3227\n"
            ]
          },
          "metadata": {
            "tags": []
          }
        },
        {
          "output_type": "display_data",
          "data": {
            "text/plain": [
              "\n",
              "Call:\n",
              "lm(formula = cases_APR_to_MAY ~ Employee.Screening)\n",
              "\n",
              "Residuals:\n",
              "    Min      1Q  Median      3Q     Max \n",
              "-216.43  -94.25  -12.90   48.52  663.50 \n",
              "\n",
              "Coefficients:\n",
              "                   Estimate Std. Error t value Pr(>|t|)    \n",
              "(Intercept)          219.00      33.34   6.568 1.92e-08 ***\n",
              "Employee.Screening   -49.98      43.17  -1.158    0.252    \n",
              "---\n",
              "Signif. codes:  0 ‘***’ 0.001 ‘**’ 0.01 ‘*’ 0.05 ‘.’ 0.1 ‘ ’ 1\n",
              "\n",
              "Residual standard error: 159.9 on 55 degrees of freedom\n",
              "Multiple R-squared:  0.02379,\tAdjusted R-squared:  0.006036 \n",
              "F-statistic:  1.34 on 1 and 55 DF,  p-value: 0.252\n"
            ]
          },
          "metadata": {
            "tags": []
          }
        },
        {
          "output_type": "display_data",
          "data": {
            "text/plain": [
              "\n",
              "Call:\n",
              "lm(formula = percentage_infected_MAY ~ Employee.Screening)\n",
              "\n",
              "Residuals:\n",
              "   Min     1Q Median     3Q    Max \n",
              "-3.709 -2.220 -1.403  1.035 14.125 \n",
              "\n",
              "Coefficients:\n",
              "                   Estimate Std. Error t value Pr(>|t|)    \n",
              "(Intercept)          3.4182     0.7964   4.292 7.23e-05 ***\n",
              "Employee.Screening   0.4975     1.0311   0.482    0.631    \n",
              "---\n",
              "Signif. codes:  0 ‘***’ 0.001 ‘**’ 0.01 ‘*’ 0.05 ‘.’ 0.1 ‘ ’ 1\n",
              "\n",
              "Residual standard error: 3.819 on 55 degrees of freedom\n",
              "Multiple R-squared:  0.004215,\tAdjusted R-squared:  -0.01389 \n",
              "F-statistic: 0.2328 on 1 and 55 DF,  p-value: 0.6314\n"
            ]
          },
          "metadata": {
            "tags": []
          }
        },
        {
          "output_type": "display_data",
          "data": {
            "text/plain": [
              "\n",
              "Call:\n",
              "lm(formula = YoY.Growth ~ Employee.Screening)\n",
              "\n",
              "Residuals:\n",
              "    Min      1Q  Median      3Q     Max \n",
              "-257.48  -91.87  -10.35   55.55  397.63 \n",
              "\n",
              "Coefficients:\n",
              "                   Estimate Std. Error t value Pr(>|t|)    \n",
              "(Intercept)          215.27      25.50   8.443 1.66e-11 ***\n",
              "Employee.Screening    55.90      33.01   1.693    0.096 .  \n",
              "---\n",
              "Signif. codes:  0 ‘***’ 0.001 ‘**’ 0.01 ‘*’ 0.05 ‘.’ 0.1 ‘ ’ 1\n",
              "\n",
              "Residual standard error: 122.3 on 55 degrees of freedom\n",
              "Multiple R-squared:  0.04955,\tAdjusted R-squared:  0.03227 \n",
              "F-statistic: 2.868 on 1 and 55 DF,  p-value: 0.09604\n"
            ]
          },
          "metadata": {
            "tags": []
          }
        },
        {
          "output_type": "display_data",
          "data": {
            "text/plain": [
              "\n",
              "Call:\n",
              "lm(formula = MoM.Growth ~ Employee.Screening)\n",
              "\n",
              "Residuals:\n",
              "    Min      1Q  Median      3Q     Max \n",
              "-218.98  -88.18  -46.25   85.46  544.19 \n",
              "\n",
              "Coefficients:\n",
              "                   Estimate Std. Error t value Pr(>|t|)    \n",
              "(Intercept)          191.33      28.81   6.641 1.46e-08 ***\n",
              "Employee.Screening    41.16      37.30   1.104    0.275    \n",
              "---\n",
              "Signif. codes:  0 ‘***’ 0.001 ‘**’ 0.01 ‘*’ 0.05 ‘.’ 0.1 ‘ ’ 1\n",
              "\n",
              "Residual standard error: 138.2 on 55 degrees of freedom\n",
              "Multiple R-squared:  0.02166,\tAdjusted R-squared:  0.003874 \n",
              "F-statistic: 1.218 on 1 and 55 DF,  p-value: 0.2746\n"
            ]
          },
          "metadata": {
            "tags": []
          }
        }
      ]
    },
    {
      "cell_type": "code",
      "metadata": {
        "id": "VmbFcKdQWx7P",
        "colab_type": "code",
        "colab": {}
      },
      "source": [
        "rating <- read.csv(\"./rating.csv\")"
      ],
      "execution_count": 0,
      "outputs": []
    },
    {
      "cell_type": "code",
      "metadata": {
        "id": "HZfrtSq_rcJV",
        "colab_type": "code",
        "outputId": "436ec13f-8ceb-4ea3-b7bf-1cece98edaa5",
        "colab": {
          "base_uri": "https://localhost:8080/",
          "height": 393
        }
      },
      "source": [
        "rating"
      ],
      "execution_count": 0,
      "outputs": [
        {
          "output_type": "display_data",
          "data": {
            "text/plain": [
              "   Policy                                Effectiveness Impact.on.Labour.Market\n",
              "1  Ordered Closure of K-12 schools       -2.0           0.0                   \n",
              "2  Closed daycares                       -1.0           1.0                   \n",
              "3  Banned visits to long-term care homes -0.5          -0.5                   \n",
              "4  Closed non-essential businesses        0.0          -1.0                   \n",
              "5  Closed restaurants except take out    -0.5           0.0                   \n",
              "6  Closed cannabis and liquor stores     -2.5          -2.0                   \n",
              "7  Closed gyms                            0.5           0.5                   \n",
              "8  Closed movie theaters                  0.5          -1.5                   \n",
              "9  Froze evictions                        0.0           0.5                   \n",
              "10 Ordered freezing utility shut offs     0.0           1.0                   \n",
              "11 Public Face Mask Mandate               2.0          -1.5                   \n",
              "12 Employee Face Mask Mandate             0.0          -1.5                   \n",
              "13 Travel Restriction                     2.5           1.0                   \n",
              "14 Large Gathering ban                    1.5           1.5                   \n",
              "15 Employee Screening                     1.0          -1.5                   "
            ],
            "text/latex": "A data.frame: 15 × 3\n\\begin{tabular}{lll}\n Policy & Effectiveness & Impact.on.Labour.Market\\\\\n <fct> & <dbl> & <dbl>\\\\\n\\hline\n\t Ordered Closure of K-12 schools       & -2.0 &  0.0\\\\\n\t Closed daycares                       & -1.0 &  1.0\\\\\n\t Banned visits to long-term care homes & -0.5 & -0.5\\\\\n\t Closed non-essential businesses       &  0.0 & -1.0\\\\\n\t Closed restaurants except take out    & -0.5 &  0.0\\\\\n\t Closed cannabis and liquor stores     & -2.5 & -2.0\\\\\n\t Closed gyms                           &  0.5 &  0.5\\\\\n\t Closed movie theaters                 &  0.5 & -1.5\\\\\n\t Froze evictions                       &  0.0 &  0.5\\\\\n\t Ordered freezing utility shut offs    &  0.0 &  1.0\\\\\n\t Public Face Mask Mandate              &  2.0 & -1.5\\\\\n\t Employee Face Mask Mandate            &  0.0 & -1.5\\\\\n\t Travel Restriction                    &  2.5 &  1.0\\\\\n\t Large Gathering ban                   &  1.5 &  1.5\\\\\n\t Employee Screening                    &  1.0 & -1.5\\\\\n\\end{tabular}\n",
            "text/markdown": "\nA data.frame: 15 × 3\n\n| Policy &lt;fct&gt; | Effectiveness &lt;dbl&gt; | Impact.on.Labour.Market &lt;dbl&gt; |\n|---|---|---|\n| Ordered Closure of K-12 schools       | -2.0 |  0.0 |\n| Closed daycares                       | -1.0 |  1.0 |\n| Banned visits to long-term care homes | -0.5 | -0.5 |\n| Closed non-essential businesses       |  0.0 | -1.0 |\n| Closed restaurants except take out    | -0.5 |  0.0 |\n| Closed cannabis and liquor stores     | -2.5 | -2.0 |\n| Closed gyms                           |  0.5 |  0.5 |\n| Closed movie theaters                 |  0.5 | -1.5 |\n| Froze evictions                       |  0.0 |  0.5 |\n| Ordered freezing utility shut offs    |  0.0 |  1.0 |\n| Public Face Mask Mandate              |  2.0 | -1.5 |\n| Employee Face Mask Mandate            |  0.0 | -1.5 |\n| Travel Restriction                    |  2.5 |  1.0 |\n| Large Gathering ban                   |  1.5 |  1.5 |\n| Employee Screening                    |  1.0 | -1.5 |\n\n",
            "text/html": [
              "<table>\n",
              "<caption>A data.frame: 15 × 3</caption>\n",
              "<thead>\n",
              "\t<tr><th scope=col>Policy</th><th scope=col>Effectiveness</th><th scope=col>Impact.on.Labour.Market</th></tr>\n",
              "\t<tr><th scope=col>&lt;fct&gt;</th><th scope=col>&lt;dbl&gt;</th><th scope=col>&lt;dbl&gt;</th></tr>\n",
              "</thead>\n",
              "<tbody>\n",
              "\t<tr><td>Ordered Closure of K-12 schools      </td><td>-2.0</td><td> 0.0</td></tr>\n",
              "\t<tr><td>Closed daycares                      </td><td>-1.0</td><td> 1.0</td></tr>\n",
              "\t<tr><td>Banned visits to long-term care homes</td><td>-0.5</td><td>-0.5</td></tr>\n",
              "\t<tr><td>Closed non-essential businesses      </td><td> 0.0</td><td>-1.0</td></tr>\n",
              "\t<tr><td>Closed restaurants except take out   </td><td>-0.5</td><td> 0.0</td></tr>\n",
              "\t<tr><td>Closed cannabis and liquor stores    </td><td>-2.5</td><td>-2.0</td></tr>\n",
              "\t<tr><td>Closed gyms                          </td><td> 0.5</td><td> 0.5</td></tr>\n",
              "\t<tr><td>Closed movie theaters                </td><td> 0.5</td><td>-1.5</td></tr>\n",
              "\t<tr><td>Froze evictions                      </td><td> 0.0</td><td> 0.5</td></tr>\n",
              "\t<tr><td>Ordered freezing utility shut offs   </td><td> 0.0</td><td> 1.0</td></tr>\n",
              "\t<tr><td>Public Face Mask Mandate             </td><td> 2.0</td><td>-1.5</td></tr>\n",
              "\t<tr><td>Employee Face Mask Mandate           </td><td> 0.0</td><td>-1.5</td></tr>\n",
              "\t<tr><td>Travel Restriction                   </td><td> 2.5</td><td> 1.0</td></tr>\n",
              "\t<tr><td>Large Gathering ban                  </td><td> 1.5</td><td> 1.5</td></tr>\n",
              "\t<tr><td>Employee Screening                   </td><td> 1.0</td><td>-1.5</td></tr>\n",
              "</tbody>\n",
              "</table>\n"
            ]
          },
          "metadata": {
            "tags": []
          }
        }
      ]
    },
    {
      "cell_type": "code",
      "metadata": {
        "id": "oTQMEwlHrfPM",
        "colab_type": "code",
        "outputId": "6d6ac9b1-70b1-41d8-bc33-b06776a859d4",
        "colab": {
          "base_uri": "https://localhost:8080/",
          "height": 102
        }
      },
      "source": [
        "# install.packages(\"ggrepel\")\n",
        "library(ggrepel)\n",
        "\n",
        "jpeg(\"rating.jpeg\", width = 1500, height = 1500, res=200)\n",
        "\n",
        "rating %>% ggplot(aes(x = Effectiveness, y = Impact.on.Labour.Market, label= Policy)) + \n",
        "    geom_point(size = 4) +\n",
        "    geom_label_repel() +\n",
        "    xlim(-2, 2) +\n",
        "    ylim(-2, 2)\n",
        "\n",
        "dev.off()"
      ],
      "execution_count": 0,
      "outputs": [
        {
          "output_type": "stream",
          "text": [
            "Warning message:\n",
            "“Removed 2 rows containing missing values (geom_point).”\n",
            "Warning message:\n",
            "“Removed 2 rows containing missing values (geom_label_repel).”\n"
          ],
          "name": "stderr"
        },
        {
          "output_type": "display_data",
          "data": {
            "text/plain": [
              "png \n",
              "  2 "
            ],
            "text/latex": "\\textbf{png:} 2",
            "text/markdown": "**png:** 2",
            "text/html": [
              "<strong>png:</strong> 2"
            ]
          },
          "metadata": {
            "tags": []
          }
        }
      ]
    }
  ]
}